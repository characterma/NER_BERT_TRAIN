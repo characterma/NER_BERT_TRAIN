{
 "cells": [
  {
   "cell_type": "code",
   "execution_count": 1,
   "metadata": {
    "tags": []
   },
   "outputs": [],
   "source": [
    "%load_ext autoreload\n",
    "%autoreload 1\n",
    "%aimport keyword_match \n",
    "\n",
    "import emoji\n",
    "import re\n",
    "import random\n",
    "import pandas as pd \n",
    "import numpy as np\n",
    "from pandarallel import pandarallel\n",
    "from opencc import OpenCC\n",
    "from tqdm.auto import tqdm\n",
    "from zhconv import convert\n",
    "import copy\n",
    "import json\n",
    "from keyword_match import KeyWordExtractor"
   ]
  },
  {
   "cell_type": "code",
   "execution_count": 2,
   "metadata": {
    "tags": []
   },
   "outputs": [
    {
     "name": "stdout",
     "output_type": "stream",
     "text": [
      "companys: 20955， True， True, False\n"
     ]
    }
   ],
   "source": [
    "companys = list(json.load(open(\"/workspace/ner-starbucks/configs/company_entity.json\", 'r', encoding='utf-8')).keys())\n",
    "print(f\"companys: {len(companys)}， {'老乡鸡' in companys}， {'中国' in companys}, {'南京' in companys}\")\n",
    "key_word_extrator = KeyWordExtractor(dictionary=companys, use_fixed=True, case_sensitive=True)\n"
   ]
  },
  {
   "cell_type": "code",
   "execution_count": 3,
   "metadata": {
    "tags": []
   },
   "outputs": [
    {
     "data": {
      "text/plain": [
       "5556"
      ]
     },
     "execution_count": 3,
     "metadata": {},
     "output_type": "execute_result"
    }
   ],
   "source": [
    "error_company_entity = json.load(open(\"/workspace/NER/error_company_entity.json\", 'r', encoding='utf-8'))\n",
    "error_company_entity.__len__()"
   ]
  },
  {
   "cell_type": "markdown",
   "metadata": {},
   "source": [
    "# 处理得到所有的中国城市名称，用来过滤标注结果中没有城市名称"
   ]
  },
  {
   "cell_type": "code",
   "execution_count": 26,
   "metadata": {
    "tags": []
   },
   "outputs": [],
   "source": [
    "chinacity = json.load(open(\"/workspace/NER/data/chinacity.json\", 'r', encoding='utf-8'))\n",
    "pattern = r\"'name': '([\\u4e00-\\u9fff]+)'\"\n",
    "city_set = set()\n",
    "matches = re.findall(pattern, str(chinacity))\n",
    "if matches:\n",
    "    for match in matches:\n",
    "        # print(match)\n",
    "        city_set.add(match)\n",
    "else:\n",
    "    print(\"No match found\")"
   ]
  },
  {
   "cell_type": "code",
   "execution_count": 27,
   "metadata": {
    "tags": []
   },
   "outputs": [
    {
     "data": {
      "text/plain": [
       "2604"
      ]
     },
     "execution_count": 27,
     "metadata": {},
     "output_type": "execute_result"
    }
   ],
   "source": [
    "city_set.__len__()"
   ]
  },
  {
   "cell_type": "markdown",
   "metadata": {},
   "source": [
    "# 处理之前ner积累的标注数据"
   ]
  },
  {
   "cell_type": "code",
   "execution_count": 4,
   "metadata": {
    "tags": []
   },
   "outputs": [
    {
     "name": "stdout",
     "output_type": "stream",
     "text": [
      "(1000, 2)\n"
     ]
    },
    {
     "data": {
      "text/html": [
       "<div>\n",
       "<style scoped>\n",
       "    .dataframe tbody tr th:only-of-type {\n",
       "        vertical-align: middle;\n",
       "    }\n",
       "\n",
       "    .dataframe tbody tr th {\n",
       "        vertical-align: top;\n",
       "    }\n",
       "\n",
       "    .dataframe thead th {\n",
       "        text-align: right;\n",
       "    }\n",
       "</style>\n",
       "<table border=\"1\" class=\"dataframe\">\n",
       "  <thead>\n",
       "    <tr style=\"text-align: right;\">\n",
       "      <th></th>\n",
       "      <th>docid</th>\n",
       "      <th>content</th>\n",
       "      <th>labels</th>\n",
       "    </tr>\n",
       "  </thead>\n",
       "  <tbody>\n",
       "    <tr>\n",
       "      <th>0</th>\n",
       "      <td>0</td>\n",
       "      <td>——以捲煙廠為例\\n\\n\\n\\n浙江中煙工業有限責任公司  單宇翔  郁鋼  陸海良  高揚...</td>\n",
       "      <td>[{'label_name': 'Company', 'text_segment': '浙江...</td>\n",
       "    </tr>\n",
       "    <tr>\n",
       "      <th>1</th>\n",
       "      <td>1</td>\n",
       "      <td>原標題：脫歐不明英國樓市受困 中國投資者趁機入場\\n\\n\\n\\n本報記者 姚瑤 上海報道\\n...</td>\n",
       "      <td>[{'label_name': 'Location', 'text_segment': '英...</td>\n",
       "    </tr>\n",
       "    <tr>\n",
       "      <th>2</th>\n",
       "      <td>2</td>\n",
       "      <td>原標題：午評：兩市沖高回落賽馬概念午前崛起 高位股現跌停潮\\n\\n\\n\\n金融界網站28日訊...</td>\n",
       "      <td>[{'label_name': 'Source', 'text_segment': '金融界...</td>\n",
       "    </tr>\n",
       "    <tr>\n",
       "      <th>3</th>\n",
       "      <td>3</td>\n",
       "      <td>原標題：增厚業績扭虧保殼 多家上市公司\"賣房過年\"\\n\\n\\n\\n東方IC/供圖\\n\\n\\n...</td>\n",
       "      <td>[{'label_name': 'Source', 'text_segment': '證券時...</td>\n",
       "    </tr>\n",
       "    <tr>\n",
       "      <th>4</th>\n",
       "      <td>4</td>\n",
       "      <td>核心閱讀\\n\\n\\n\\n隨著相關配套規則開始徵求意見，\"科創板\"\"註冊制\"揭開面紗。\\n\\n...</td>\n",
       "      <td>[{'label_name': 'Organization', 'text_segment'...</td>\n",
       "    </tr>\n",
       "  </tbody>\n",
       "</table>\n",
       "</div>"
      ],
      "text/plain": [
       "   docid                                            content  \\\n",
       "0      0  ——以捲煙廠為例\\n\\n\\n\\n浙江中煙工業有限責任公司  單宇翔  郁鋼  陸海良  高揚...   \n",
       "1      1  原標題：脫歐不明英國樓市受困 中國投資者趁機入場\\n\\n\\n\\n本報記者 姚瑤 上海報道\\n...   \n",
       "2      2  原標題：午評：兩市沖高回落賽馬概念午前崛起 高位股現跌停潮\\n\\n\\n\\n金融界網站28日訊...   \n",
       "3      3  原標題：增厚業績扭虧保殼 多家上市公司\"賣房過年\"\\n\\n\\n\\n東方IC/供圖\\n\\n\\n...   \n",
       "4      4  核心閱讀\\n\\n\\n\\n隨著相關配套規則開始徵求意見，\"科創板\"\"註冊制\"揭開面紗。\\n\\n...   \n",
       "\n",
       "                                              labels  \n",
       "0  [{'label_name': 'Company', 'text_segment': '浙江...  \n",
       "1  [{'label_name': 'Location', 'text_segment': '英...  \n",
       "2  [{'label_name': 'Source', 'text_segment': '金融界...  \n",
       "3  [{'label_name': 'Source', 'text_segment': '證券時...  \n",
       "4  [{'label_name': 'Organization', 'text_segment'...  "
      ]
     },
     "execution_count": 4,
     "metadata": {},
     "output_type": "execute_result"
    }
   ],
   "source": [
    "golden_standard_df = pd.read_json(\"/workspace/NER/bochk/golden_standard 1.json\")\n",
    "print(golden_standard_df.shape)\n",
    "golden_standard_df = golden_standard_df.reset_index().rename(columns={'index': \"docid\"})\n",
    "golden_standard_df.head()\n"
   ]
  },
  {
   "cell_type": "code",
   "execution_count": 5,
   "metadata": {
    "tags": []
   },
   "outputs": [],
   "source": [
    "def read_jsonl(path):\n",
    "    data_list = []\n",
    "    with open(path, 'r') as f:\n",
    "        for line in f:\n",
    "            data_list.append(json.loads(line))\n",
    "    return data_list"
   ]
  },
  {
   "cell_type": "code",
   "execution_count": 6,
   "metadata": {
    "tags": []
   },
   "outputs": [],
   "source": [
    "def judge_is_include_entity_this_type(entity_list, entity_type):\n",
    "    try:\n",
    "        if isinstance(entity_list, list):\n",
    "            return any([dic['label_name']==entity_type for dic in entity_list])\n",
    "        elif isinstance(entity_list, float):\n",
    "            return False\n",
    "    except: \n",
    "        return False\n",
    "        "
   ]
  },
  {
   "cell_type": "code",
   "execution_count": 7,
   "metadata": {
    "tags": []
   },
   "outputs": [],
   "source": [
    "ner_data = pd.DataFrame(read_jsonl(\"/workspace/NER/bochk/ner_data.jsonl\"))\n",
    "complete_ner_data = pd.concat([ner_data, golden_standard_df])\n",
    "complete_ner_data['include_company'] = complete_ner_data['labels'].apply(judge_is_include_entity_this_type, args=(\"Company\", ))\n",
    "complete_ner_data['include_person'] = complete_ner_data['labels'].apply(judge_is_include_entity_this_type, args=(\"Person\", ))\n"
   ]
  },
  {
   "cell_type": "code",
   "execution_count": 8,
   "metadata": {
    "tags": []
   },
   "outputs": [
    {
     "name": "stderr",
     "output_type": "stream",
     "text": [
      "/opt/conda/lib/python3.8/site-packages/pandas/core/frame.py:5039: SettingWithCopyWarning: \n",
      "A value is trying to be set on a copy of a slice from a DataFrame\n",
      "\n",
      "See the caveats in the documentation: https://pandas.pydata.org/pandas-docs/stable/user_guide/indexing.html#returning-a-view-versus-a-copy\n",
      "  return super().rename(\n"
     ]
    },
    {
     "data": {
      "text/plain": [
       "((10083, 5),\n",
       " Index(['docid', 'content', 'ner', 'include_company', 'include_person'], dtype='object'))"
      ]
     },
     "execution_count": 8,
     "metadata": {},
     "output_type": "execute_result"
    }
   ],
   "source": [
    "include_target_df = complete_ner_data[(complete_ner_data['include_company']==True) | (complete_ner_data['include_person']==True)]\n",
    "include_target_df.rename(columns={'labels': \"ner\"}, inplace=True)\n",
    "include_target_df.shape, include_target_df.columns"
   ]
  },
  {
   "cell_type": "code",
   "execution_count": 9,
   "metadata": {
    "tags": []
   },
   "outputs": [
    {
     "name": "stderr",
     "output_type": "stream",
     "text": [
      "/tmp/ipykernel_58026/3509638205.py:1: SettingWithCopyWarning: \n",
      "A value is trying to be set on a copy of a slice from a DataFrame.\n",
      "Try using .loc[row_indexer,col_indexer] = value instead\n",
      "\n",
      "See the caveats in the documentation: https://pandas.pydata.org/pandas-docs/stable/user_guide/indexing.html#returning-a-view-versus-a-copy\n",
      "  include_target_df['length'] = include_target_df['content'].apply(len)\n"
     ]
    },
    {
     "data": {
      "text/plain": [
       "(7301, 6)"
      ]
     },
     "execution_count": 9,
     "metadata": {},
     "output_type": "execute_result"
    }
   ],
   "source": [
    "include_target_df['length'] = include_target_df['content'].apply(len)\n",
    "include_target_df[include_target_df['length']>512].shape"
   ]
  },
  {
   "cell_type": "markdown",
   "metadata": {
    "tags": []
   },
   "source": [
    "# 处理bochk人工标注的数据"
   ]
  },
  {
   "cell_type": "code",
   "execution_count": 10,
   "metadata": {
    "tags": []
   },
   "outputs": [
    {
     "data": {
      "text/plain": [
       "Index(['docid', 'headline', 'content', 'ner', 'matched_keywords',\n",
       "       'include_company', 'include_person', 'length'],\n",
       "      dtype='object')"
      ]
     },
     "execution_count": 10,
     "metadata": {},
     "output_type": "execute_result"
    }
   ],
   "source": [
    "data = pd.read_excel(\"/workspace/NER/bochk/bochk.xlsx\")\n",
    "data['include_company'] = True\n",
    "data['include_person'] = True\n",
    "# data['headline_content'] = data['content']\n",
    "manual_label_data = pd.concat([data, include_target_df])\n",
    "manual_label_data.columns"
   ]
  },
  {
   "cell_type": "code",
   "execution_count": 11,
   "metadata": {
    "tags": []
   },
   "outputs": [],
   "source": [
    "from zhconv import convert\n",
    "import copy\n",
    "def split_sentences(text):\n",
    "    \n",
    "    sentences_ls = re.split(r'[?!;~。？！；～>\\n\\r]', text)\n",
    "    sentences = [sent for sent in sentences_ls if sent.strip() != '']\n",
    "    # sentences = list(zip(list(range(0, len(sentences))), sentences))\n",
    "    return sentences\n",
    "\n",
    "def split_single_sentence(data: pd.DataFrame, sentence_length_limit: int=500):\n",
    "    \"\"\"\n",
    "    讲文章按照句号分割成句子\n",
    "    :param data:\n",
    "    :return:\n",
    "    \"\"\"\n",
    "    complete_data_list = []\n",
    "    for index, row in data.iterrows():\n",
    "        raw_single_dic = dict(row)\n",
    "        content = convert(row['content'], 'zh-cn')\n",
    "        processed_content_ls = split_sentences(content)\n",
    "        last_sentence_index = 0\n",
    "        sentence_index = 0\n",
    "        for i in range(processed_content_ls.__len__()+1):\n",
    "            # print(last_sentence_index, i)\n",
    "            text = \"。\".join(processed_content_ls[last_sentence_index:i+1])\n",
    "\n",
    "            if text.strip() != \"\":\n",
    "                if text.__len__() >= sentence_length_limit:\n",
    "                    # print(\"***\", last_sentence_index, i, text.__len__(), \"。\".join(processed_content_ls[last_sentence_index:i]).__len__())\n",
    "                    raw_single_dic_backup = copy.copy(raw_single_dic)\n",
    "                    raw_single_dic_backup['content'] = \"。\".join(processed_content_ls[last_sentence_index:i])\n",
    "                    raw_single_dic_backup['split_sentence_index'] = sentence_index\n",
    "                    complete_data_list.append(raw_single_dic_backup)\n",
    "                    last_sentence_index = i\n",
    "                    sentence_index += 1\n",
    "                else:\n",
    "                    if i+1 == processed_content_ls.__len__():\n",
    "                        # print(\"===\", last_sentence_index, i, text.__len__())\n",
    "                        raw_single_dic_backup = copy.copy(raw_single_dic)\n",
    "                        raw_single_dic_backup['content'] = \"。\".join(processed_content_ls[last_sentence_index:])\n",
    "                        raw_single_dic_backup['split_sentence_index'] = sentence_index\n",
    "                        complete_data_list.append(raw_single_dic_backup)\n",
    "                        \n",
    "                    else:\n",
    "                        pass\n",
    "    return pd.DataFrame(complete_data_list)"
   ]
  },
  {
   "cell_type": "code",
   "execution_count": 12,
   "metadata": {
    "tags": []
   },
   "outputs": [
    {
     "data": {
      "text/plain": [
       "((42980, 9),\n",
       " Index(['docid', 'headline', 'content', 'ner', 'matched_keywords',\n",
       "        'include_company', 'include_person', 'length', 'split_sentence_index'],\n",
       "       dtype='object'))"
      ]
     },
     "execution_count": 12,
     "metadata": {},
     "output_type": "execute_result"
    }
   ],
   "source": [
    "split_sentence_df = split_single_sentence(manual_label_data)\n",
    "split_sentence_df.shape, split_sentence_df.columns"
   ]
  },
  {
   "cell_type": "code",
   "execution_count": 13,
   "metadata": {
    "tags": []
   },
   "outputs": [
    {
     "data": {
      "text/plain": [
       "(336, 9)"
      ]
     },
     "execution_count": 13,
     "metadata": {},
     "output_type": "execute_result"
    }
   ],
   "source": [
    "split_sentence_df['length'] = split_sentence_df['content'].apply(len)\n",
    "split_sentence_df[split_sentence_df['length']> 512].shape"
   ]
  },
  {
   "cell_type": "code",
   "execution_count": 32,
   "metadata": {
    "tags": []
   },
   "outputs": [],
   "source": [
    "def get_keyword(row):\n",
    "    companys = set()\n",
    "    person = set()\n",
    "    if isinstance(row['ner'], str):\n",
    "        ner_list = eval(row['ner'])\n",
    "    elif isinstance(row['ner'], list):\n",
    "        ner_list = row['ner']\n",
    "    # print(ner_list)\n",
    "    for dic in ner_list:\n",
    "        entity = convert(dic['text_segment'], 'zh-cn')\n",
    "        if entity in row['content']:\n",
    "            if dic['label_name']=='Company':\n",
    "                companys.add(entity)\n",
    "            elif dic['label_name']=='Person' :\n",
    "                person.add(entity) \n",
    "                \n",
    "    content = convert(row['content'], 'zh-cn')\n",
    "    company_entity = key_word_extrator.extract(content)\n",
    "    keyword_matched = set([tup[0] for tup in company_entity])\n",
    "    companys.update(keyword_matched)\n",
    "    fix_companys = [ent for ent in companys if ent not in error_company_entity and ent not in city_set and not ent.endswith(\"大学\") and ent not in (\"汇聚\", '自动化', \"EDA\")]\n",
    "    return list(fix_companys), list(person)\n",
    "    \n",
    "\n",
    "split_sentence_df[['Companys', \"Persons\"]] = split_sentence_df.apply(get_keyword, axis=1, result_type='expand')"
   ]
  },
  {
   "cell_type": "code",
   "execution_count": 33,
   "metadata": {
    "tags": []
   },
   "outputs": [
    {
     "data": {
      "text/html": [
       "<div>\n",
       "<style scoped>\n",
       "    .dataframe tbody tr th:only-of-type {\n",
       "        vertical-align: middle;\n",
       "    }\n",
       "\n",
       "    .dataframe tbody tr th {\n",
       "        vertical-align: top;\n",
       "    }\n",
       "\n",
       "    .dataframe thead th {\n",
       "        text-align: right;\n",
       "    }\n",
       "</style>\n",
       "<table border=\"1\" class=\"dataframe\">\n",
       "  <thead>\n",
       "    <tr style=\"text-align: right;\">\n",
       "      <th></th>\n",
       "      <th>docid</th>\n",
       "      <th>headline</th>\n",
       "      <th>content</th>\n",
       "      <th>ner</th>\n",
       "      <th>matched_keywords</th>\n",
       "      <th>include_company</th>\n",
       "      <th>include_person</th>\n",
       "      <th>length</th>\n",
       "      <th>split_sentence_index</th>\n",
       "      <th>Companys</th>\n",
       "      <th>Persons</th>\n",
       "    </tr>\n",
       "  </thead>\n",
       "  <tbody>\n",
       "    <tr>\n",
       "      <th>0</th>\n",
       "      <td>2023063021774796465</td>\n",
       "      <td>NaN</td>\n",
       "      <td>宝申控股(08151) 停牌 / 内幕消息 / 其他-杂项。宝申控股(08151) 有关复牌...</td>\n",
       "      <td>[{'label_name': 'Company', 'text_segment': '寶申...</td>\n",
       "      <td>['寶申控股', '寶申控股']</td>\n",
       "      <td>True</td>\n",
       "      <td>True</td>\n",
       "      <td>74</td>\n",
       "      <td>0</td>\n",
       "      <td>[宝申控股]</td>\n",
       "      <td>[]</td>\n",
       "    </tr>\n",
       "    <tr>\n",
       "      <th>1</th>\n",
       "      <td>2023063021774796485</td>\n",
       "      <td>NaN</td>\n",
       "      <td>利骏集团香港(08360) 股东特别大会的结果。利骏集团香港(08360) 于二零二三年六月...</td>\n",
       "      <td>[{'label_name': 'Company', 'text_segment': '利駿...</td>\n",
       "      <td>['利駿集團', '利駿集團香港']</td>\n",
       "      <td>True</td>\n",
       "      <td>True</td>\n",
       "      <td>74</td>\n",
       "      <td>0</td>\n",
       "      <td>[利骏集团, 利骏集团香港, 东特]</td>\n",
       "      <td>[]</td>\n",
       "    </tr>\n",
       "    <tr>\n",
       "      <th>2</th>\n",
       "      <td>2023063021774796605</td>\n",
       "      <td>NaN</td>\n",
       "      <td>推进科技自立自强， 国家集成电路设计自动化技术创新中心正式揭牌。21世纪经济报道记者 郭晨 ...</td>\n",
       "      <td>[{'label_name': 'Company', 'text_segment': '21...</td>\n",
       "      <td>['21世紀經濟報道', '郭晨', '胡廣傑', '陳之常', '東南大學', '黃如',...</td>\n",
       "      <td>True</td>\n",
       "      <td>True</td>\n",
       "      <td>488</td>\n",
       "      <td>0</td>\n",
       "      <td>[21世纪经济报道]</td>\n",
       "      <td>[陈之常, 杨学鹏, 郭晨, 黄如, 徐光辉, 胡广杰, 吴刚]</td>\n",
       "    </tr>\n",
       "  </tbody>\n",
       "</table>\n",
       "</div>"
      ],
      "text/plain": [
       "                 docid  headline  \\\n",
       "0  2023063021774796465       NaN   \n",
       "1  2023063021774796485       NaN   \n",
       "2  2023063021774796605       NaN   \n",
       "\n",
       "                                             content  \\\n",
       "0  宝申控股(08151) 停牌 / 内幕消息 / 其他-杂项。宝申控股(08151) 有关复牌...   \n",
       "1  利骏集团香港(08360) 股东特别大会的结果。利骏集团香港(08360) 于二零二三年六月...   \n",
       "2  推进科技自立自强， 国家集成电路设计自动化技术创新中心正式揭牌。21世纪经济报道记者 郭晨 ...   \n",
       "\n",
       "                                                 ner  \\\n",
       "0  [{'label_name': 'Company', 'text_segment': '寶申...   \n",
       "1  [{'label_name': 'Company', 'text_segment': '利駿...   \n",
       "2  [{'label_name': 'Company', 'text_segment': '21...   \n",
       "\n",
       "                                    matched_keywords  include_company  \\\n",
       "0                                   ['寶申控股', '寶申控股']             True   \n",
       "1                                 ['利駿集團', '利駿集團香港']             True   \n",
       "2  ['21世紀經濟報道', '郭晨', '胡廣傑', '陳之常', '東南大學', '黃如',...             True   \n",
       "\n",
       "   include_person  length  split_sentence_index            Companys  \\\n",
       "0            True      74                     0              [宝申控股]   \n",
       "1            True      74                     0  [利骏集团, 利骏集团香港, 东特]   \n",
       "2            True     488                     0          [21世纪经济报道]   \n",
       "\n",
       "                            Persons  \n",
       "0                                []  \n",
       "1                                []  \n",
       "2  [陈之常, 杨学鹏, 郭晨, 黄如, 徐光辉, 胡广杰, 吴刚]  "
      ]
     },
     "execution_count": 33,
     "metadata": {},
     "output_type": "execute_result"
    }
   ],
   "source": [
    "# split_sentence_df.head(3).to_dict('record')\n",
    "split_sentence_df.head(3)"
   ]
  },
  {
   "cell_type": "code",
   "execution_count": 34,
   "metadata": {
    "tags": []
   },
   "outputs": [
    {
     "name": "stdout",
     "output_type": "stream",
     "text": [
      "False False\n",
      "True True\n"
     ]
    }
   ],
   "source": [
    "print(split_sentence_df['docid'].is_unique, split_sentence_df['docid'].is_unique)\n",
    "split_sentence_df['docid'] = split_sentence_df.apply(lambda row: str(row[\"docid\"]) + \"&&\" + str(row['split_sentence_index']), axis=1)\n",
    "print(split_sentence_df['docid'].is_unique, split_sentence_df['docid'].is_unique)"
   ]
  },
  {
   "cell_type": "code",
   "execution_count": 35,
   "metadata": {
    "tags": []
   },
   "outputs": [],
   "source": [
    "import pickle\n",
    "pickle.dump(split_sentence_df, open(\"/workspace/NER/data/complete_have_ner_labels_df.xlsx\", 'wb'))"
   ]
  },
  {
   "cell_type": "markdown",
   "metadata": {
    "tags": []
   },
   "source": [
    "## clean context"
   ]
  },
  {
   "cell_type": "code",
   "execution_count": 36,
   "metadata": {
    "tags": []
   },
   "outputs": [
    {
     "name": "stdout",
     "output_type": "stream",
     "text": [
      "INFO: Pandarallel will run on 32 workers.\n",
      "INFO: Pandarallel will use standard multiprocessing data transfer (pipe) to transfer data between the main process and workers.\n"
     ]
    },
    {
     "data": {
      "application/vnd.jupyter.widget-view+json": {
       "model_id": "195f4905a13f46ee8a9e6bd15afb77db",
       "version_major": 2,
       "version_minor": 0
      },
      "text/plain": [
       "VBox(children=(HBox(children=(IntProgress(value=0, description='0.00%', max=1344), Label(value='0 / 1344'))), …"
      ]
     },
     "metadata": {},
     "output_type": "display_data"
    }
   ],
   "source": [
    "def clean_data(example):\n",
    "    \n",
    "    text = emoji.replace_emoji(example, replace=\"\")\n",
    "    # text = OpenCC('t2s.json').convert(text)\n",
    "    text = convert(text, 'zh-cn')\n",
    "    text = ''.join([x for x in text if x.isprintable()])\n",
    "    text = text.lower()\n",
    "    return text\n",
    "\n",
    "pandarallel.initialize(nb_workers=32, progress_bar=True, use_memory_fs=False)\n",
    "split_sentence_df[\"context_cleaned\"] = split_sentence_df.parallel_apply(lambda x: clean_data(x[\"content\"]), axis=1)"
   ]
  },
  {
   "cell_type": "markdown",
   "metadata": {
    "tags": []
   },
   "source": [
    "## keyword list 回扫"
   ]
  },
  {
   "cell_type": "code",
   "execution_count": 37,
   "metadata": {
    "tags": []
   },
   "outputs": [
    {
     "data": {
      "text/html": [
       "<div>\n",
       "<style scoped>\n",
       "    .dataframe tbody tr th:only-of-type {\n",
       "        vertical-align: middle;\n",
       "    }\n",
       "\n",
       "    .dataframe tbody tr th {\n",
       "        vertical-align: top;\n",
       "    }\n",
       "\n",
       "    .dataframe thead th {\n",
       "        text-align: right;\n",
       "    }\n",
       "</style>\n",
       "<table border=\"1\" class=\"dataframe\">\n",
       "  <thead>\n",
       "    <tr style=\"text-align: right;\">\n",
       "      <th></th>\n",
       "      <th>docid</th>\n",
       "      <th>headline</th>\n",
       "      <th>content</th>\n",
       "      <th>ner</th>\n",
       "      <th>matched_keywords</th>\n",
       "      <th>include_company</th>\n",
       "      <th>include_person</th>\n",
       "      <th>length</th>\n",
       "      <th>split_sentence_index</th>\n",
       "      <th>Companys</th>\n",
       "      <th>Persons</th>\n",
       "      <th>context_cleaned</th>\n",
       "    </tr>\n",
       "  </thead>\n",
       "  <tbody>\n",
       "    <tr>\n",
       "      <th>0</th>\n",
       "      <td>2023063021774796465&amp;&amp;0</td>\n",
       "      <td>NaN</td>\n",
       "      <td>宝申控股(08151) 停牌 / 内幕消息 / 其他-杂项。宝申控股(08151) 有关复牌...</td>\n",
       "      <td>[{'label_name': 'Company', 'text_segment': '寶申...</td>\n",
       "      <td>['寶申控股', '寶申控股']</td>\n",
       "      <td>True</td>\n",
       "      <td>True</td>\n",
       "      <td>74</td>\n",
       "      <td>0</td>\n",
       "      <td>[宝申控股]</td>\n",
       "      <td>[]</td>\n",
       "      <td>宝申控股(08151) 停牌 / 内幕消息 / 其他-杂项。宝申控股(08151) 有关复牌...</td>\n",
       "    </tr>\n",
       "    <tr>\n",
       "      <th>1</th>\n",
       "      <td>2023063021774796485&amp;&amp;0</td>\n",
       "      <td>NaN</td>\n",
       "      <td>利骏集团香港(08360) 股东特别大会的结果。利骏集团香港(08360) 于二零二三年六月...</td>\n",
       "      <td>[{'label_name': 'Company', 'text_segment': '利駿...</td>\n",
       "      <td>['利駿集團', '利駿集團香港']</td>\n",
       "      <td>True</td>\n",
       "      <td>True</td>\n",
       "      <td>74</td>\n",
       "      <td>0</td>\n",
       "      <td>[利骏集团, 利骏集团香港, 东特]</td>\n",
       "      <td>[]</td>\n",
       "      <td>利骏集团香港(08360) 股东特别大会的结果。利骏集团香港(08360) 于二零二三年六月...</td>\n",
       "    </tr>\n",
       "    <tr>\n",
       "      <th>2</th>\n",
       "      <td>2023063021774796605&amp;&amp;0</td>\n",
       "      <td>NaN</td>\n",
       "      <td>推进科技自立自强， 国家集成电路设计自动化技术创新中心正式揭牌。21世纪经济报道记者 郭晨 ...</td>\n",
       "      <td>[{'label_name': 'Company', 'text_segment': '21...</td>\n",
       "      <td>['21世紀經濟報道', '郭晨', '胡廣傑', '陳之常', '東南大學', '黃如',...</td>\n",
       "      <td>True</td>\n",
       "      <td>True</td>\n",
       "      <td>488</td>\n",
       "      <td>0</td>\n",
       "      <td>[21世纪经济报道]</td>\n",
       "      <td>[陈之常, 杨学鹏, 郭晨, 黄如, 徐光辉, 胡广杰, 吴刚]</td>\n",
       "      <td>推进科技自立自强， 国家集成电路设计自动化技术创新中心正式揭牌。21世纪经济报道记者 郭晨 ...</td>\n",
       "    </tr>\n",
       "    <tr>\n",
       "      <th>3</th>\n",
       "      <td>2023063021774796605&amp;&amp;1</td>\n",
       "      <td>NaN</td>\n",
       "      <td>江苏省副省长胡广杰对EDA国创中心成立表示祝贺。他说,集成电路产业是我省具有较强竞争力的优势...</td>\n",
       "      <td>[{'label_name': 'Company', 'text_segment': '21...</td>\n",
       "      <td>['21世紀經濟報道', '郭晨', '胡廣傑', '陳之常', '東南大學', '黃如',...</td>\n",
       "      <td>True</td>\n",
       "      <td>True</td>\n",
       "      <td>432</td>\n",
       "      <td>1</td>\n",
       "      <td>[]</td>\n",
       "      <td>[陈之常, 胡广杰]</td>\n",
       "      <td>江苏省副省长胡广杰对eda国创中心成立表示祝贺。他说,集成电路产业是我省具有较强竞争力的优势...</td>\n",
       "    </tr>\n",
       "    <tr>\n",
       "      <th>4</th>\n",
       "      <td>2023063021774796605&amp;&amp;2</td>\n",
       "      <td>NaN</td>\n",
       "      <td>突出科产融合,推动创新链、产业链、资金链、人才链深度融合,着力解决一批基础理论和技术原理问题...</td>\n",
       "      <td>[{'label_name': 'Company', 'text_segment': '21...</td>\n",
       "      <td>['21世紀經濟報道', '郭晨', '胡廣傑', '陳之常', '東南大學', '黃如',...</td>\n",
       "      <td>True</td>\n",
       "      <td>True</td>\n",
       "      <td>471</td>\n",
       "      <td>2</td>\n",
       "      <td>[]</td>\n",
       "      <td>[黄如]</td>\n",
       "      <td>突出科产融合,推动创新链、产业链、资金链、人才链深度融合,着力解决一批基础理论和技术原理问题...</td>\n",
       "    </tr>\n",
       "  </tbody>\n",
       "</table>\n",
       "</div>"
      ],
      "text/plain": [
       "                    docid  headline  \\\n",
       "0  2023063021774796465&&0       NaN   \n",
       "1  2023063021774796485&&0       NaN   \n",
       "2  2023063021774796605&&0       NaN   \n",
       "3  2023063021774796605&&1       NaN   \n",
       "4  2023063021774796605&&2       NaN   \n",
       "\n",
       "                                             content  \\\n",
       "0  宝申控股(08151) 停牌 / 内幕消息 / 其他-杂项。宝申控股(08151) 有关复牌...   \n",
       "1  利骏集团香港(08360) 股东特别大会的结果。利骏集团香港(08360) 于二零二三年六月...   \n",
       "2  推进科技自立自强， 国家集成电路设计自动化技术创新中心正式揭牌。21世纪经济报道记者 郭晨 ...   \n",
       "3  江苏省副省长胡广杰对EDA国创中心成立表示祝贺。他说,集成电路产业是我省具有较强竞争力的优势...   \n",
       "4  突出科产融合,推动创新链、产业链、资金链、人才链深度融合,着力解决一批基础理论和技术原理问题...   \n",
       "\n",
       "                                                 ner  \\\n",
       "0  [{'label_name': 'Company', 'text_segment': '寶申...   \n",
       "1  [{'label_name': 'Company', 'text_segment': '利駿...   \n",
       "2  [{'label_name': 'Company', 'text_segment': '21...   \n",
       "3  [{'label_name': 'Company', 'text_segment': '21...   \n",
       "4  [{'label_name': 'Company', 'text_segment': '21...   \n",
       "\n",
       "                                    matched_keywords  include_company  \\\n",
       "0                                   ['寶申控股', '寶申控股']             True   \n",
       "1                                 ['利駿集團', '利駿集團香港']             True   \n",
       "2  ['21世紀經濟報道', '郭晨', '胡廣傑', '陳之常', '東南大學', '黃如',...             True   \n",
       "3  ['21世紀經濟報道', '郭晨', '胡廣傑', '陳之常', '東南大學', '黃如',...             True   \n",
       "4  ['21世紀經濟報道', '郭晨', '胡廣傑', '陳之常', '東南大學', '黃如',...             True   \n",
       "\n",
       "   include_person  length  split_sentence_index            Companys  \\\n",
       "0            True      74                     0              [宝申控股]   \n",
       "1            True      74                     0  [利骏集团, 利骏集团香港, 东特]   \n",
       "2            True     488                     0          [21世纪经济报道]   \n",
       "3            True     432                     1                  []   \n",
       "4            True     471                     2                  []   \n",
       "\n",
       "                            Persons  \\\n",
       "0                                []   \n",
       "1                                []   \n",
       "2  [陈之常, 杨学鹏, 郭晨, 黄如, 徐光辉, 胡广杰, 吴刚]   \n",
       "3                        [陈之常, 胡广杰]   \n",
       "4                              [黄如]   \n",
       "\n",
       "                                     context_cleaned  \n",
       "0  宝申控股(08151) 停牌 / 内幕消息 / 其他-杂项。宝申控股(08151) 有关复牌...  \n",
       "1  利骏集团香港(08360) 股东特别大会的结果。利骏集团香港(08360) 于二零二三年六月...  \n",
       "2  推进科技自立自强， 国家集成电路设计自动化技术创新中心正式揭牌。21世纪经济报道记者 郭晨 ...  \n",
       "3  江苏省副省长胡广杰对eda国创中心成立表示祝贺。他说,集成电路产业是我省具有较强竞争力的优势...  \n",
       "4  突出科产融合,推动创新链、产业链、资金链、人才链深度融合,着力解决一批基础理论和技术原理问题...  "
      ]
     },
     "execution_count": 37,
     "metadata": {},
     "output_type": "execute_result"
    }
   ],
   "source": [
    "split_sentence_df.head()"
   ]
  },
  {
   "cell_type": "code",
   "execution_count": 38,
   "metadata": {
    "tags": []
   },
   "outputs": [],
   "source": [
    "def entend_label_and_merge_content_keyword(example, threshold=-1.0):\n",
    "    brand_labels = [convert(word, 'zh-cn') for word in example['Companys'].copy()]\n",
    "    product_labels = [convert(word, 'zh-cn') for word in example['Persons'].copy()]\n",
    "    text = example['context_cleaned']\n",
    "    # brand_matched_keywords, product_matched_keywords = [], []\n",
    "    # if pd.notna(text):\n",
    "    #     for keyword in brand_list:\n",
    "    #         if keyword.lower() in text.lower():\n",
    "    #             brand_matched_keywords.append(keyword.lower())\n",
    "    #     for keyword in product_list:\n",
    "    #         if keyword.lower() in text.lower():\n",
    "    #             product_matched_keywords.append(keyword.lower())\n",
    "\n",
    "    # brand_labels.extend(brand_matched_keywords)\n",
    "    # product_labels.extend(product_matched_keywords)\n",
    "    brand_labels = list(set(brand_labels))\n",
    "    product_labels = list(set(product_labels))\n",
    "    brand_labels_, product_labels_ = [], []\n",
    "    for i in brand_labels:\n",
    "        temp = brand_labels.copy()\n",
    "        temp.remove(i)\n",
    "        flag = 1\n",
    "        for j in temp:\n",
    "            if i not in j:\n",
    "                continue\n",
    "            else:\n",
    "                flag = 0\n",
    "                break\n",
    "        if flag:\n",
    "            brand_labels_.append(i)\n",
    "    for i in product_labels:\n",
    "        temp = product_labels.copy()\n",
    "        temp.remove(i)\n",
    "        flag = 1\n",
    "        for j in temp:\n",
    "            if i not in j:\n",
    "                continue\n",
    "            else:\n",
    "                flag = 0\n",
    "                break\n",
    "        if flag:\n",
    "            product_labels_.append(i)\n",
    "    \n",
    "    labels_ = brand_labels_ + product_labels_\n",
    "    \n",
    "\n",
    "    text_list = []\n",
    "    separator = \"。！？#?!\"\n",
    "    start, end = 0, 0\n",
    "    while end < len(text):\n",
    "        if text[end] in separator:\n",
    "            text_list.append(text[start:end+1])\n",
    "            start, end = end + 1, end + 1\n",
    "        else:\n",
    "            end += 1\n",
    "        \n",
    "        if end == len(text) - 1:\n",
    "            text_list.append(text[start:end+1])\n",
    "\n",
    "    for idx, t in enumerate(text_list):\n",
    "        temp = []\n",
    "        for l in labels_:\n",
    "            if l in t:\n",
    "                temp.append(l)\n",
    "        if temp != []:\n",
    "            text_list[idx] = text_list[idx] + '||可能的实体：' + \",\".join(temp) + '||' \n",
    "    return product_labels_, brand_labels_, labels_, \"\".join(text_list)"
   ]
  },
  {
   "cell_type": "code",
   "execution_count": 39,
   "metadata": {
    "tags": []
   },
   "outputs": [
    {
     "data": {
      "application/vnd.jupyter.widget-view+json": {
       "model_id": "8020e97165d74cf6a1b6367b226b856b",
       "version_major": 2,
       "version_minor": 0
      },
      "text/plain": [
       "VBox(children=(HBox(children=(IntProgress(value=0, description='0.00%', max=1344), Label(value='0 / 1344'))), …"
      ]
     },
     "metadata": {},
     "output_type": "display_data"
    },
    {
     "name": "stderr",
     "output_type": "stream",
     "text": [
      "/opt/conda/lib/python3.8/site-packages/numpy/core/fromnumeric.py:3156: VisibleDeprecationWarning: Creating an ndarray from ragged nested sequences (which is a list-or-tuple of lists-or-tuples-or ndarrays with different lengths or shapes) is deprecated. If you meant to do this, you must specify 'dtype=object' when creating the ndarray.\n",
      "  return asarray(a).ndim\n"
     ]
    },
    {
     "data": {
      "text/html": [
       "<div>\n",
       "<style scoped>\n",
       "    .dataframe tbody tr th:only-of-type {\n",
       "        vertical-align: middle;\n",
       "    }\n",
       "\n",
       "    .dataframe tbody tr th {\n",
       "        vertical-align: top;\n",
       "    }\n",
       "\n",
       "    .dataframe thead th {\n",
       "        text-align: right;\n",
       "    }\n",
       "</style>\n",
       "<table border=\"1\" class=\"dataframe\">\n",
       "  <thead>\n",
       "    <tr style=\"text-align: right;\">\n",
       "      <th></th>\n",
       "      <th>docid</th>\n",
       "      <th>headline</th>\n",
       "      <th>content</th>\n",
       "      <th>ner</th>\n",
       "      <th>matched_keywords</th>\n",
       "      <th>include_company</th>\n",
       "      <th>include_person</th>\n",
       "      <th>length</th>\n",
       "      <th>split_sentence_index</th>\n",
       "      <th>Companys</th>\n",
       "      <th>Persons</th>\n",
       "      <th>context_cleaned</th>\n",
       "      <th>person_matched</th>\n",
       "      <th>company_matched</th>\n",
       "      <th>context_keywords</th>\n",
       "    </tr>\n",
       "  </thead>\n",
       "  <tbody>\n",
       "    <tr>\n",
       "      <th>0</th>\n",
       "      <td>2023063021774796465&amp;&amp;0</td>\n",
       "      <td>NaN</td>\n",
       "      <td>宝申控股(08151) 停牌 / 内幕消息 / 其他-杂项。宝申控股(08151) 有关复牌...</td>\n",
       "      <td>[{'label_name': 'Company', 'text_segment': '寶申...</td>\n",
       "      <td>[宝申控股]</td>\n",
       "      <td>True</td>\n",
       "      <td>True</td>\n",
       "      <td>74</td>\n",
       "      <td>0</td>\n",
       "      <td>[宝申控股]</td>\n",
       "      <td>[]</td>\n",
       "      <td>宝申控股(08151) 停牌 / 内幕消息 / 其他-杂项。宝申控股(08151) 有关复牌...</td>\n",
       "      <td>[]</td>\n",
       "      <td>[宝申控股]</td>\n",
       "      <td>宝申控股(08151) 停牌 / 内幕消息 / 其他-杂项。||可能的实体：宝申控股||宝申...</td>\n",
       "    </tr>\n",
       "    <tr>\n",
       "      <th>1</th>\n",
       "      <td>2023063021774796485&amp;&amp;0</td>\n",
       "      <td>NaN</td>\n",
       "      <td>利骏集团香港(08360) 股东特别大会的结果。利骏集团香港(08360) 于二零二三年六月...</td>\n",
       "      <td>[{'label_name': 'Company', 'text_segment': '利駿...</td>\n",
       "      <td>[利骏集团香港, 东特]</td>\n",
       "      <td>True</td>\n",
       "      <td>True</td>\n",
       "      <td>74</td>\n",
       "      <td>0</td>\n",
       "      <td>[利骏集团, 利骏集团香港, 东特]</td>\n",
       "      <td>[]</td>\n",
       "      <td>利骏集团香港(08360) 股东特别大会的结果。利骏集团香港(08360) 于二零二三年六月...</td>\n",
       "      <td>[]</td>\n",
       "      <td>[利骏集团香港, 东特]</td>\n",
       "      <td>利骏集团香港(08360) 股东特别大会的结果。||可能的实体：利骏集团香港,东特||利骏集...</td>\n",
       "    </tr>\n",
       "    <tr>\n",
       "      <th>2</th>\n",
       "      <td>2023063021774796605&amp;&amp;0</td>\n",
       "      <td>NaN</td>\n",
       "      <td>推进科技自立自强， 国家集成电路设计自动化技术创新中心正式揭牌。21世纪经济报道记者 郭晨 ...</td>\n",
       "      <td>[{'label_name': 'Company', 'text_segment': '21...</td>\n",
       "      <td>[21世纪经济报道, 陈之常, 杨学鹏, 郭晨, 黄如, 徐光辉, 胡广杰, 吴刚]</td>\n",
       "      <td>True</td>\n",
       "      <td>True</td>\n",
       "      <td>488</td>\n",
       "      <td>0</td>\n",
       "      <td>[21世纪经济报道]</td>\n",
       "      <td>[陈之常, 杨学鹏, 郭晨, 黄如, 徐光辉, 胡广杰, 吴刚]</td>\n",
       "      <td>推进科技自立自强， 国家集成电路设计自动化技术创新中心正式揭牌。21世纪经济报道记者 郭晨 ...</td>\n",
       "      <td>[陈之常, 杨学鹏, 郭晨, 黄如, 徐光辉, 胡广杰, 吴刚]</td>\n",
       "      <td>[21世纪经济报道]</td>\n",
       "      <td>推进科技自立自强， 国家集成电路设计自动化技术创新中心正式揭牌。21世纪经济报道记者 郭晨 ...</td>\n",
       "    </tr>\n",
       "    <tr>\n",
       "      <th>3</th>\n",
       "      <td>2023063021774796605&amp;&amp;1</td>\n",
       "      <td>NaN</td>\n",
       "      <td>江苏省副省长胡广杰对EDA国创中心成立表示祝贺。他说,集成电路产业是我省具有较强竞争力的优势...</td>\n",
       "      <td>[{'label_name': 'Company', 'text_segment': '21...</td>\n",
       "      <td>[陈之常, 胡广杰]</td>\n",
       "      <td>True</td>\n",
       "      <td>True</td>\n",
       "      <td>432</td>\n",
       "      <td>1</td>\n",
       "      <td>[]</td>\n",
       "      <td>[陈之常, 胡广杰]</td>\n",
       "      <td>江苏省副省长胡广杰对eda国创中心成立表示祝贺。他说,集成电路产业是我省具有较强竞争力的优势...</td>\n",
       "      <td>[陈之常, 胡广杰]</td>\n",
       "      <td>[]</td>\n",
       "      <td>江苏省副省长胡广杰对eda国创中心成立表示祝贺。||可能的实体：胡广杰||他说,集成电路产业...</td>\n",
       "    </tr>\n",
       "    <tr>\n",
       "      <th>4</th>\n",
       "      <td>2023063021774796605&amp;&amp;2</td>\n",
       "      <td>NaN</td>\n",
       "      <td>突出科产融合,推动创新链、产业链、资金链、人才链深度融合,着力解决一批基础理论和技术原理问题...</td>\n",
       "      <td>[{'label_name': 'Company', 'text_segment': '21...</td>\n",
       "      <td>[黄如]</td>\n",
       "      <td>True</td>\n",
       "      <td>True</td>\n",
       "      <td>471</td>\n",
       "      <td>2</td>\n",
       "      <td>[]</td>\n",
       "      <td>[黄如]</td>\n",
       "      <td>突出科产融合,推动创新链、产业链、资金链、人才链深度融合,着力解决一批基础理论和技术原理问题...</td>\n",
       "      <td>[黄如]</td>\n",
       "      <td>[]</td>\n",
       "      <td>突出科产融合,推动创新链、产业链、资金链、人才链深度融合,着力解决一批基础理论和技术原理问题...</td>\n",
       "    </tr>\n",
       "    <tr>\n",
       "      <th>...</th>\n",
       "      <td>...</td>\n",
       "      <td>...</td>\n",
       "      <td>...</td>\n",
       "      <td>...</td>\n",
       "      <td>...</td>\n",
       "      <td>...</td>\n",
       "      <td>...</td>\n",
       "      <td>...</td>\n",
       "      <td>...</td>\n",
       "      <td>...</td>\n",
       "      <td>...</td>\n",
       "      <td>...</td>\n",
       "      <td>...</td>\n",
       "      <td>...</td>\n",
       "      <td>...</td>\n",
       "    </tr>\n",
       "    <tr>\n",
       "      <th>42975</th>\n",
       "      <td>998&amp;&amp;0</td>\n",
       "      <td>NaN</td>\n",
       "      <td>原标题：多城“人才争夺战” 房地产市场格局难变。“二十一世纪什么最贵。人才。”直至十余年后，...</td>\n",
       "      <td>[{'label_name': 'Time', 'text_segment': '二十一世紀...</td>\n",
       "      <td>[方米]</td>\n",
       "      <td>True</td>\n",
       "      <td>True</td>\n",
       "      <td>489</td>\n",
       "      <td>0</td>\n",
       "      <td>[方米]</td>\n",
       "      <td>[]</td>\n",
       "      <td>原标题：多城“人才争夺战” 房地产市场格局难变。“二十一世纪什么最贵。人才。”直至十余年后，...</td>\n",
       "      <td>[]</td>\n",
       "      <td>[方米]</td>\n",
       "      <td>原标题：多城“人才争夺战” 房地产市场格局难变。“二十一世纪什么最贵。人才。”直至十余年后，...</td>\n",
       "    </tr>\n",
       "    <tr>\n",
       "      <th>42976</th>\n",
       "      <td>998&amp;&amp;1</td>\n",
       "      <td>NaN</td>\n",
       "      <td>工作期间保障交通工具。无独有偶。博州人才政策对于住房方面的关注在其他三四五线城市动作中也有所...</td>\n",
       "      <td>[{'label_name': 'Time', 'text_segment': '二十一世紀...</td>\n",
       "      <td>[国际金融报, 交通, 工程, 易居研究院智库中心, 严跃进]</td>\n",
       "      <td>True</td>\n",
       "      <td>True</td>\n",
       "      <td>493</td>\n",
       "      <td>1</td>\n",
       "      <td>[工程, 国际金融报, 易居研究院智库中心, 易居, 交通, 易居研究院]</td>\n",
       "      <td>[严跃进]</td>\n",
       "      <td>工作期间保障交通工具。无独有偶。博州人才政策对于住房方面的关注在其他三四五线城市动作中也有所...</td>\n",
       "      <td>[严跃进]</td>\n",
       "      <td>[国际金融报, 交通, 工程, 易居研究院智库中心]</td>\n",
       "      <td>工作期间保障交通工具。||可能的实体：交通||无独有偶。博州人才政策对于住房方面的关注在其他...</td>\n",
       "    </tr>\n",
       "    <tr>\n",
       "      <th>42977</th>\n",
       "      <td>998&amp;&amp;2</td>\n",
       "      <td>NaN</td>\n",
       "      <td>这场对于人才的竞争已不再局限于城市之间。“战火”已悄悄弥漫至区、县等更小的行政单位。不过，一...</td>\n",
       "      <td>[{'label_name': 'Time', 'text_segment': '二十一世紀...</td>\n",
       "      <td>[国际金融报]</td>\n",
       "      <td>True</td>\n",
       "      <td>True</td>\n",
       "      <td>447</td>\n",
       "      <td>2</td>\n",
       "      <td>[国际金融报]</td>\n",
       "      <td>[]</td>\n",
       "      <td>这场对于人才的竞争已不再局限于城市之间。“战火”已悄悄弥漫至区、县等更小的行政单位。不过，一...</td>\n",
       "      <td>[]</td>\n",
       "      <td>[国际金融报]</td>\n",
       "      <td>这场对于人才的竞争已不再局限于城市之间。“战火”已悄悄弥漫至区、县等更小的行政单位。不过，一...</td>\n",
       "    </tr>\n",
       "    <tr>\n",
       "      <th>42978</th>\n",
       "      <td>998&amp;&amp;3</td>\n",
       "      <td>NaN</td>\n",
       "      <td>3月18日，河北石家庄推动户口迁入“零门槛”，群众仅凭居民身份证、户口簿就可向落户地派出所申...</td>\n",
       "      <td>[{'label_name': 'Time', 'text_segment': '二十一世紀...</td>\n",
       "      <td>[易居, 方米, 严跃进, 沈路]</td>\n",
       "      <td>True</td>\n",
       "      <td>True</td>\n",
       "      <td>496</td>\n",
       "      <td>3</td>\n",
       "      <td>[易居, 方米]</td>\n",
       "      <td>[严跃进, 沈路]</td>\n",
       "      <td>3月18日，河北石家庄推动户口迁入“零门槛”，群众仅凭居民身份证、户口簿就可向落户地派出所申...</td>\n",
       "      <td>[严跃进, 沈路]</td>\n",
       "      <td>[易居, 方米]</td>\n",
       "      <td>3月18日，河北石家庄推动户口迁入“零门槛”，群众仅凭居民身份证、户口簿就可向落户地派出所申...</td>\n",
       "    </tr>\n",
       "    <tr>\n",
       "      <th>42979</th>\n",
       "      <td>998&amp;&amp;4</td>\n",
       "      <td>NaN</td>\n",
       "      <td>中大城市的人才济济和持续人口聚集效应留给小城市的或是人口流出的落寞。易居研究院研究员沈昕对记...</td>\n",
       "      <td>[{'label_name': 'Time', 'text_segment': '二十一世紀...</td>\n",
       "      <td>[易居研究院, 国际金融报, 搜狐, 陈晨, 刘民, 刘明, 沈昕]</td>\n",
       "      <td>True</td>\n",
       "      <td>True</td>\n",
       "      <td>486</td>\n",
       "      <td>4</td>\n",
       "      <td>[国际金融报, 搜狐, 易居, 易居研究院]</td>\n",
       "      <td>[陈晨, 刘民, 刘明, 沈昕]</td>\n",
       "      <td>中大城市的人才济济和持续人口聚集效应留给小城市的或是人口流出的落寞。易居研究院研究员沈昕对记...</td>\n",
       "      <td>[陈晨, 刘民, 刘明, 沈昕]</td>\n",
       "      <td>[易居研究院, 国际金融报, 搜狐]</td>\n",
       "      <td>中大城市的人才济济和持续人口聚集效应留给小城市的或是人口流出的落寞。易居研究院研究员沈昕对记...</td>\n",
       "    </tr>\n",
       "  </tbody>\n",
       "</table>\n",
       "<p>42980 rows × 15 columns</p>\n",
       "</div>"
      ],
      "text/plain": [
       "                        docid  headline  \\\n",
       "0      2023063021774796465&&0       NaN   \n",
       "1      2023063021774796485&&0       NaN   \n",
       "2      2023063021774796605&&0       NaN   \n",
       "3      2023063021774796605&&1       NaN   \n",
       "4      2023063021774796605&&2       NaN   \n",
       "...                       ...       ...   \n",
       "42975                  998&&0       NaN   \n",
       "42976                  998&&1       NaN   \n",
       "42977                  998&&2       NaN   \n",
       "42978                  998&&3       NaN   \n",
       "42979                  998&&4       NaN   \n",
       "\n",
       "                                                 content  \\\n",
       "0      宝申控股(08151) 停牌 / 内幕消息 / 其他-杂项。宝申控股(08151) 有关复牌...   \n",
       "1      利骏集团香港(08360) 股东特别大会的结果。利骏集团香港(08360) 于二零二三年六月...   \n",
       "2      推进科技自立自强， 国家集成电路设计自动化技术创新中心正式揭牌。21世纪经济报道记者 郭晨 ...   \n",
       "3      江苏省副省长胡广杰对EDA国创中心成立表示祝贺。他说,集成电路产业是我省具有较强竞争力的优势...   \n",
       "4      突出科产融合,推动创新链、产业链、资金链、人才链深度融合,着力解决一批基础理论和技术原理问题...   \n",
       "...                                                  ...   \n",
       "42975  原标题：多城“人才争夺战” 房地产市场格局难变。“二十一世纪什么最贵。人才。”直至十余年后，...   \n",
       "42976  工作期间保障交通工具。无独有偶。博州人才政策对于住房方面的关注在其他三四五线城市动作中也有所...   \n",
       "42977  这场对于人才的竞争已不再局限于城市之间。“战火”已悄悄弥漫至区、县等更小的行政单位。不过，一...   \n",
       "42978  3月18日，河北石家庄推动户口迁入“零门槛”，群众仅凭居民身份证、户口簿就可向落户地派出所申...   \n",
       "42979  中大城市的人才济济和持续人口聚集效应留给小城市的或是人口流出的落寞。易居研究院研究员沈昕对记...   \n",
       "\n",
       "                                                     ner  \\\n",
       "0      [{'label_name': 'Company', 'text_segment': '寶申...   \n",
       "1      [{'label_name': 'Company', 'text_segment': '利駿...   \n",
       "2      [{'label_name': 'Company', 'text_segment': '21...   \n",
       "3      [{'label_name': 'Company', 'text_segment': '21...   \n",
       "4      [{'label_name': 'Company', 'text_segment': '21...   \n",
       "...                                                  ...   \n",
       "42975  [{'label_name': 'Time', 'text_segment': '二十一世紀...   \n",
       "42976  [{'label_name': 'Time', 'text_segment': '二十一世紀...   \n",
       "42977  [{'label_name': 'Time', 'text_segment': '二十一世紀...   \n",
       "42978  [{'label_name': 'Time', 'text_segment': '二十一世紀...   \n",
       "42979  [{'label_name': 'Time', 'text_segment': '二十一世紀...   \n",
       "\n",
       "                                 matched_keywords  include_company  \\\n",
       "0                                          [宝申控股]             True   \n",
       "1                                    [利骏集团香港, 东特]             True   \n",
       "2      [21世纪经济报道, 陈之常, 杨学鹏, 郭晨, 黄如, 徐光辉, 胡广杰, 吴刚]             True   \n",
       "3                                      [陈之常, 胡广杰]             True   \n",
       "4                                            [黄如]             True   \n",
       "...                                           ...              ...   \n",
       "42975                                        [方米]             True   \n",
       "42976             [国际金融报, 交通, 工程, 易居研究院智库中心, 严跃进]             True   \n",
       "42977                                     [国际金融报]             True   \n",
       "42978                           [易居, 方米, 严跃进, 沈路]             True   \n",
       "42979          [易居研究院, 国际金融报, 搜狐, 陈晨, 刘民, 刘明, 沈昕]             True   \n",
       "\n",
       "       include_person  length  split_sentence_index  \\\n",
       "0                True      74                     0   \n",
       "1                True      74                     0   \n",
       "2                True     488                     0   \n",
       "3                True     432                     1   \n",
       "4                True     471                     2   \n",
       "...               ...     ...                   ...   \n",
       "42975            True     489                     0   \n",
       "42976            True     493                     1   \n",
       "42977            True     447                     2   \n",
       "42978            True     496                     3   \n",
       "42979            True     486                     4   \n",
       "\n",
       "                                    Companys  \\\n",
       "0                                     [宝申控股]   \n",
       "1                         [利骏集团, 利骏集团香港, 东特]   \n",
       "2                                 [21世纪经济报道]   \n",
       "3                                         []   \n",
       "4                                         []   \n",
       "...                                      ...   \n",
       "42975                                   [方米]   \n",
       "42976  [工程, 国际金融报, 易居研究院智库中心, 易居, 交通, 易居研究院]   \n",
       "42977                                [国际金融报]   \n",
       "42978                               [易居, 方米]   \n",
       "42979                 [国际金融报, 搜狐, 易居, 易居研究院]   \n",
       "\n",
       "                                Persons  \\\n",
       "0                                    []   \n",
       "1                                    []   \n",
       "2      [陈之常, 杨学鹏, 郭晨, 黄如, 徐光辉, 胡广杰, 吴刚]   \n",
       "3                            [陈之常, 胡广杰]   \n",
       "4                                  [黄如]   \n",
       "...                                 ...   \n",
       "42975                                []   \n",
       "42976                             [严跃进]   \n",
       "42977                                []   \n",
       "42978                         [严跃进, 沈路]   \n",
       "42979                  [陈晨, 刘民, 刘明, 沈昕]   \n",
       "\n",
       "                                         context_cleaned  \\\n",
       "0      宝申控股(08151) 停牌 / 内幕消息 / 其他-杂项。宝申控股(08151) 有关复牌...   \n",
       "1      利骏集团香港(08360) 股东特别大会的结果。利骏集团香港(08360) 于二零二三年六月...   \n",
       "2      推进科技自立自强， 国家集成电路设计自动化技术创新中心正式揭牌。21世纪经济报道记者 郭晨 ...   \n",
       "3      江苏省副省长胡广杰对eda国创中心成立表示祝贺。他说,集成电路产业是我省具有较强竞争力的优势...   \n",
       "4      突出科产融合,推动创新链、产业链、资金链、人才链深度融合,着力解决一批基础理论和技术原理问题...   \n",
       "...                                                  ...   \n",
       "42975  原标题：多城“人才争夺战” 房地产市场格局难变。“二十一世纪什么最贵。人才。”直至十余年后，...   \n",
       "42976  工作期间保障交通工具。无独有偶。博州人才政策对于住房方面的关注在其他三四五线城市动作中也有所...   \n",
       "42977  这场对于人才的竞争已不再局限于城市之间。“战火”已悄悄弥漫至区、县等更小的行政单位。不过，一...   \n",
       "42978  3月18日，河北石家庄推动户口迁入“零门槛”，群众仅凭居民身份证、户口簿就可向落户地派出所申...   \n",
       "42979  中大城市的人才济济和持续人口聚集效应留给小城市的或是人口流出的落寞。易居研究院研究员沈昕对记...   \n",
       "\n",
       "                         person_matched             company_matched  \\\n",
       "0                                    []                      [宝申控股]   \n",
       "1                                    []                [利骏集团香港, 东特]   \n",
       "2      [陈之常, 杨学鹏, 郭晨, 黄如, 徐光辉, 胡广杰, 吴刚]                  [21世纪经济报道]   \n",
       "3                            [陈之常, 胡广杰]                          []   \n",
       "4                                  [黄如]                          []   \n",
       "...                                 ...                         ...   \n",
       "42975                                []                        [方米]   \n",
       "42976                             [严跃进]  [国际金融报, 交通, 工程, 易居研究院智库中心]   \n",
       "42977                                []                     [国际金融报]   \n",
       "42978                         [严跃进, 沈路]                    [易居, 方米]   \n",
       "42979                  [陈晨, 刘民, 刘明, 沈昕]          [易居研究院, 国际金融报, 搜狐]   \n",
       "\n",
       "                                        context_keywords  \n",
       "0      宝申控股(08151) 停牌 / 内幕消息 / 其他-杂项。||可能的实体：宝申控股||宝申...  \n",
       "1      利骏集团香港(08360) 股东特别大会的结果。||可能的实体：利骏集团香港,东特||利骏集...  \n",
       "2      推进科技自立自强， 国家集成电路设计自动化技术创新中心正式揭牌。21世纪经济报道记者 郭晨 ...  \n",
       "3      江苏省副省长胡广杰对eda国创中心成立表示祝贺。||可能的实体：胡广杰||他说,集成电路产业...  \n",
       "4      突出科产融合,推动创新链、产业链、资金链、人才链深度融合,着力解决一批基础理论和技术原理问题...  \n",
       "...                                                  ...  \n",
       "42975  原标题：多城“人才争夺战” 房地产市场格局难变。“二十一世纪什么最贵。人才。”直至十余年后，...  \n",
       "42976  工作期间保障交通工具。||可能的实体：交通||无独有偶。博州人才政策对于住房方面的关注在其他...  \n",
       "42977  这场对于人才的竞争已不再局限于城市之间。“战火”已悄悄弥漫至区、县等更小的行政单位。不过，一...  \n",
       "42978  3月18日，河北石家庄推动户口迁入“零门槛”，群众仅凭居民身份证、户口簿就可向落户地派出所申...  \n",
       "42979  中大城市的人才济济和持续人口聚集效应留给小城市的或是人口流出的落寞。易居研究院研究员沈昕对记...  \n",
       "\n",
       "[42980 rows x 15 columns]"
      ]
     },
     "execution_count": 39,
     "metadata": {},
     "output_type": "execute_result"
    }
   ],
   "source": [
    "split_sentence_df[[\"person_matched\", \"company_matched\", \"matched_keywords\", \"context_keywords\"]] = split_sentence_df.parallel_apply(entend_label_and_merge_content_keyword, axis=1).to_list()\n",
    "split_sentence_df"
   ]
  },
  {
   "cell_type": "code",
   "execution_count": 75,
   "metadata": {
    "tags": []
   },
   "outputs": [],
   "source": [
    "# split_sentence_df.head().to_dict(\"record\")"
   ]
  },
  {
   "cell_type": "code",
   "execution_count": 40,
   "metadata": {
    "tags": []
   },
   "outputs": [],
   "source": [
    "split_sentence_df['sign'] = split_sentence_df.apply(lambda row: row['Companys'].__len__() == 0 and row['Persons'].__len__() == 0, axis=1)\n"
   ]
  },
  {
   "cell_type": "code",
   "execution_count": 42,
   "metadata": {
    "tags": []
   },
   "outputs": [
    {
     "data": {
      "text/plain": [
       "((3387, 16), (39593, 16))"
      ]
     },
     "execution_count": 42,
     "metadata": {},
     "output_type": "execute_result"
    }
   ],
   "source": [
    "split_sentence_df[split_sentence_df['sign']==True].shape, split_sentence_df[split_sentence_df['sign']==False].shape"
   ]
  },
  {
   "cell_type": "code",
   "execution_count": 43,
   "metadata": {
    "tags": []
   },
   "outputs": [],
   "source": [
    "split_sentence_df[split_sentence_df['sign']==False].to_excel(\"/workspace/NER/bochk/manual_label_data.xlsx\", index=False)"
   ]
  },
  {
   "cell_type": "code",
   "execution_count": null,
   "metadata": {},
   "outputs": [],
   "source": []
  }
 ],
 "metadata": {
  "kernelspec": {
   "display_name": "Python 3 (ipykernel)",
   "language": "python",
   "name": "python3"
  },
  "language_info": {
   "codemirror_mode": {
    "name": "ipython",
    "version": 3
   },
   "file_extension": ".py",
   "mimetype": "text/x-python",
   "name": "python",
   "nbconvert_exporter": "python",
   "pygments_lexer": "ipython3",
   "version": "3.8.12"
  }
 },
 "nbformat": 4,
 "nbformat_minor": 4
}
