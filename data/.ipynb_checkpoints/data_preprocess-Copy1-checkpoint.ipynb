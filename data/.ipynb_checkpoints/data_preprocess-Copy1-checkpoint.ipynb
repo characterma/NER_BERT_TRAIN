{
 "cells": [
  {
   "cell_type": "code",
   "execution_count": 3,
   "metadata": {
    "tags": []
   },
   "outputs": [],
   "source": [
    "import emoji\n",
    "import re\n",
    "import random\n",
    "import pandas as pd \n",
    "import numpy as np\n",
    "from pandarallel import pandarallel\n",
    "from opencc import OpenCC\n",
    "from tqdm.auto import tqdm\n",
    "from zhconv import convert\n",
    "import copy"
   ]
  },
  {
   "cell_type": "markdown",
   "metadata": {},
   "source": [
    "# 处理之前ner积累的标注数据"
   ]
  },
  {
   "cell_type": "code",
   "execution_count": null,
   "metadata": {},
   "outputs": [],
   "source": [
    "import json\n",
    "golden_standard_df = pd.read_json(\"/workspace/NER/bochk/golden_standard 1.json\")\n",
    "golden_standard_df.shape\n"
   ]
  },
  {
   "cell_type": "markdown",
   "metadata": {},
   "source": [
    "# 处理bochk人工标注的数据"
   ]
  },
  {
   "cell_type": "code",
   "execution_count": 9,
   "metadata": {
    "tags": []
   },
   "outputs": [],
   "source": [
    "data = pd.read_excel(\"/workspace/NER/bochk/bochk.xlsx\")\n",
    "data['headline_content'] = data['content']"
   ]
  },
  {
   "cell_type": "code",
   "execution_count": 10,
   "metadata": {
    "tags": []
   },
   "outputs": [],
   "source": [
    "def split_sentences(text):\n",
    "    \n",
    "    sentences_ls = re.split(r'[?!;~。？！；～>\\n\\r]', text)\n",
    "    sentences = [sent for sent in sentences_ls if sent.strip() != '']\n",
    "    # sentences = list(zip(list(range(0, len(sentences))), sentences))\n",
    "    return sentences"
   ]
  },
  {
   "cell_type": "code",
   "execution_count": 11,
   "metadata": {
    "tags": []
   },
   "outputs": [],
   "source": [
    "def split_single_sentence(data: pd.DataFrame, sentence_length_limit: int=500):\n",
    "    \"\"\"\n",
    "    讲文章按照句号分割成句子\n",
    "    :param data:\n",
    "    :return:\n",
    "    \"\"\"\n",
    "    complete_data_list = []\n",
    "    for index, row in data.iterrows():\n",
    "        raw_single_dic = dict(row)\n",
    "        content = convert(row['content'], 'zh-cn')\n",
    "        processed_content_ls = split_sentences(content)\n",
    "        last_sentence_index = 0\n",
    "        sentence_index = 0\n",
    "        for i in range(processed_content_ls.__len__()+1):\n",
    "            # print(last_sentence_index, i)\n",
    "            text = \"。\".join(processed_content_ls[last_sentence_index:i])\n",
    "            if text.strip() != \"\":\n",
    "                if text.__len__() >= sentence_length_limit:\n",
    "                    # print(i, \"===\", text)\n",
    "                    raw_single_dic_backup = copy.copy(raw_single_dic)\n",
    "                    raw_single_dic_backup['content'] = text\n",
    "                    raw_single_dic_backup['split_sentence_index'] = sentence_index\n",
    "                    complete_data_list.append(raw_single_dic_backup)\n",
    "                    last_sentence_index = i\n",
    "                    sentence_index += 1\n",
    "                else:\n",
    "                    if i == processed_content_ls.__len__():\n",
    "                        # print(i, \"***\", text)\n",
    "                        raw_single_dic_backup = copy.copy(raw_single_dic)\n",
    "                        raw_single_dic_backup['content'] = text\n",
    "                        raw_single_dic_backup['split_sentence_index'] = sentence_index\n",
    "                        complete_data_list.append(raw_single_dic_backup)\n",
    "                        last_sentence_index = i\n",
    "                        sentence_index += 1\n",
    "                    else:\n",
    "                        pass\n",
    "    return pd.DataFrame(complete_data_list)\n"
   ]
  },
  {
   "cell_type": "code",
   "execution_count": 12,
   "metadata": {
    "tags": []
   },
   "outputs": [
    {
     "data": {
      "text/plain": [
       "((5741, 7),\n",
       " Index(['docid', 'headline', 'content', 'ner', 'matched_keywords',\n",
       "        'headline_content', 'split_sentence_index'],\n",
       "       dtype='object'))"
      ]
     },
     "execution_count": 12,
     "metadata": {},
     "output_type": "execute_result"
    }
   ],
   "source": [
    "split_sentence_df = split_single_sentence(data)\n",
    "split_sentence_df.shape, split_sentence_df.columns"
   ]
  },
  {
   "cell_type": "code",
   "execution_count": 13,
   "metadata": {
    "tags": []
   },
   "outputs": [
    {
     "data": {
      "text/html": [
       "<div>\n",
       "<style scoped>\n",
       "    .dataframe tbody tr th:only-of-type {\n",
       "        vertical-align: middle;\n",
       "    }\n",
       "\n",
       "    .dataframe tbody tr th {\n",
       "        vertical-align: top;\n",
       "    }\n",
       "\n",
       "    .dataframe thead th {\n",
       "        text-align: right;\n",
       "    }\n",
       "</style>\n",
       "<table border=\"1\" class=\"dataframe\">\n",
       "  <thead>\n",
       "    <tr style=\"text-align: right;\">\n",
       "      <th></th>\n",
       "      <th>docid</th>\n",
       "      <th>headline</th>\n",
       "      <th>content</th>\n",
       "      <th>ner</th>\n",
       "      <th>matched_keywords</th>\n",
       "      <th>headline_content</th>\n",
       "      <th>split_sentence_index</th>\n",
       "    </tr>\n",
       "  </thead>\n",
       "  <tbody>\n",
       "    <tr>\n",
       "      <th>0</th>\n",
       "      <td>2023063021774796465</td>\n",
       "      <td>NaN</td>\n",
       "      <td>宝申控股(08151) 停牌 / 内幕消息 / 其他-杂项。宝申控股(08151) 有关复牌...</td>\n",
       "      <td>[{'label_name': 'Company', 'text_segment': '寶申...</td>\n",
       "      <td>['寶申控股', '寶申控股']</td>\n",
       "      <td>寶申控股(08151) 停牌 / 內幕消息 / 其他-雜項\\n\\n寶申控股(08151) 有...</td>\n",
       "      <td>0</td>\n",
       "    </tr>\n",
       "    <tr>\n",
       "      <th>1</th>\n",
       "      <td>2023063021774796485</td>\n",
       "      <td>NaN</td>\n",
       "      <td>利骏集团香港(08360) 股东特别大会的结果。利骏集团香港(08360) 于二零二三年六月...</td>\n",
       "      <td>[{'label_name': 'Company', 'text_segment': '利駿...</td>\n",
       "      <td>['利駿集團', '利駿集團香港']</td>\n",
       "      <td>利駿集團香港(08360) 股東特別大會的結果\\n\\n利駿集團香港(08360) 於二零二三...</td>\n",
       "      <td>0</td>\n",
       "    </tr>\n",
       "    <tr>\n",
       "      <th>2</th>\n",
       "      <td>2023063021774796605</td>\n",
       "      <td>NaN</td>\n",
       "      <td>推进科技自立自强， 国家集成电路设计自动化技术创新中心正式揭牌。21世纪经济报道记者 郭晨 ...</td>\n",
       "      <td>[{'label_name': 'Company', 'text_segment': '21...</td>\n",
       "      <td>['21世紀經濟報道', '郭晨', '胡廣傑', '陳之常', '東南大學', '黃如',...</td>\n",
       "      <td>推進科技自立自強， 國家集成電路設計自動化技術創新中心正式揭牌\\n21世紀經濟報道記者 郭晨...</td>\n",
       "      <td>0</td>\n",
       "    </tr>\n",
       "    <tr>\n",
       "      <th>3</th>\n",
       "      <td>2023063021774796605</td>\n",
       "      <td>NaN</td>\n",
       "      <td>他说,集成电路产业是我省具有较强竞争力的优势产业之一,已形成覆盖设计、制造、封测、设备、材料...</td>\n",
       "      <td>[{'label_name': 'Company', 'text_segment': '21...</td>\n",
       "      <td>['21世紀經濟報道', '郭晨', '胡廣傑', '陳之常', '東南大學', '黃如',...</td>\n",
       "      <td>推進科技自立自強， 國家集成電路設計自動化技術創新中心正式揭牌\\n21世紀經濟報道記者 郭晨...</td>\n",
       "      <td>1</td>\n",
       "    </tr>\n",
       "    <tr>\n",
       "      <th>4</th>\n",
       "      <td>2023063021774796605</td>\n",
       "      <td>NaN</td>\n",
       "      <td>希望国创中心加快实体化运作,在理事会领导下高效执行、快速起跑,全力推动各项工作有序开展,真正...</td>\n",
       "      <td>[{'label_name': 'Company', 'text_segment': '21...</td>\n",
       "      <td>['21世紀經濟報道', '郭晨', '胡廣傑', '陳之常', '東南大學', '黃如',...</td>\n",
       "      <td>推進科技自立自強， 國家集成電路設計自動化技術創新中心正式揭牌\\n21世紀經濟報道記者 郭晨...</td>\n",
       "      <td>2</td>\n",
       "    </tr>\n",
       "  </tbody>\n",
       "</table>\n",
       "</div>"
      ],
      "text/plain": [
       "                 docid  headline  \\\n",
       "0  2023063021774796465       NaN   \n",
       "1  2023063021774796485       NaN   \n",
       "2  2023063021774796605       NaN   \n",
       "3  2023063021774796605       NaN   \n",
       "4  2023063021774796605       NaN   \n",
       "\n",
       "                                             content  \\\n",
       "0  宝申控股(08151) 停牌 / 内幕消息 / 其他-杂项。宝申控股(08151) 有关复牌...   \n",
       "1  利骏集团香港(08360) 股东特别大会的结果。利骏集团香港(08360) 于二零二三年六月...   \n",
       "2  推进科技自立自强， 国家集成电路设计自动化技术创新中心正式揭牌。21世纪经济报道记者 郭晨 ...   \n",
       "3  他说,集成电路产业是我省具有较强竞争力的优势产业之一,已形成覆盖设计、制造、封测、设备、材料...   \n",
       "4  希望国创中心加快实体化运作,在理事会领导下高效执行、快速起跑,全力推动各项工作有序开展,真正...   \n",
       "\n",
       "                                                 ner  \\\n",
       "0  [{'label_name': 'Company', 'text_segment': '寶申...   \n",
       "1  [{'label_name': 'Company', 'text_segment': '利駿...   \n",
       "2  [{'label_name': 'Company', 'text_segment': '21...   \n",
       "3  [{'label_name': 'Company', 'text_segment': '21...   \n",
       "4  [{'label_name': 'Company', 'text_segment': '21...   \n",
       "\n",
       "                                    matched_keywords  \\\n",
       "0                                   ['寶申控股', '寶申控股']   \n",
       "1                                 ['利駿集團', '利駿集團香港']   \n",
       "2  ['21世紀經濟報道', '郭晨', '胡廣傑', '陳之常', '東南大學', '黃如',...   \n",
       "3  ['21世紀經濟報道', '郭晨', '胡廣傑', '陳之常', '東南大學', '黃如',...   \n",
       "4  ['21世紀經濟報道', '郭晨', '胡廣傑', '陳之常', '東南大學', '黃如',...   \n",
       "\n",
       "                                    headline_content  split_sentence_index  \n",
       "0  寶申控股(08151) 停牌 / 內幕消息 / 其他-雜項\\n\\n寶申控股(08151) 有...                     0  \n",
       "1  利駿集團香港(08360) 股東特別大會的結果\\n\\n利駿集團香港(08360) 於二零二三...                     0  \n",
       "2  推進科技自立自強， 國家集成電路設計自動化技術創新中心正式揭牌\\n21世紀經濟報道記者 郭晨...                     0  \n",
       "3  推進科技自立自強， 國家集成電路設計自動化技術創新中心正式揭牌\\n21世紀經濟報道記者 郭晨...                     1  \n",
       "4  推進科技自立自強， 國家集成電路設計自動化技術創新中心正式揭牌\\n21世紀經濟報道記者 郭晨...                     2  "
      ]
     },
     "execution_count": 13,
     "metadata": {},
     "output_type": "execute_result"
    }
   ],
   "source": [
    "split_sentence_df.head()"
   ]
  },
  {
   "cell_type": "code",
   "execution_count": 14,
   "metadata": {
    "tags": []
   },
   "outputs": [],
   "source": [
    "def get_keyword(row):\n",
    "    companys = set()\n",
    "    person = set()\n",
    "    ner_list = eval(row['ner'])\n",
    "    # print(ner_list)\n",
    "    for dic in ner_list:\n",
    "        entity = convert(dic['text_segment'], 'zh-cn')\n",
    "        if entity in row['content']:\n",
    "            if dic['label_name']=='Company':\n",
    "                companys.add(entity)\n",
    "            elif dic['label_name']=='Person' :\n",
    "                person.add(entity) \n",
    "    return list(companys), list(person)\n",
    "    \n",
    "\n",
    "split_sentence_df[['Companys', \"Persons\"]] = split_sentence_df.apply(get_keyword, axis=1, result_type='expand')"
   ]
  },
  {
   "cell_type": "code",
   "execution_count": 15,
   "metadata": {
    "tags": []
   },
   "outputs": [],
   "source": [
    "# split_sentence_df.head(3).to_dict('record')"
   ]
  },
  {
   "cell_type": "code",
   "execution_count": 16,
   "metadata": {
    "tags": []
   },
   "outputs": [
    {
     "name": "stdout",
     "output_type": "stream",
     "text": [
      "False False\n",
      "True True\n"
     ]
    }
   ],
   "source": [
    "print(split_sentence_df['docid'].is_unique, split_sentence_df['docid'].is_unique)\n",
    "split_sentence_df['docid'] = split_sentence_df.apply(lambda row: str(row[\"docid\"]) + \"&&\" + str(row['split_sentence_index']), axis=1)\n",
    "print(split_sentence_df['docid'].is_unique, split_sentence_df['docid'].is_unique)"
   ]
  },
  {
   "cell_type": "markdown",
   "metadata": {},
   "source": [
    "## clean context"
   ]
  },
  {
   "cell_type": "code",
   "execution_count": 17,
   "metadata": {
    "tags": []
   },
   "outputs": [
    {
     "name": "stdout",
     "output_type": "stream",
     "text": [
      "INFO: Pandarallel will run on 32 workers.\n",
      "INFO: Pandarallel will use standard multiprocessing data transfer (pipe) to transfer data between the main process and workers.\n"
     ]
    },
    {
     "data": {
      "application/vnd.jupyter.widget-view+json": {
       "model_id": "3ac6f4757d9149afb64e1ab8ad44d4d7",
       "version_major": 2,
       "version_minor": 0
      },
      "text/plain": [
       "VBox(children=(HBox(children=(IntProgress(value=0, description='0.00%', max=180), Label(value='0 / 180'))), HB…"
      ]
     },
     "metadata": {},
     "output_type": "display_data"
    }
   ],
   "source": [
    "def clean_data(example):\n",
    "    \n",
    "    text = emoji.replace_emoji(example, replace=\"\")\n",
    "    # text = OpenCC('t2s.json').convert(text)\n",
    "    text = convert(text, 'zh-cn')\n",
    "    text = ''.join([x for x in text if x.isprintable()])\n",
    "    text = text.lower()\n",
    "    return text\n",
    "\n",
    "pandarallel.initialize(nb_workers=32, progress_bar=True, use_memory_fs=False)\n",
    "split_sentence_df[\"context_cleaned\"] = split_sentence_df.parallel_apply(lambda x: clean_data(x[\"content\"]), axis=1)"
   ]
  },
  {
   "cell_type": "markdown",
   "metadata": {},
   "source": [
    "## keyword list 回扫"
   ]
  },
  {
   "cell_type": "code",
   "execution_count": 18,
   "metadata": {
    "tags": []
   },
   "outputs": [
    {
     "data": {
      "text/html": [
       "<div>\n",
       "<style scoped>\n",
       "    .dataframe tbody tr th:only-of-type {\n",
       "        vertical-align: middle;\n",
       "    }\n",
       "\n",
       "    .dataframe tbody tr th {\n",
       "        vertical-align: top;\n",
       "    }\n",
       "\n",
       "    .dataframe thead th {\n",
       "        text-align: right;\n",
       "    }\n",
       "</style>\n",
       "<table border=\"1\" class=\"dataframe\">\n",
       "  <thead>\n",
       "    <tr style=\"text-align: right;\">\n",
       "      <th></th>\n",
       "      <th>docid</th>\n",
       "      <th>headline</th>\n",
       "      <th>content</th>\n",
       "      <th>ner</th>\n",
       "      <th>matched_keywords</th>\n",
       "      <th>headline_content</th>\n",
       "      <th>split_sentence_index</th>\n",
       "      <th>Companys</th>\n",
       "      <th>Persons</th>\n",
       "      <th>context_cleaned</th>\n",
       "    </tr>\n",
       "  </thead>\n",
       "  <tbody>\n",
       "    <tr>\n",
       "      <th>0</th>\n",
       "      <td>2023063021774796465&amp;&amp;0</td>\n",
       "      <td>NaN</td>\n",
       "      <td>宝申控股(08151) 停牌 / 内幕消息 / 其他-杂项。宝申控股(08151) 有关复牌...</td>\n",
       "      <td>[{'label_name': 'Company', 'text_segment': '寶申...</td>\n",
       "      <td>['寶申控股', '寶申控股']</td>\n",
       "      <td>寶申控股(08151) 停牌 / 內幕消息 / 其他-雜項\\n\\n寶申控股(08151) 有...</td>\n",
       "      <td>0</td>\n",
       "      <td>[宝申控股]</td>\n",
       "      <td>[]</td>\n",
       "      <td>宝申控股(08151) 停牌 / 内幕消息 / 其他-杂项。宝申控股(08151) 有关复牌...</td>\n",
       "    </tr>\n",
       "    <tr>\n",
       "      <th>1</th>\n",
       "      <td>2023063021774796485&amp;&amp;0</td>\n",
       "      <td>NaN</td>\n",
       "      <td>利骏集团香港(08360) 股东特别大会的结果。利骏集团香港(08360) 于二零二三年六月...</td>\n",
       "      <td>[{'label_name': 'Company', 'text_segment': '利駿...</td>\n",
       "      <td>['利駿集團', '利駿集團香港']</td>\n",
       "      <td>利駿集團香港(08360) 股東特別大會的結果\\n\\n利駿集團香港(08360) 於二零二三...</td>\n",
       "      <td>0</td>\n",
       "      <td>[利骏集团香港, 利骏集团]</td>\n",
       "      <td>[]</td>\n",
       "      <td>利骏集团香港(08360) 股东特别大会的结果。利骏集团香港(08360) 于二零二三年六月...</td>\n",
       "    </tr>\n",
       "    <tr>\n",
       "      <th>2</th>\n",
       "      <td>2023063021774796605&amp;&amp;0</td>\n",
       "      <td>NaN</td>\n",
       "      <td>推进科技自立自强， 国家集成电路设计自动化技术创新中心正式揭牌。21世纪经济报道记者 郭晨 ...</td>\n",
       "      <td>[{'label_name': 'Company', 'text_segment': '21...</td>\n",
       "      <td>['21世紀經濟報道', '郭晨', '胡廣傑', '陳之常', '東南大學', '黃如',...</td>\n",
       "      <td>推進科技自立自強， 國家集成電路設計自動化技術創新中心正式揭牌\\n21世紀經濟報道記者 郭晨...</td>\n",
       "      <td>0</td>\n",
       "      <td>[东南大学, 21世纪经济报道]</td>\n",
       "      <td>[杨学鹏, 陈之常, 吴刚, 郭晨, 徐光辉, 黄如, 胡广杰]</td>\n",
       "      <td>推进科技自立自强， 国家集成电路设计自动化技术创新中心正式揭牌。21世纪经济报道记者 郭晨 ...</td>\n",
       "    </tr>\n",
       "    <tr>\n",
       "      <th>3</th>\n",
       "      <td>2023063021774796605&amp;&amp;1</td>\n",
       "      <td>NaN</td>\n",
       "      <td>他说,集成电路产业是我省具有较强竞争力的优势产业之一,已形成覆盖设计、制造、封测、设备、材料...</td>\n",
       "      <td>[{'label_name': 'Company', 'text_segment': '21...</td>\n",
       "      <td>['21世紀經濟報道', '郭晨', '胡廣傑', '陳之常', '東南大學', '黃如',...</td>\n",
       "      <td>推進科技自立自強， 國家集成電路設計自動化技術創新中心正式揭牌\\n21世紀經濟報道記者 郭晨...</td>\n",
       "      <td>1</td>\n",
       "      <td>[东南大学]</td>\n",
       "      <td>[胡广杰, 陈之常]</td>\n",
       "      <td>他说,集成电路产业是我省具有较强竞争力的优势产业之一,已形成覆盖设计、制造、封测、设备、材料...</td>\n",
       "    </tr>\n",
       "    <tr>\n",
       "      <th>4</th>\n",
       "      <td>2023063021774796605&amp;&amp;2</td>\n",
       "      <td>NaN</td>\n",
       "      <td>希望国创中心加快实体化运作,在理事会领导下高效执行、快速起跑,全力推动各项工作有序开展,真正...</td>\n",
       "      <td>[{'label_name': 'Company', 'text_segment': '21...</td>\n",
       "      <td>['21世紀經濟報道', '郭晨', '胡廣傑', '陳之常', '東南大學', '黃如',...</td>\n",
       "      <td>推進科技自立自強， 國家集成電路設計自動化技術創新中心正式揭牌\\n21世紀經濟報道記者 郭晨...</td>\n",
       "      <td>2</td>\n",
       "      <td>[21 世纪经济报道, 东南大学]</td>\n",
       "      <td>[黄如]</td>\n",
       "      <td>希望国创中心加快实体化运作,在理事会领导下高效执行、快速起跑,全力推动各项工作有序开展,真正...</td>\n",
       "    </tr>\n",
       "  </tbody>\n",
       "</table>\n",
       "</div>"
      ],
      "text/plain": [
       "                    docid  headline  \\\n",
       "0  2023063021774796465&&0       NaN   \n",
       "1  2023063021774796485&&0       NaN   \n",
       "2  2023063021774796605&&0       NaN   \n",
       "3  2023063021774796605&&1       NaN   \n",
       "4  2023063021774796605&&2       NaN   \n",
       "\n",
       "                                             content  \\\n",
       "0  宝申控股(08151) 停牌 / 内幕消息 / 其他-杂项。宝申控股(08151) 有关复牌...   \n",
       "1  利骏集团香港(08360) 股东特别大会的结果。利骏集团香港(08360) 于二零二三年六月...   \n",
       "2  推进科技自立自强， 国家集成电路设计自动化技术创新中心正式揭牌。21世纪经济报道记者 郭晨 ...   \n",
       "3  他说,集成电路产业是我省具有较强竞争力的优势产业之一,已形成覆盖设计、制造、封测、设备、材料...   \n",
       "4  希望国创中心加快实体化运作,在理事会领导下高效执行、快速起跑,全力推动各项工作有序开展,真正...   \n",
       "\n",
       "                                                 ner  \\\n",
       "0  [{'label_name': 'Company', 'text_segment': '寶申...   \n",
       "1  [{'label_name': 'Company', 'text_segment': '利駿...   \n",
       "2  [{'label_name': 'Company', 'text_segment': '21...   \n",
       "3  [{'label_name': 'Company', 'text_segment': '21...   \n",
       "4  [{'label_name': 'Company', 'text_segment': '21...   \n",
       "\n",
       "                                    matched_keywords  \\\n",
       "0                                   ['寶申控股', '寶申控股']   \n",
       "1                                 ['利駿集團', '利駿集團香港']   \n",
       "2  ['21世紀經濟報道', '郭晨', '胡廣傑', '陳之常', '東南大學', '黃如',...   \n",
       "3  ['21世紀經濟報道', '郭晨', '胡廣傑', '陳之常', '東南大學', '黃如',...   \n",
       "4  ['21世紀經濟報道', '郭晨', '胡廣傑', '陳之常', '東南大學', '黃如',...   \n",
       "\n",
       "                                    headline_content  split_sentence_index  \\\n",
       "0  寶申控股(08151) 停牌 / 內幕消息 / 其他-雜項\\n\\n寶申控股(08151) 有...                     0   \n",
       "1  利駿集團香港(08360) 股東特別大會的結果\\n\\n利駿集團香港(08360) 於二零二三...                     0   \n",
       "2  推進科技自立自強， 國家集成電路設計自動化技術創新中心正式揭牌\\n21世紀經濟報道記者 郭晨...                     0   \n",
       "3  推進科技自立自強， 國家集成電路設計自動化技術創新中心正式揭牌\\n21世紀經濟報道記者 郭晨...                     1   \n",
       "4  推進科技自立自強， 國家集成電路設計自動化技術創新中心正式揭牌\\n21世紀經濟報道記者 郭晨...                     2   \n",
       "\n",
       "            Companys                           Persons  \\\n",
       "0             [宝申控股]                                []   \n",
       "1     [利骏集团香港, 利骏集团]                                []   \n",
       "2   [东南大学, 21世纪经济报道]  [杨学鹏, 陈之常, 吴刚, 郭晨, 徐光辉, 黄如, 胡广杰]   \n",
       "3             [东南大学]                        [胡广杰, 陈之常]   \n",
       "4  [21 世纪经济报道, 东南大学]                              [黄如]   \n",
       "\n",
       "                                     context_cleaned  \n",
       "0  宝申控股(08151) 停牌 / 内幕消息 / 其他-杂项。宝申控股(08151) 有关复牌...  \n",
       "1  利骏集团香港(08360) 股东特别大会的结果。利骏集团香港(08360) 于二零二三年六月...  \n",
       "2  推进科技自立自强， 国家集成电路设计自动化技术创新中心正式揭牌。21世纪经济报道记者 郭晨 ...  \n",
       "3  他说,集成电路产业是我省具有较强竞争力的优势产业之一,已形成覆盖设计、制造、封测、设备、材料...  \n",
       "4  希望国创中心加快实体化运作,在理事会领导下高效执行、快速起跑,全力推动各项工作有序开展,真正...  "
      ]
     },
     "execution_count": 18,
     "metadata": {},
     "output_type": "execute_result"
    }
   ],
   "source": [
    "split_sentence_df.head()"
   ]
  },
  {
   "cell_type": "code",
   "execution_count": 19,
   "metadata": {
    "tags": []
   },
   "outputs": [],
   "source": [
    "def entend_label_and_merge_content_keyword(example, threshold=-1.0):\n",
    "    brand_labels = [convert(word, 'zh-cn') for word in example['Companys'].copy()]\n",
    "    product_labels = [convert(word, 'zh-cn') for word in example['Persons'].copy()]\n",
    "    text = example['context_cleaned']\n",
    "    # brand_matched_keywords, product_matched_keywords = [], []\n",
    "    # if pd.notna(text):\n",
    "    #     for keyword in brand_list:\n",
    "    #         if keyword.lower() in text.lower():\n",
    "    #             brand_matched_keywords.append(keyword.lower())\n",
    "    #     for keyword in product_list:\n",
    "    #         if keyword.lower() in text.lower():\n",
    "    #             product_matched_keywords.append(keyword.lower())\n",
    "\n",
    "    # brand_labels.extend(brand_matched_keywords)\n",
    "    # product_labels.extend(product_matched_keywords)\n",
    "    brand_labels = list(set(brand_labels))\n",
    "    product_labels = list(set(product_labels))\n",
    "    brand_labels_, product_labels_ = [], []\n",
    "    for i in brand_labels:\n",
    "        temp = brand_labels.copy()\n",
    "        temp.remove(i)\n",
    "        flag = 1\n",
    "        for j in temp:\n",
    "            if i not in j:\n",
    "                continue\n",
    "            else:\n",
    "                flag = 0\n",
    "                break\n",
    "        if flag:\n",
    "            brand_labels_.append(i)\n",
    "    for i in product_labels:\n",
    "        temp = product_labels.copy()\n",
    "        temp.remove(i)\n",
    "        flag = 1\n",
    "        for j in temp:\n",
    "            if i not in j:\n",
    "                continue\n",
    "            else:\n",
    "                flag = 0\n",
    "                break\n",
    "        if flag:\n",
    "            product_labels_.append(i)\n",
    "    \n",
    "    labels_ = brand_labels_ + product_labels_\n",
    "    \n",
    "\n",
    "    text_list = []\n",
    "    separator = \"。！？#?!\"\n",
    "    start, end = 0, 0\n",
    "    while end < len(text):\n",
    "        if text[end] in separator:\n",
    "            text_list.append(text[start:end+1])\n",
    "            start, end = end + 1, end + 1\n",
    "        else:\n",
    "            end += 1\n",
    "        \n",
    "        if end == len(text) - 1:\n",
    "            text_list.append(text[start:end+1])\n",
    "\n",
    "    for idx, t in enumerate(text_list):\n",
    "        temp = []\n",
    "        for l in labels_:\n",
    "            if l in t:\n",
    "                temp.append(l)\n",
    "        if temp != []:\n",
    "            text_list[idx] = text_list[idx] + '||可能的实体：' + \",\".join(temp) + '||' \n",
    "    return product_labels_, brand_labels_, labels_, \"\".join(text_list)"
   ]
  },
  {
   "cell_type": "code",
   "execution_count": 20,
   "metadata": {
    "tags": []
   },
   "outputs": [
    {
     "data": {
      "application/vnd.jupyter.widget-view+json": {
       "model_id": "5e71b8bd1bde43749d015921942bb471",
       "version_major": 2,
       "version_minor": 0
      },
      "text/plain": [
       "VBox(children=(HBox(children=(IntProgress(value=0, description='0.00%', max=180), Label(value='0 / 180'))), HB…"
      ]
     },
     "metadata": {},
     "output_type": "display_data"
    },
    {
     "name": "stderr",
     "output_type": "stream",
     "text": [
      "/opt/conda/lib/python3.8/site-packages/numpy/core/fromnumeric.py:3156: VisibleDeprecationWarning: Creating an ndarray from ragged nested sequences (which is a list-or-tuple of lists-or-tuples-or ndarrays with different lengths or shapes) is deprecated. If you meant to do this, you must specify 'dtype=object' when creating the ndarray.\n",
      "  return asarray(a).ndim\n"
     ]
    },
    {
     "data": {
      "text/html": [
       "<div>\n",
       "<style scoped>\n",
       "    .dataframe tbody tr th:only-of-type {\n",
       "        vertical-align: middle;\n",
       "    }\n",
       "\n",
       "    .dataframe tbody tr th {\n",
       "        vertical-align: top;\n",
       "    }\n",
       "\n",
       "    .dataframe thead th {\n",
       "        text-align: right;\n",
       "    }\n",
       "</style>\n",
       "<table border=\"1\" class=\"dataframe\">\n",
       "  <thead>\n",
       "    <tr style=\"text-align: right;\">\n",
       "      <th></th>\n",
       "      <th>docid</th>\n",
       "      <th>headline</th>\n",
       "      <th>content</th>\n",
       "      <th>ner</th>\n",
       "      <th>matched_keywords</th>\n",
       "      <th>headline_content</th>\n",
       "      <th>split_sentence_index</th>\n",
       "      <th>Companys</th>\n",
       "      <th>Persons</th>\n",
       "      <th>context_cleaned</th>\n",
       "      <th>person_matched</th>\n",
       "      <th>company_matched</th>\n",
       "      <th>context_keywords</th>\n",
       "    </tr>\n",
       "  </thead>\n",
       "  <tbody>\n",
       "    <tr>\n",
       "      <th>0</th>\n",
       "      <td>2023063021774796465&amp;&amp;0</td>\n",
       "      <td>NaN</td>\n",
       "      <td>宝申控股(08151) 停牌 / 内幕消息 / 其他-杂项。宝申控股(08151) 有关复牌...</td>\n",
       "      <td>[{'label_name': 'Company', 'text_segment': '寶申...</td>\n",
       "      <td>[宝申控股]</td>\n",
       "      <td>寶申控股(08151) 停牌 / 內幕消息 / 其他-雜項\\n\\n寶申控股(08151) 有...</td>\n",
       "      <td>0</td>\n",
       "      <td>[宝申控股]</td>\n",
       "      <td>[]</td>\n",
       "      <td>宝申控股(08151) 停牌 / 内幕消息 / 其他-杂项。宝申控股(08151) 有关复牌...</td>\n",
       "      <td>[]</td>\n",
       "      <td>[宝申控股]</td>\n",
       "      <td>宝申控股(08151) 停牌 / 内幕消息 / 其他-杂项。||可能的实体：宝申控股||宝申...</td>\n",
       "    </tr>\n",
       "    <tr>\n",
       "      <th>1</th>\n",
       "      <td>2023063021774796485&amp;&amp;0</td>\n",
       "      <td>NaN</td>\n",
       "      <td>利骏集团香港(08360) 股东特别大会的结果。利骏集团香港(08360) 于二零二三年六月...</td>\n",
       "      <td>[{'label_name': 'Company', 'text_segment': '利駿...</td>\n",
       "      <td>[利骏集团香港]</td>\n",
       "      <td>利駿集團香港(08360) 股東特別大會的結果\\n\\n利駿集團香港(08360) 於二零二三...</td>\n",
       "      <td>0</td>\n",
       "      <td>[利骏集团香港, 利骏集团]</td>\n",
       "      <td>[]</td>\n",
       "      <td>利骏集团香港(08360) 股东特别大会的结果。利骏集团香港(08360) 于二零二三年六月...</td>\n",
       "      <td>[]</td>\n",
       "      <td>[利骏集团香港]</td>\n",
       "      <td>利骏集团香港(08360) 股东特别大会的结果。||可能的实体：利骏集团香港||利骏集团香港...</td>\n",
       "    </tr>\n",
       "    <tr>\n",
       "      <th>2</th>\n",
       "      <td>2023063021774796605&amp;&amp;0</td>\n",
       "      <td>NaN</td>\n",
       "      <td>推进科技自立自强， 国家集成电路设计自动化技术创新中心正式揭牌。21世纪经济报道记者 郭晨 ...</td>\n",
       "      <td>[{'label_name': 'Company', 'text_segment': '21...</td>\n",
       "      <td>[东南大学, 21世纪经济报道, 杨学鹏, 陈之常, 吴刚, 郭晨, 徐光辉, 黄如, 胡广杰]</td>\n",
       "      <td>推進科技自立自強， 國家集成電路設計自動化技術創新中心正式揭牌\\n21世紀經濟報道記者 郭晨...</td>\n",
       "      <td>0</td>\n",
       "      <td>[东南大学, 21世纪经济报道]</td>\n",
       "      <td>[杨学鹏, 陈之常, 吴刚, 郭晨, 徐光辉, 黄如, 胡广杰]</td>\n",
       "      <td>推进科技自立自强， 国家集成电路设计自动化技术创新中心正式揭牌。21世纪经济报道记者 郭晨 ...</td>\n",
       "      <td>[杨学鹏, 陈之常, 吴刚, 郭晨, 徐光辉, 黄如, 胡广杰]</td>\n",
       "      <td>[东南大学, 21世纪经济报道]</td>\n",
       "      <td>推进科技自立自强， 国家集成电路设计自动化技术创新中心正式揭牌。21世纪经济报道记者 郭晨 ...</td>\n",
       "    </tr>\n",
       "    <tr>\n",
       "      <th>3</th>\n",
       "      <td>2023063021774796605&amp;&amp;1</td>\n",
       "      <td>NaN</td>\n",
       "      <td>他说,集成电路产业是我省具有较强竞争力的优势产业之一,已形成覆盖设计、制造、封测、设备、材料...</td>\n",
       "      <td>[{'label_name': 'Company', 'text_segment': '21...</td>\n",
       "      <td>[东南大学, 胡广杰, 陈之常]</td>\n",
       "      <td>推進科技自立自強， 國家集成電路設計自動化技術創新中心正式揭牌\\n21世紀經濟報道記者 郭晨...</td>\n",
       "      <td>1</td>\n",
       "      <td>[东南大学]</td>\n",
       "      <td>[胡广杰, 陈之常]</td>\n",
       "      <td>他说,集成电路产业是我省具有较强竞争力的优势产业之一,已形成覆盖设计、制造、封测、设备、材料...</td>\n",
       "      <td>[胡广杰, 陈之常]</td>\n",
       "      <td>[东南大学]</td>\n",
       "      <td>他说,集成电路产业是我省具有较强竞争力的优势产业之一,已形成覆盖设计、制造、封测、设备、材料...</td>\n",
       "    </tr>\n",
       "    <tr>\n",
       "      <th>4</th>\n",
       "      <td>2023063021774796605&amp;&amp;2</td>\n",
       "      <td>NaN</td>\n",
       "      <td>希望国创中心加快实体化运作,在理事会领导下高效执行、快速起跑,全力推动各项工作有序开展,真正...</td>\n",
       "      <td>[{'label_name': 'Company', 'text_segment': '21...</td>\n",
       "      <td>[21 世纪经济报道, 东南大学, 黄如]</td>\n",
       "      <td>推進科技自立自強， 國家集成電路設計自動化技術創新中心正式揭牌\\n21世紀經濟報道記者 郭晨...</td>\n",
       "      <td>2</td>\n",
       "      <td>[21 世纪经济报道, 东南大学]</td>\n",
       "      <td>[黄如]</td>\n",
       "      <td>希望国创中心加快实体化运作,在理事会领导下高效执行、快速起跑,全力推动各项工作有序开展,真正...</td>\n",
       "      <td>[黄如]</td>\n",
       "      <td>[21 世纪经济报道, 东南大学]</td>\n",
       "      <td>希望国创中心加快实体化运作,在理事会领导下高效执行、快速起跑,全力推动各项工作有序开展,真正...</td>\n",
       "    </tr>\n",
       "    <tr>\n",
       "      <th>...</th>\n",
       "      <td>...</td>\n",
       "      <td>...</td>\n",
       "      <td>...</td>\n",
       "      <td>...</td>\n",
       "      <td>...</td>\n",
       "      <td>...</td>\n",
       "      <td>...</td>\n",
       "      <td>...</td>\n",
       "      <td>...</td>\n",
       "      <td>...</td>\n",
       "      <td>...</td>\n",
       "      <td>...</td>\n",
       "      <td>...</td>\n",
       "    </tr>\n",
       "    <tr>\n",
       "      <th>5736</th>\n",
       "      <td>2024040821780588242&amp;&amp;0</td>\n",
       "      <td>NaN</td>\n",
       "      <td>荃湾油柑头村男子烧炭亡 尸身发臭 母亲上门揭发。荃湾油柑头村一间村屋，今（8日）中午约1时，...</td>\n",
       "      <td>[{'label_name': 'Company', 'text_segment': '荃灣...</td>\n",
       "      <td>[荃湾油, 叶儿子, 梁国峰]</td>\n",
       "      <td>荃灣油柑頭村男子燒炭亡 屍身發臭 母親上門揭發\\n\\n荃灣油柑頭村一間村屋，今（8日）中午約...</td>\n",
       "      <td>0</td>\n",
       "      <td>[荃湾油]</td>\n",
       "      <td>[叶儿子, 梁国峰]</td>\n",
       "      <td>荃湾油柑头村男子烧炭亡 尸身发臭 母亲上门揭发。荃湾油柑头村一间村屋，今（8日）中午约1时，...</td>\n",
       "      <td>[叶儿子, 梁国峰]</td>\n",
       "      <td>[荃湾油]</td>\n",
       "      <td>荃湾油柑头村男子烧炭亡 尸身发臭 母亲上门揭发。||可能的实体：荃湾油||荃湾油柑头村一间村...</td>\n",
       "    </tr>\n",
       "    <tr>\n",
       "      <th>5737</th>\n",
       "      <td>2024040821782377467&amp;&amp;0</td>\n",
       "      <td>NaN</td>\n",
       "      <td>天宝集团(01979) 股东特别大会的结果 / 股份计划。天宝集团(01979) 于二零二四...</td>\n",
       "      <td>[{'label_name': 'Company', 'text_segment': '天寶...</td>\n",
       "      <td>[天宝集团]</td>\n",
       "      <td>天寶集團(01979) 股東特別大會的結果 / 股份計劃\\n\\n天寶集團(01979) 於二...</td>\n",
       "      <td>0</td>\n",
       "      <td>[天宝集团]</td>\n",
       "      <td>[]</td>\n",
       "      <td>天宝集团(01979) 股东特别大会的结果 / 股份计划。天宝集团(01979) 于二零二四...</td>\n",
       "      <td>[]</td>\n",
       "      <td>[天宝集团]</td>\n",
       "      <td>天宝集团(01979) 股东特别大会的结果 / 股份计划。||可能的实体：天宝集团||天宝集...</td>\n",
       "    </tr>\n",
       "    <tr>\n",
       "      <th>5738</th>\n",
       "      <td>2024040900001469772&amp;&amp;0</td>\n",
       "      <td>NaN</td>\n",
       "      <td>周大福教育集团在穗启动“创学元”。  博萃德学校(中国)荣誉督学马贤慧表示，该集团将立足大湾...</td>\n",
       "      <td>[{'label_name': 'Company', 'text_segment': '周大...</td>\n",
       "      <td>[周大福教育集团, 博萃德学校(中国), 马贤慧]</td>\n",
       "      <td>周大福教育集團在穗啟動「創學元」\\n  博萃德學校(中國)榮譽督學馬賢慧表示，該集團將立足大...</td>\n",
       "      <td>0</td>\n",
       "      <td>[周大福教育集团, 博萃德学校(中国), 中国)]</td>\n",
       "      <td>[马贤慧]</td>\n",
       "      <td>周大福教育集团在穗启动“创学元”。  博萃德学校(中国)荣誉督学马贤慧表示，该集团将立足大湾...</td>\n",
       "      <td>[马贤慧]</td>\n",
       "      <td>[周大福教育集团, 博萃德学校(中国)]</td>\n",
       "      <td>周大福教育集团在穗启动“创学元”。||可能的实体：周大福教育集团||  博萃德学校(中国)荣...</td>\n",
       "    </tr>\n",
       "    <tr>\n",
       "      <th>5739</th>\n",
       "      <td>2024040900001469772&amp;&amp;1</td>\n",
       "      <td>NaN</td>\n",
       "      <td>在课程体系方面，广州博萃德小学、初中以国家课程为核心，帮助学生打好坚实的学业基础与双语双文能...</td>\n",
       "      <td>[{'label_name': 'Company', 'text_segment': '周大...</td>\n",
       "      <td>[A-Level, IGCSE]</td>\n",
       "      <td>周大福教育集團在穗啟動「創學元」\\n  博萃德學校(中國)榮譽督學馬賢慧表示，該集團將立足大...</td>\n",
       "      <td>1</td>\n",
       "      <td>[A-Level, IGCSE]</td>\n",
       "      <td>[]</td>\n",
       "      <td>在课程体系方面，广州博萃德小学、初中以国家课程为核心，帮助学生打好坚实的学业基础与双语双文能...</td>\n",
       "      <td>[]</td>\n",
       "      <td>[A-Level, IGCSE]</td>\n",
       "      <td>在课程体系方面，广州博萃德小学、初中以国家课程为核心，帮助学生打好坚实的学业基础与双语双文能...</td>\n",
       "    </tr>\n",
       "    <tr>\n",
       "      <th>5740</th>\n",
       "      <td>2024040821777911530&amp;&amp;0</td>\n",
       "      <td>NaN</td>\n",
       "      <td>COOL LINK(08491) 月报表。COOL LINK(08491) 截至二零二四年三...</td>\n",
       "      <td>[{'label_name': 'Company', 'text_segment': 'CO...</td>\n",
       "      <td>[COOL LINK]</td>\n",
       "      <td>COOL LINK(08491) 月報表\\n\\nCOOL LINK(08491) 截至二零二...</td>\n",
       "      <td>0</td>\n",
       "      <td>[COOL LINK]</td>\n",
       "      <td>[]</td>\n",
       "      <td>cool link(08491) 月报表。cool link(08491) 截至二零二四年三...</td>\n",
       "      <td>[]</td>\n",
       "      <td>[COOL LINK]</td>\n",
       "      <td>cool link(08491) 月报表。cool link(08491) 截至二零二四年三...</td>\n",
       "    </tr>\n",
       "  </tbody>\n",
       "</table>\n",
       "<p>5741 rows × 13 columns</p>\n",
       "</div>"
      ],
      "text/plain": [
       "                       docid  headline  \\\n",
       "0     2023063021774796465&&0       NaN   \n",
       "1     2023063021774796485&&0       NaN   \n",
       "2     2023063021774796605&&0       NaN   \n",
       "3     2023063021774796605&&1       NaN   \n",
       "4     2023063021774796605&&2       NaN   \n",
       "...                      ...       ...   \n",
       "5736  2024040821780588242&&0       NaN   \n",
       "5737  2024040821782377467&&0       NaN   \n",
       "5738  2024040900001469772&&0       NaN   \n",
       "5739  2024040900001469772&&1       NaN   \n",
       "5740  2024040821777911530&&0       NaN   \n",
       "\n",
       "                                                content  \\\n",
       "0     宝申控股(08151) 停牌 / 内幕消息 / 其他-杂项。宝申控股(08151) 有关复牌...   \n",
       "1     利骏集团香港(08360) 股东特别大会的结果。利骏集团香港(08360) 于二零二三年六月...   \n",
       "2     推进科技自立自强， 国家集成电路设计自动化技术创新中心正式揭牌。21世纪经济报道记者 郭晨 ...   \n",
       "3     他说,集成电路产业是我省具有较强竞争力的优势产业之一,已形成覆盖设计、制造、封测、设备、材料...   \n",
       "4     希望国创中心加快实体化运作,在理事会领导下高效执行、快速起跑,全力推动各项工作有序开展,真正...   \n",
       "...                                                 ...   \n",
       "5736  荃湾油柑头村男子烧炭亡 尸身发臭 母亲上门揭发。荃湾油柑头村一间村屋，今（8日）中午约1时，...   \n",
       "5737  天宝集团(01979) 股东特别大会的结果 / 股份计划。天宝集团(01979) 于二零二四...   \n",
       "5738  周大福教育集团在穗启动“创学元”。  博萃德学校(中国)荣誉督学马贤慧表示，该集团将立足大湾...   \n",
       "5739  在课程体系方面，广州博萃德小学、初中以国家课程为核心，帮助学生打好坚实的学业基础与双语双文能...   \n",
       "5740  COOL LINK(08491) 月报表。COOL LINK(08491) 截至二零二四年三...   \n",
       "\n",
       "                                                    ner  \\\n",
       "0     [{'label_name': 'Company', 'text_segment': '寶申...   \n",
       "1     [{'label_name': 'Company', 'text_segment': '利駿...   \n",
       "2     [{'label_name': 'Company', 'text_segment': '21...   \n",
       "3     [{'label_name': 'Company', 'text_segment': '21...   \n",
       "4     [{'label_name': 'Company', 'text_segment': '21...   \n",
       "...                                                 ...   \n",
       "5736  [{'label_name': 'Company', 'text_segment': '荃灣...   \n",
       "5737  [{'label_name': 'Company', 'text_segment': '天寶...   \n",
       "5738  [{'label_name': 'Company', 'text_segment': '周大...   \n",
       "5739  [{'label_name': 'Company', 'text_segment': '周大...   \n",
       "5740  [{'label_name': 'Company', 'text_segment': 'CO...   \n",
       "\n",
       "                                      matched_keywords  \\\n",
       "0                                               [宝申控股]   \n",
       "1                                             [利骏集团香港]   \n",
       "2     [东南大学, 21世纪经济报道, 杨学鹏, 陈之常, 吴刚, 郭晨, 徐光辉, 黄如, 胡广杰]   \n",
       "3                                     [东南大学, 胡广杰, 陈之常]   \n",
       "4                                [21 世纪经济报道, 东南大学, 黄如]   \n",
       "...                                                ...   \n",
       "5736                                   [荃湾油, 叶儿子, 梁国峰]   \n",
       "5737                                            [天宝集团]   \n",
       "5738                         [周大福教育集团, 博萃德学校(中国), 马贤慧]   \n",
       "5739                                  [A-Level, IGCSE]   \n",
       "5740                                       [COOL LINK]   \n",
       "\n",
       "                                       headline_content  split_sentence_index  \\\n",
       "0     寶申控股(08151) 停牌 / 內幕消息 / 其他-雜項\\n\\n寶申控股(08151) 有...                     0   \n",
       "1     利駿集團香港(08360) 股東特別大會的結果\\n\\n利駿集團香港(08360) 於二零二三...                     0   \n",
       "2     推進科技自立自強， 國家集成電路設計自動化技術創新中心正式揭牌\\n21世紀經濟報道記者 郭晨...                     0   \n",
       "3     推進科技自立自強， 國家集成電路設計自動化技術創新中心正式揭牌\\n21世紀經濟報道記者 郭晨...                     1   \n",
       "4     推進科技自立自強， 國家集成電路設計自動化技術創新中心正式揭牌\\n21世紀經濟報道記者 郭晨...                     2   \n",
       "...                                                 ...                   ...   \n",
       "5736  荃灣油柑頭村男子燒炭亡 屍身發臭 母親上門揭發\\n\\n荃灣油柑頭村一間村屋，今（8日）中午約...                     0   \n",
       "5737  天寶集團(01979) 股東特別大會的結果 / 股份計劃\\n\\n天寶集團(01979) 於二...                     0   \n",
       "5738  周大福教育集團在穗啟動「創學元」\\n  博萃德學校(中國)榮譽督學馬賢慧表示，該集團將立足大...                     0   \n",
       "5739  周大福教育集團在穗啟動「創學元」\\n  博萃德學校(中國)榮譽督學馬賢慧表示，該集團將立足大...                     1   \n",
       "5740  COOL LINK(08491) 月報表\\n\\nCOOL LINK(08491) 截至二零二...                     0   \n",
       "\n",
       "                       Companys                           Persons  \\\n",
       "0                        [宝申控股]                                []   \n",
       "1                [利骏集团香港, 利骏集团]                                []   \n",
       "2              [东南大学, 21世纪经济报道]  [杨学鹏, 陈之常, 吴刚, 郭晨, 徐光辉, 黄如, 胡广杰]   \n",
       "3                        [东南大学]                        [胡广杰, 陈之常]   \n",
       "4             [21 世纪经济报道, 东南大学]                              [黄如]   \n",
       "...                         ...                               ...   \n",
       "5736                      [荃湾油]                        [叶儿子, 梁国峰]   \n",
       "5737                     [天宝集团]                                []   \n",
       "5738  [周大福教育集团, 博萃德学校(中国), 中国)]                             [马贤慧]   \n",
       "5739           [A-Level, IGCSE]                                []   \n",
       "5740                [COOL LINK]                                []   \n",
       "\n",
       "                                        context_cleaned  \\\n",
       "0     宝申控股(08151) 停牌 / 内幕消息 / 其他-杂项。宝申控股(08151) 有关复牌...   \n",
       "1     利骏集团香港(08360) 股东特别大会的结果。利骏集团香港(08360) 于二零二三年六月...   \n",
       "2     推进科技自立自强， 国家集成电路设计自动化技术创新中心正式揭牌。21世纪经济报道记者 郭晨 ...   \n",
       "3     他说,集成电路产业是我省具有较强竞争力的优势产业之一,已形成覆盖设计、制造、封测、设备、材料...   \n",
       "4     希望国创中心加快实体化运作,在理事会领导下高效执行、快速起跑,全力推动各项工作有序开展,真正...   \n",
       "...                                                 ...   \n",
       "5736  荃湾油柑头村男子烧炭亡 尸身发臭 母亲上门揭发。荃湾油柑头村一间村屋，今（8日）中午约1时，...   \n",
       "5737  天宝集团(01979) 股东特别大会的结果 / 股份计划。天宝集团(01979) 于二零二四...   \n",
       "5738  周大福教育集团在穗启动“创学元”。  博萃德学校(中国)荣誉督学马贤慧表示，该集团将立足大湾...   \n",
       "5739  在课程体系方面，广州博萃德小学、初中以国家课程为核心，帮助学生打好坚实的学业基础与双语双文能...   \n",
       "5740  cool link(08491) 月报表。cool link(08491) 截至二零二四年三...   \n",
       "\n",
       "                        person_matched       company_matched  \\\n",
       "0                                   []                [宝申控股]   \n",
       "1                                   []              [利骏集团香港]   \n",
       "2     [杨学鹏, 陈之常, 吴刚, 郭晨, 徐光辉, 黄如, 胡广杰]      [东南大学, 21世纪经济报道]   \n",
       "3                           [胡广杰, 陈之常]                [东南大学]   \n",
       "4                                 [黄如]     [21 世纪经济报道, 东南大学]   \n",
       "...                                ...                   ...   \n",
       "5736                        [叶儿子, 梁国峰]                 [荃湾油]   \n",
       "5737                                []                [天宝集团]   \n",
       "5738                             [马贤慧]  [周大福教育集团, 博萃德学校(中国)]   \n",
       "5739                                []      [A-Level, IGCSE]   \n",
       "5740                                []           [COOL LINK]   \n",
       "\n",
       "                                       context_keywords  \n",
       "0     宝申控股(08151) 停牌 / 内幕消息 / 其他-杂项。||可能的实体：宝申控股||宝申...  \n",
       "1     利骏集团香港(08360) 股东特别大会的结果。||可能的实体：利骏集团香港||利骏集团香港...  \n",
       "2     推进科技自立自强， 国家集成电路设计自动化技术创新中心正式揭牌。21世纪经济报道记者 郭晨 ...  \n",
       "3     他说,集成电路产业是我省具有较强竞争力的优势产业之一,已形成覆盖设计、制造、封测、设备、材料...  \n",
       "4     希望国创中心加快实体化运作,在理事会领导下高效执行、快速起跑,全力推动各项工作有序开展,真正...  \n",
       "...                                                 ...  \n",
       "5736  荃湾油柑头村男子烧炭亡 尸身发臭 母亲上门揭发。||可能的实体：荃湾油||荃湾油柑头村一间村...  \n",
       "5737  天宝集团(01979) 股东特别大会的结果 / 股份计划。||可能的实体：天宝集团||天宝集...  \n",
       "5738  周大福教育集团在穗启动“创学元”。||可能的实体：周大福教育集团||  博萃德学校(中国)荣...  \n",
       "5739  在课程体系方面，广州博萃德小学、初中以国家课程为核心，帮助学生打好坚实的学业基础与双语双文能...  \n",
       "5740  cool link(08491) 月报表。cool link(08491) 截至二零二四年三...  \n",
       "\n",
       "[5741 rows x 13 columns]"
      ]
     },
     "execution_count": 20,
     "metadata": {},
     "output_type": "execute_result"
    }
   ],
   "source": [
    "split_sentence_df[[\"person_matched\", \"company_matched\", \"matched_keywords\", \"context_keywords\"]] = split_sentence_df.parallel_apply(entend_label_and_merge_content_keyword, axis=1).to_list()\n",
    "split_sentence_df"
   ]
  },
  {
   "cell_type": "code",
   "execution_count": 22,
   "metadata": {
    "tags": []
   },
   "outputs": [],
   "source": [
    "# split_sentence_df.head().to_dict(\"record\")"
   ]
  },
  {
   "cell_type": "code",
   "execution_count": 23,
   "metadata": {
    "tags": []
   },
   "outputs": [],
   "source": [
    "split_sentence_df['sign'] = split_sentence_df.apply(lambda row: row['Companys'].__len__() == 0 and row['Persons'].__len__() == 0, axis=1)\n"
   ]
  },
  {
   "cell_type": "code",
   "execution_count": 24,
   "metadata": {
    "tags": []
   },
   "outputs": [
    {
     "data": {
      "text/plain": [
       "(479, 14)"
      ]
     },
     "execution_count": 24,
     "metadata": {},
     "output_type": "execute_result"
    }
   ],
   "source": [
    "split_sentence_df[split_sentence_df['sign']==True].shape"
   ]
  },
  {
   "cell_type": "markdown",
   "metadata": {
    "tags": []
   },
   "source": [
    "# 处理历史积累的NER数据"
   ]
  },
  {
   "cell_type": "code",
   "execution_count": 50,
   "metadata": {
    "tags": []
   },
   "outputs": [
    {
     "data": {
      "text/plain": [
       "(1000, 2)"
      ]
     },
     "execution_count": 50,
     "metadata": {},
     "output_type": "execute_result"
    }
   ],
   "source": [
    "import json\n",
    "golden_standard_df = pd.read_json(\"/workspace/NER/bochk/golden_standard 1.json\")\n",
    "golden_standard_df.shape\n"
   ]
  },
  {
   "cell_type": "code",
   "execution_count": 34,
   "metadata": {
    "tags": []
   },
   "outputs": [],
   "source": [
    "def read_jsonl(path):\n",
    "    data_list = []\n",
    "    with open(path, 'r') as f:\n",
    "        for line in f:\n",
    "            data_list.append(json.loads(line))\n",
    "    return data_list"
   ]
  },
  {
   "cell_type": "code",
   "execution_count": 35,
   "metadata": {
    "tags": []
   },
   "outputs": [],
   "source": [
    "ner_data_organization_ls = read_jsonl(\"/workspace/NER/bochk/ner_data_organization.jsonl\")\n",
    "ner_data_ls = read_jsonl('/workspace/NER/bochk/ner_data.jsonl')\n",
    "ner_data_organization_df = pd.DataFrame(ner_data_organization_ls)\n",
    "ner_data = pd.DataFrame(ner_data_ls)\n"
   ]
  },
  {
   "cell_type": "code",
   "execution_count": 40,
   "metadata": {
    "tags": []
   },
   "outputs": [
    {
     "data": {
      "text/html": [
       "<div>\n",
       "<style scoped>\n",
       "    .dataframe tbody tr th:only-of-type {\n",
       "        vertical-align: middle;\n",
       "    }\n",
       "\n",
       "    .dataframe tbody tr th {\n",
       "        vertical-align: top;\n",
       "    }\n",
       "\n",
       "    .dataframe thead th {\n",
       "        text-align: right;\n",
       "    }\n",
       "</style>\n",
       "<table border=\"1\" class=\"dataframe\">\n",
       "  <thead>\n",
       "    <tr style=\"text-align: right;\">\n",
       "      <th></th>\n",
       "      <th>docid</th>\n",
       "      <th>content</th>\n",
       "      <th>labels</th>\n",
       "    </tr>\n",
       "  </thead>\n",
       "  <tbody>\n",
       "    <tr>\n",
       "      <th>0</th>\n",
       "      <td>0</td>\n",
       "      <td>——以捲煙廠為例\\n\\n\\n\\n浙江中煙工業有限責任公司  單宇翔  郁鋼  陸海良  高揚...</td>\n",
       "      <td>[{'label_name': 'Company', 'text_segment': '浙江...</td>\n",
       "    </tr>\n",
       "    <tr>\n",
       "      <th>1</th>\n",
       "      <td>1</td>\n",
       "      <td>原標題：脫歐不明英國樓市受困 中國投資者趁機入場\\n\\n\\n\\n本報記者 姚瑤 上海報道\\n...</td>\n",
       "      <td>[{'label_name': 'Location', 'text_segment': '英...</td>\n",
       "    </tr>\n",
       "    <tr>\n",
       "      <th>2</th>\n",
       "      <td>2</td>\n",
       "      <td>原標題：午評：兩市沖高回落賽馬概念午前崛起 高位股現跌停潮\\n\\n\\n\\n金融界網站28日訊...</td>\n",
       "      <td>[{'label_name': 'Source', 'text_segment': '金融界...</td>\n",
       "    </tr>\n",
       "    <tr>\n",
       "      <th>3</th>\n",
       "      <td>3</td>\n",
       "      <td>原標題：增厚業績扭虧保殼 多家上市公司\"賣房過年\"\\n\\n\\n\\n東方IC/供圖\\n\\n\\n...</td>\n",
       "      <td>[{'label_name': 'Source', 'text_segment': '證券時...</td>\n",
       "    </tr>\n",
       "    <tr>\n",
       "      <th>4</th>\n",
       "      <td>4</td>\n",
       "      <td>核心閱讀\\n\\n\\n\\n隨著相關配套規則開始徵求意見，\"科創板\"\"註冊制\"揭開面紗。\\n\\n...</td>\n",
       "      <td>[{'label_name': 'Organization', 'text_segment'...</td>\n",
       "    </tr>\n",
       "  </tbody>\n",
       "</table>\n",
       "</div>"
      ],
      "text/plain": [
       "   docid                                            content  \\\n",
       "0      0  ——以捲煙廠為例\\n\\n\\n\\n浙江中煙工業有限責任公司  單宇翔  郁鋼  陸海良  高揚...   \n",
       "1      1  原標題：脫歐不明英國樓市受困 中國投資者趁機入場\\n\\n\\n\\n本報記者 姚瑤 上海報道\\n...   \n",
       "2      2  原標題：午評：兩市沖高回落賽馬概念午前崛起 高位股現跌停潮\\n\\n\\n\\n金融界網站28日訊...   \n",
       "3      3  原標題：增厚業績扭虧保殼 多家上市公司\"賣房過年\"\\n\\n\\n\\n東方IC/供圖\\n\\n\\n...   \n",
       "4      4  核心閱讀\\n\\n\\n\\n隨著相關配套規則開始徵求意見，\"科創板\"\"註冊制\"揭開面紗。\\n\\n...   \n",
       "\n",
       "                                              labels  \n",
       "0  [{'label_name': 'Company', 'text_segment': '浙江...  \n",
       "1  [{'label_name': 'Location', 'text_segment': '英...  \n",
       "2  [{'label_name': 'Source', 'text_segment': '金融界...  \n",
       "3  [{'label_name': 'Source', 'text_segment': '證券時...  \n",
       "4  [{'label_name': 'Organization', 'text_segment'...  "
      ]
     },
     "execution_count": 40,
     "metadata": {},
     "output_type": "execute_result"
    }
   ],
   "source": [
    "golden_standard_df = golden_standard_df.reset_index().rename(columns={'index': \"docid\"})\n",
    "golden_standard_df.head()"
   ]
  },
  {
   "cell_type": "code",
   "execution_count": 37,
   "metadata": {
    "tags": []
   },
   "outputs": [
    {
     "data": {
      "text/html": [
       "<div>\n",
       "<style scoped>\n",
       "    .dataframe tbody tr th:only-of-type {\n",
       "        vertical-align: middle;\n",
       "    }\n",
       "\n",
       "    .dataframe tbody tr th {\n",
       "        vertical-align: top;\n",
       "    }\n",
       "\n",
       "    .dataframe thead th {\n",
       "        text-align: right;\n",
       "    }\n",
       "</style>\n",
       "<table border=\"1\" class=\"dataframe\">\n",
       "  <thead>\n",
       "    <tr style=\"text-align: right;\">\n",
       "      <th></th>\n",
       "      <th>content</th>\n",
       "      <th>docid</th>\n",
       "      <th>labels</th>\n",
       "    </tr>\n",
       "  </thead>\n",
       "  <tbody>\n",
       "    <tr>\n",
       "      <th>0</th>\n",
       "      <td>【法國•夜丘】夜丘位於勃艮第,出產的葡萄酒向來都是帝王們最為鐘愛的佳釀,夜丘因此享有“上帝最...</td>\n",
       "      <td>2015020300000043989</td>\n",
       "      <td>[{'label_name': 'Location', 'start_ind': 1, 'e...</td>\n",
       "    </tr>\n",
       "    <tr>\n",
       "      <th>1</th>\n",
       "      <td>2015 day 25;寶寶日誌:前晚同事聚會,酒喝的滿滿的,老實話東西沒吃多少酒喝了在11...</td>\n",
       "      <td>2015020300000088973</td>\n",
       "      <td>[{'label_name': 'Time', 'start_ind': 0, 'end_i...</td>\n",
       "    </tr>\n",
       "    <tr>\n",
       "      <th>2</th>\n",
       "      <td>灑家有話說!要說起男作者的顏值,應該是起點當初一本抗美援朝背景的小說作者最高,男主是國民黨老...</td>\n",
       "      <td>2015020300000797679</td>\n",
       "      <td>[{'label_name': 'Organization', 'start_ind': 4...</td>\n",
       "    </tr>\n",
       "    <tr>\n",
       "      <th>3</th>\n",
       "      <td>發表了博文《徐少將非白即黑要不得》徐少將不僅把張靈甫寫成一個打仗無能的草包將軍,而且把張靈甫...</td>\n",
       "      <td>2015020300000840444</td>\n",
       "      <td>[{'label_name': 'Person', 'start_ind': 23, 'en...</td>\n",
       "    </tr>\n",
       "    <tr>\n",
       "      <th>4</th>\n",
       "      <td>請問 ,紅色高棉,當年是誰 支持的,國民黨反動派麼?</td>\n",
       "      <td>2015020300000915185</td>\n",
       "      <td>[{'label_name': 'Organization', 'start_ind': 1...</td>\n",
       "    </tr>\n",
       "  </tbody>\n",
       "</table>\n",
       "</div>"
      ],
      "text/plain": [
       "                                             content                docid  \\\n",
       "0  【法國•夜丘】夜丘位於勃艮第,出產的葡萄酒向來都是帝王們最為鐘愛的佳釀,夜丘因此享有“上帝最...  2015020300000043989   \n",
       "1  2015 day 25;寶寶日誌:前晚同事聚會,酒喝的滿滿的,老實話東西沒吃多少酒喝了在11...  2015020300000088973   \n",
       "2  灑家有話說!要說起男作者的顏值,應該是起點當初一本抗美援朝背景的小說作者最高,男主是國民黨老...  2015020300000797679   \n",
       "3  發表了博文《徐少將非白即黑要不得》徐少將不僅把張靈甫寫成一個打仗無能的草包將軍,而且把張靈甫...  2015020300000840444   \n",
       "4                         請問 ,紅色高棉,當年是誰 支持的,國民黨反動派麼?  2015020300000915185   \n",
       "\n",
       "                                              labels  \n",
       "0  [{'label_name': 'Location', 'start_ind': 1, 'e...  \n",
       "1  [{'label_name': 'Time', 'start_ind': 0, 'end_i...  \n",
       "2  [{'label_name': 'Organization', 'start_ind': 4...  \n",
       "3  [{'label_name': 'Person', 'start_ind': 23, 'en...  \n",
       "4  [{'label_name': 'Organization', 'start_ind': 1...  "
      ]
     },
     "execution_count": 37,
     "metadata": {},
     "output_type": "execute_result"
    }
   ],
   "source": [
    "ner_data_organization_df.head()"
   ]
  },
  {
   "cell_type": "code",
   "execution_count": 51,
   "metadata": {
    "tags": []
   },
   "outputs": [
    {
     "data": {
      "text/plain": [
       "(10776, 3)"
      ]
     },
     "execution_count": 51,
     "metadata": {},
     "output_type": "execute_result"
    }
   ],
   "source": [
    "ner_data.shape"
   ]
  },
  {
   "cell_type": "code",
   "execution_count": 43,
   "metadata": {
    "tags": []
   },
   "outputs": [],
   "source": [
    "# ner_data.head().to_dict('record')"
   ]
  },
  {
   "cell_type": "code",
   "execution_count": 45,
   "metadata": {
    "tags": []
   },
   "outputs": [
    {
     "data": {
      "text/plain": [
       "((22552, 3), Index(['docid', 'content', 'labels'], dtype='object'))"
      ]
     },
     "execution_count": 45,
     "metadata": {},
     "output_type": "execute_result"
    }
   ],
   "source": [
    "complete_history_ner_data = pd.concat([golden_standard_df, ner_data_organization_df, ner_data])\n",
    "complete_history_ner_data.shape, complete_history_ner_data.columns"
   ]
  },
  {
   "cell_type": "code",
   "execution_count": 46,
   "metadata": {
    "tags": []
   },
   "outputs": [],
   "source": [
    "def judge_is_include_entity_this_type(entity_list, entity_type):\n",
    "    try:\n",
    "        if isinstance(entity_list, list):\n",
    "            return any([dic['label_name']==entity_type for dic in entity_list])\n",
    "        elif isinstance(entity_list, float):\n",
    "            return False\n",
    "    except: \n",
    "        return False\n",
    "        \n",
    "    \n",
    "complete_history_ner_data['include_company'] = complete_history_ner_data['labels'].apply(judge_is_include_entity_this_type, args=(\"Company\", ))\n",
    "complete_history_ner_data['include_person'] = complete_history_ner_data['labels'].apply(judge_is_include_entity_this_type, args=(\"Person\", ))"
   ]
  },
  {
   "cell_type": "code",
   "execution_count": 47,
   "metadata": {
    "tags": []
   },
   "outputs": [
    {
     "data": {
      "text/plain": [
       "(19174, 5)"
      ]
     },
     "execution_count": 47,
     "metadata": {},
     "output_type": "execute_result"
    }
   ],
   "source": [
    "complete_history_ner_data[(complete_history_ner_data['include_company']==True) | (complete_history_ner_data['include_person']==True)].shape"
   ]
  },
  {
   "cell_type": "code",
   "execution_count": 48,
   "metadata": {
    "tags": []
   },
   "outputs": [],
   "source": [
    "golden_standard_df['include_company'] = golden_standard_df['labels'].apply(judge_is_include_entity_this_type, args=(\"Company\", ))\n",
    "golden_standard_df['include_person'] = golden_standard_df['labels'].apply(judge_is_include_entity_this_type, args=(\"Person\", ))\n"
   ]
  },
  {
   "cell_type": "code",
   "execution_count": 49,
   "metadata": {
    "tags": []
   },
   "outputs": [
    {
     "data": {
      "text/plain": [
       "(951, 5)"
      ]
     },
     "execution_count": 49,
     "metadata": {},
     "output_type": "execute_result"
    }
   ],
   "source": [
    "golden_standard_df[(golden_standard_df['include_company']==True) | (golden_standard_df['include_person']==True)].shape"
   ]
  },
  {
   "cell_type": "code",
   "execution_count": 52,
   "metadata": {
    "tags": []
   },
   "outputs": [],
   "source": [
    "ner_data['include_company'] = ner_data['labels'].apply(judge_is_include_entity_this_type, args=(\"Company\", ))\n",
    "ner_data['include_person'] = ner_data['labels'].apply(judge_is_include_entity_this_type, args=(\"Person\", ))"
   ]
  },
  {
   "cell_type": "code",
   "execution_count": 53,
   "metadata": {
    "tags": []
   },
   "outputs": [
    {
     "data": {
      "text/plain": [
       "(9132, 5)"
      ]
     },
     "execution_count": 53,
     "metadata": {},
     "output_type": "execute_result"
    }
   ],
   "source": [
    "ner_data[(ner_data['include_company']==True) | (ner_data['include_person']==True)].shape"
   ]
  },
  {
   "cell_type": "code",
   "execution_count": 54,
   "metadata": {
    "tags": []
   },
   "outputs": [
    {
     "data": {
      "text/plain": [
       "Index(['docid', 'content', 'labels', 'include_company', 'include_person'], dtype='object')"
      ]
     },
     "execution_count": 54,
     "metadata": {},
     "output_type": "execute_result"
    }
   ],
   "source": [
    "ner_data.columns"
   ]
  },
  {
   "cell_type": "code",
   "execution_count": null,
   "metadata": {},
   "outputs": [],
   "source": []
  }
 ],
 "metadata": {
  "kernelspec": {
   "display_name": "Python 3 (ipykernel)",
   "language": "python",
   "name": "python3"
  },
  "language_info": {
   "codemirror_mode": {
    "name": "ipython",
    "version": 3
   },
   "file_extension": ".py",
   "mimetype": "text/x-python",
   "name": "python",
   "nbconvert_exporter": "python",
   "pygments_lexer": "ipython3",
   "version": "3.8.12"
  }
 },
 "nbformat": 4,
 "nbformat_minor": 4
}
