{
 "cells": [
  {
   "cell_type": "code",
   "execution_count": 9,
   "metadata": {
    "tags": []
   },
   "outputs": [],
   "source": [
    "import argparse\n",
    "import yaml\n",
    "import pandas as pd\n",
    "\n",
    "from tqdm import tqdm"
   ]
  },
  {
   "cell_type": "code",
   "execution_count": 10,
   "metadata": {
    "tags": []
   },
   "outputs": [
    {
     "data": {
      "text/plain": [
       "Namespace(batch_size=32, date='0530', do_prediction=True, do_training=False, entity_type=['Company', 'Person'], experiment_name='bert_p=0.5_pos=sentence', lr='1e-5', max_len=512, mode='BP', n_epochs=5, num_labels=5, prefix_path='../experiments/0530_bert_p=0.5_pos=sentence_BP', pretrained_model='hfl/chinese-roberta-wwm-ext', test_data='/test_dataset', threshold=0.5, train_data='/train_dataset', valid_data='/valid_dataset')"
      ]
     },
     "execution_count": 10,
     "metadata": {},
     "output_type": "execute_result"
    }
   ],
   "source": [
    "with open(\"../config.yaml\", 'r') as config_file:\n",
    "    config = yaml.safe_load(config_file)\n",
    "\n",
    "parser = argparse.ArgumentParser(description='') \n",
    "parser.set_defaults(**config)\n",
    "args = parser.parse_args(args = [])\n",
    "\n",
    "parser.add_argument(\"--prefix_path\", type=str, default=f\"../experiments/{args.date}_{args.experiment_name}_{args.mode}\")\n",
    "args = parser.parse_args(args = [])\n",
    "args"
   ]
  },
  {
   "cell_type": "code",
   "execution_count": 11,
   "metadata": {
    "tags": []
   },
   "outputs": [],
   "source": [
    "df_test_path = args.prefix_path + \"/test_data.pkl\"\n",
    "df_output_path = args.prefix_path + \"/test_data_predict_result.pkl\"\n",
    "df_save_path = args.prefix_path + \"/test_data_predict_result_all.xlsx\""
   ]
  },
  {
   "cell_type": "code",
   "execution_count": 12,
   "metadata": {
    "tags": []
   },
   "outputs": [],
   "source": [
    "# df_test_path = args.prefix_path + \"/badcase_df.pkl\"\n",
    "# df_output_path = args.prefix_path + \"/test_data_predict_result.pkl\"\n",
    "# df_save_path = args.prefix_path + \"/badcase_data_predict_result_all.xlsx\""
   ]
  },
  {
   "cell_type": "code",
   "execution_count": 13,
   "metadata": {
    "tags": []
   },
   "outputs": [
    {
     "data": {
      "text/plain": [
       "(3710, 19)"
      ]
     },
     "execution_count": 13,
     "metadata": {},
     "output_type": "execute_result"
    }
   ],
   "source": [
    "df_test = pd.read_pickle(df_test_path)\n",
    "df_test.shape"
   ]
  },
  {
   "cell_type": "code",
   "execution_count": 14,
   "metadata": {
    "tags": []
   },
   "outputs": [
    {
     "data": {
      "text/html": [
       "<div>\n",
       "<style scoped>\n",
       "    .dataframe tbody tr th:only-of-type {\n",
       "        vertical-align: middle;\n",
       "    }\n",
       "\n",
       "    .dataframe tbody tr th {\n",
       "        vertical-align: top;\n",
       "    }\n",
       "\n",
       "    .dataframe thead th {\n",
       "        text-align: right;\n",
       "    }\n",
       "</style>\n",
       "<table border=\"1\" class=\"dataframe\">\n",
       "  <thead>\n",
       "    <tr style=\"text-align: right;\">\n",
       "      <th></th>\n",
       "      <th>docid</th>\n",
       "      <th>headline</th>\n",
       "      <th>content</th>\n",
       "      <th>ner</th>\n",
       "      <th>matched_keywords</th>\n",
       "      <th>include_company</th>\n",
       "      <th>include_person</th>\n",
       "      <th>split_sentence_index</th>\n",
       "      <th>Companys</th>\n",
       "      <th>Persons</th>\n",
       "      <th>context_cleaned</th>\n",
       "      <th>person_matched</th>\n",
       "      <th>company_matched</th>\n",
       "      <th>context_keywords</th>\n",
       "      <th>sign</th>\n",
       "      <th>input_text</th>\n",
       "      <th>tokenized_content</th>\n",
       "      <th>ids</th>\n",
       "      <th>masks</th>\n",
       "    </tr>\n",
       "  </thead>\n",
       "  <tbody>\n",
       "    <tr>\n",
       "      <th>0</th>\n",
       "      <td>2023063021774796605&amp;&amp;2</td>\n",
       "      <td>NaN</td>\n",
       "      <td>希望国创中心加快实体化运作,在理事会领导下高效执行、快速起跑,全力推动各项工作有序开展,真正...</td>\n",
       "      <td>[{'label_name': 'Company', 'text_segment': '21...</td>\n",
       "      <td>['21 世纪经济报道', '东南大学', '黄如']</td>\n",
       "      <td>True</td>\n",
       "      <td>True</td>\n",
       "      <td>2</td>\n",
       "      <td>['21 世纪经济报道', '东南大学']</td>\n",
       "      <td>['黄如']</td>\n",
       "      <td>希望国创中心加快实体化运作,在理事会领导下高效执行、快速起跑,全力推动各项工作有序开展,真正...</td>\n",
       "      <td>[黄如]</td>\n",
       "      <td>[21 世纪经济报道, 东南大学]</td>\n",
       "      <td>希望国创中心加快实体化运作,在理事会领导下高效执行、快速起跑,全力推动各项工作有序开展,真正...</td>\n",
       "      <td>False</td>\n",
       "      <td>希望国创中心加快实体化运作,在理事会领导下高效执行、快速起跑,全力推动各项工作有序开展,真正...</td>\n",
       "      <td>[希, 望, 国, 创, 中, 心, 加, 快, 实, 体, 化, 运, 作, ,, 在, ...</td>\n",
       "      <td>[101, 2361, 3307, 1744, 1158, 704, 2552, 1217,...</td>\n",
       "      <td>[1, 1, 1, 1, 1, 1, 1, 1, 1, 1, 1, 1, 1, 1, 1, ...</td>\n",
       "    </tr>\n",
       "    <tr>\n",
       "      <th>1</th>\n",
       "      <td>2023063021774797841&amp;&amp;0</td>\n",
       "      <td>NaN</td>\n",
       "      <td>南海控股(00680) 内幕消息 / 其他-业务发展最新情况。南海控股(00680) 暂停买...</td>\n",
       "      <td>[{'label_name': 'Company', 'text_segment': '南海...</td>\n",
       "      <td>['南海控股']</td>\n",
       "      <td>True</td>\n",
       "      <td>True</td>\n",
       "      <td>0</td>\n",
       "      <td>['南海控股']</td>\n",
       "      <td>[]</td>\n",
       "      <td>南海控股(00680) 内幕消息 / 其他-业务发展最新情况。南海控股(00680) 暂停买...</td>\n",
       "      <td>[]</td>\n",
       "      <td>[南海控股]</td>\n",
       "      <td>南海控股(00680) 内幕消息 / 其他-业务发展最新情况。||可能的实体：南海控股||南...</td>\n",
       "      <td>False</td>\n",
       "      <td>南海控股(00680) 内幕消息 / 其他-业务发展最新情况。南海控股(00680) 暂停买...</td>\n",
       "      <td>[南, 海, 控, 股, (, 0, 0, 6, 8, 0, ), 内, 幕, 消, 息, ...</td>\n",
       "      <td>[101, 1298, 3862, 2971, 5500, 113, 121, 121, 1...</td>\n",
       "      <td>[1, 1, 1, 1, 1, 1, 1, 1, 1, 1, 1, 1, 1, 1, 1, ...</td>\n",
       "    </tr>\n",
       "    <tr>\n",
       "      <th>2</th>\n",
       "      <td>2023063021774797850&amp;&amp;0</td>\n",
       "      <td>NaN</td>\n",
       "      <td>摩通:汇丰第二季跑赢大市 留意汇丰购15597/沽16568。今日 15:48。摩通:汇丰第...</td>\n",
       "      <td>[{'label_name': 'Company', 'text_segment': '摩通...</td>\n",
       "      <td>['联储局', '摩通', '中石油', '汇丰', '安踏', '欧洲央行', '李宁']</td>\n",
       "      <td>True</td>\n",
       "      <td>True</td>\n",
       "      <td>0</td>\n",
       "      <td>['联储局', '摩通', '中石油', '汇丰', '安踏', '欧洲央行', '李宁']</td>\n",
       "      <td>[]</td>\n",
       "      <td>摩通:汇丰第二季跑赢大市 留意汇丰购15597/沽16568。今日 15:48。摩通:汇丰第...</td>\n",
       "      <td>[]</td>\n",
       "      <td>[联储局, 摩通, 中石油, 汇丰, 安踏, 欧洲央行, 李宁]</td>\n",
       "      <td>摩通:汇丰第二季跑赢大市 留意汇丰购15597/沽16568。||可能的实体：摩通,汇丰||...</td>\n",
       "      <td>False</td>\n",
       "      <td>摩通:汇丰第二季跑赢大市 留意汇丰购15597/沽16568。今日 15:48。摩通:汇丰第...</td>\n",
       "      <td>[摩, 通, :, 汇, 丰, 第, 二, 季, 跑, 赢, 大, 市, 留, 意, 汇, ...</td>\n",
       "      <td>[101, 3040, 6858, 131, 3726, 705, 5018, 753, 2...</td>\n",
       "      <td>[1, 1, 1, 1, 1, 1, 1, 1, 1, 1, 1, 1, 1, 1, 1, ...</td>\n",
       "    </tr>\n",
       "    <tr>\n",
       "      <th>3</th>\n",
       "      <td>2023063021774798050&amp;&amp;0</td>\n",
       "      <td>NaN</td>\n",
       "      <td>新明中国(02699) 内幕消息 / 停牌。新明中国(02699) 复牌进度的季度更新(30...</td>\n",
       "      <td>[{'label_name': 'Company', 'text_segment': '新明...</td>\n",
       "      <td>['新明中国']</td>\n",
       "      <td>True</td>\n",
       "      <td>True</td>\n",
       "      <td>0</td>\n",
       "      <td>['新明中国']</td>\n",
       "      <td>[]</td>\n",
       "      <td>新明中国(02699) 内幕消息 / 停牌。新明中国(02699) 复牌进度的季度更新(30...</td>\n",
       "      <td>[]</td>\n",
       "      <td>[新明中国]</td>\n",
       "      <td>新明中国(02699) 内幕消息 / 停牌。||可能的实体：新明中国||新明中国(02699...</td>\n",
       "      <td>False</td>\n",
       "      <td>新明中国(02699) 内幕消息 / 停牌。新明中国(02699) 复牌进度的季度更新(30...</td>\n",
       "      <td>[新, 明, 中, 国, (, 0, 2, 6, 9, 9, ), 内, 幕, 消, 息, ...</td>\n",
       "      <td>[101, 3173, 3209, 704, 1744, 113, 121, 123, 12...</td>\n",
       "      <td>[1, 1, 1, 1, 1, 1, 1, 1, 1, 1, 1, 1, 1, 1, 1, ...</td>\n",
       "    </tr>\n",
       "    <tr>\n",
       "      <th>4</th>\n",
       "      <td>2023063021774805618&amp;&amp;0</td>\n",
       "      <td>NaN</td>\n",
       "      <td>中星集团控股(00055) 更换董事或重要行政职能或职责的变更 / 更换审核委员会成员 / ...</td>\n",
       "      <td>[{'label_name': 'Company', 'text_segment': '中星...</td>\n",
       "      <td>['中星集团控股']</td>\n",
       "      <td>True</td>\n",
       "      <td>True</td>\n",
       "      <td>0</td>\n",
       "      <td>['中星集团控股']</td>\n",
       "      <td>[]</td>\n",
       "      <td>中星集团控股(00055) 更换董事或重要行政职能或职责的变更 / 更换审核委员会成员 / ...</td>\n",
       "      <td>[]</td>\n",
       "      <td>[中星集团控股]</td>\n",
       "      <td>中星集团控股(00055) 更换董事或重要行政职能或职责的变更 / 更换审核委员会成员 / ...</td>\n",
       "      <td>False</td>\n",
       "      <td>中星集团控股(00055) 更换董事或重要行政职能或职责的变更 / 更换审核委员会成员 / ...</td>\n",
       "      <td>[中, 星, 集, 团, 控, 股, (, 0, 0, 0, 5, 5, ), 更, 换, ...</td>\n",
       "      <td>[101, 704, 3215, 7415, 1730, 2971, 5500, 113, ...</td>\n",
       "      <td>[1, 1, 1, 1, 1, 1, 1, 1, 1, 1, 1, 1, 1, 1, 1, ...</td>\n",
       "    </tr>\n",
       "  </tbody>\n",
       "</table>\n",
       "</div>"
      ],
      "text/plain": [
       "                    docid  headline  \\\n",
       "0  2023063021774796605&&2       NaN   \n",
       "1  2023063021774797841&&0       NaN   \n",
       "2  2023063021774797850&&0       NaN   \n",
       "3  2023063021774798050&&0       NaN   \n",
       "4  2023063021774805618&&0       NaN   \n",
       "\n",
       "                                             content  \\\n",
       "0  希望国创中心加快实体化运作,在理事会领导下高效执行、快速起跑,全力推动各项工作有序开展,真正...   \n",
       "1  南海控股(00680) 内幕消息 / 其他-业务发展最新情况。南海控股(00680) 暂停买...   \n",
       "2  摩通:汇丰第二季跑赢大市 留意汇丰购15597/沽16568。今日 15:48。摩通:汇丰第...   \n",
       "3  新明中国(02699) 内幕消息 / 停牌。新明中国(02699) 复牌进度的季度更新(30...   \n",
       "4  中星集团控股(00055) 更换董事或重要行政职能或职责的变更 / 更换审核委员会成员 / ...   \n",
       "\n",
       "                                                 ner  \\\n",
       "0  [{'label_name': 'Company', 'text_segment': '21...   \n",
       "1  [{'label_name': 'Company', 'text_segment': '南海...   \n",
       "2  [{'label_name': 'Company', 'text_segment': '摩通...   \n",
       "3  [{'label_name': 'Company', 'text_segment': '新明...   \n",
       "4  [{'label_name': 'Company', 'text_segment': '中星...   \n",
       "\n",
       "                                 matched_keywords  include_company  \\\n",
       "0                     ['21 世纪经济报道', '东南大学', '黄如']             True   \n",
       "1                                        ['南海控股']             True   \n",
       "2  ['联储局', '摩通', '中石油', '汇丰', '安踏', '欧洲央行', '李宁']             True   \n",
       "3                                        ['新明中国']             True   \n",
       "4                                      ['中星集团控股']             True   \n",
       "\n",
       "   include_person  split_sentence_index  \\\n",
       "0            True                     2   \n",
       "1            True                     0   \n",
       "2            True                     0   \n",
       "3            True                     0   \n",
       "4            True                     0   \n",
       "\n",
       "                                         Companys Persons  \\\n",
       "0                           ['21 世纪经济报道', '东南大学']  ['黄如']   \n",
       "1                                        ['南海控股']      []   \n",
       "2  ['联储局', '摩通', '中石油', '汇丰', '安踏', '欧洲央行', '李宁']      []   \n",
       "3                                        ['新明中国']      []   \n",
       "4                                      ['中星集团控股']      []   \n",
       "\n",
       "                                     context_cleaned person_matched  \\\n",
       "0  希望国创中心加快实体化运作,在理事会领导下高效执行、快速起跑,全力推动各项工作有序开展,真正...           [黄如]   \n",
       "1  南海控股(00680) 内幕消息 / 其他-业务发展最新情况。南海控股(00680) 暂停买...             []   \n",
       "2  摩通:汇丰第二季跑赢大市 留意汇丰购15597/沽16568。今日 15:48。摩通:汇丰第...             []   \n",
       "3  新明中国(02699) 内幕消息 / 停牌。新明中国(02699) 复牌进度的季度更新(30...             []   \n",
       "4  中星集团控股(00055) 更换董事或重要行政职能或职责的变更 / 更换审核委员会成员 / ...             []   \n",
       "\n",
       "                    company_matched  \\\n",
       "0                 [21 世纪经济报道, 东南大学]   \n",
       "1                            [南海控股]   \n",
       "2  [联储局, 摩通, 中石油, 汇丰, 安踏, 欧洲央行, 李宁]   \n",
       "3                            [新明中国]   \n",
       "4                          [中星集团控股]   \n",
       "\n",
       "                                    context_keywords   sign  \\\n",
       "0  希望国创中心加快实体化运作,在理事会领导下高效执行、快速起跑,全力推动各项工作有序开展,真正...  False   \n",
       "1  南海控股(00680) 内幕消息 / 其他-业务发展最新情况。||可能的实体：南海控股||南...  False   \n",
       "2  摩通:汇丰第二季跑赢大市 留意汇丰购15597/沽16568。||可能的实体：摩通,汇丰||...  False   \n",
       "3  新明中国(02699) 内幕消息 / 停牌。||可能的实体：新明中国||新明中国(02699...  False   \n",
       "4  中星集团控股(00055) 更换董事或重要行政职能或职责的变更 / 更换审核委员会成员 / ...  False   \n",
       "\n",
       "                                          input_text  \\\n",
       "0  希望国创中心加快实体化运作,在理事会领导下高效执行、快速起跑,全力推动各项工作有序开展,真正...   \n",
       "1  南海控股(00680) 内幕消息 / 其他-业务发展最新情况。南海控股(00680) 暂停买...   \n",
       "2  摩通:汇丰第二季跑赢大市 留意汇丰购15597/沽16568。今日 15:48。摩通:汇丰第...   \n",
       "3  新明中国(02699) 内幕消息 / 停牌。新明中国(02699) 复牌进度的季度更新(30...   \n",
       "4  中星集团控股(00055) 更换董事或重要行政职能或职责的变更 / 更换审核委员会成员 / ...   \n",
       "\n",
       "                                   tokenized_content  \\\n",
       "0  [希, 望, 国, 创, 中, 心, 加, 快, 实, 体, 化, 运, 作, ,, 在, ...   \n",
       "1  [南, 海, 控, 股, (, 0, 0, 6, 8, 0, ), 内, 幕, 消, 息, ...   \n",
       "2  [摩, 通, :, 汇, 丰, 第, 二, 季, 跑, 赢, 大, 市, 留, 意, 汇, ...   \n",
       "3  [新, 明, 中, 国, (, 0, 2, 6, 9, 9, ), 内, 幕, 消, 息, ...   \n",
       "4  [中, 星, 集, 团, 控, 股, (, 0, 0, 0, 5, 5, ), 更, 换, ...   \n",
       "\n",
       "                                                 ids  \\\n",
       "0  [101, 2361, 3307, 1744, 1158, 704, 2552, 1217,...   \n",
       "1  [101, 1298, 3862, 2971, 5500, 113, 121, 121, 1...   \n",
       "2  [101, 3040, 6858, 131, 3726, 705, 5018, 753, 2...   \n",
       "3  [101, 3173, 3209, 704, 1744, 113, 121, 123, 12...   \n",
       "4  [101, 704, 3215, 7415, 1730, 2971, 5500, 113, ...   \n",
       "\n",
       "                                               masks  \n",
       "0  [1, 1, 1, 1, 1, 1, 1, 1, 1, 1, 1, 1, 1, 1, 1, ...  \n",
       "1  [1, 1, 1, 1, 1, 1, 1, 1, 1, 1, 1, 1, 1, 1, 1, ...  \n",
       "2  [1, 1, 1, 1, 1, 1, 1, 1, 1, 1, 1, 1, 1, 1, 1, ...  \n",
       "3  [1, 1, 1, 1, 1, 1, 1, 1, 1, 1, 1, 1, 1, 1, 1, ...  \n",
       "4  [1, 1, 1, 1, 1, 1, 1, 1, 1, 1, 1, 1, 1, 1, 1, ...  "
      ]
     },
     "execution_count": 14,
     "metadata": {},
     "output_type": "execute_result"
    }
   ],
   "source": [
    "df_test.head()"
   ]
  },
  {
   "cell_type": "code",
   "execution_count": 15,
   "metadata": {
    "tags": []
   },
   "outputs": [
    {
     "data": {
      "text/plain": [
       "(3710, 5)"
      ]
     },
     "execution_count": 15,
     "metadata": {},
     "output_type": "execute_result"
    }
   ],
   "source": [
    "df_output = pd.read_pickle(df_output_path)\n",
    "df_output.shape"
   ]
  },
  {
   "cell_type": "code",
   "execution_count": 16,
   "metadata": {
    "tags": []
   },
   "outputs": [
    {
     "data": {
      "text/plain": [
       "(3710, 24)"
      ]
     },
     "execution_count": 16,
     "metadata": {},
     "output_type": "execute_result"
    }
   ],
   "source": [
    "df_all = pd.merge(df_test, df_output, on='docid', how='left')\n",
    "df_all['input_len'] = df_all[\"input_text\"].str.len()\n",
    "df_all.shape"
   ]
  },
  {
   "cell_type": "code",
   "execution_count": 17,
   "metadata": {
    "tags": []
   },
   "outputs": [
    {
     "data": {
      "text/html": [
       "<div>\n",
       "<style scoped>\n",
       "    .dataframe tbody tr th:only-of-type {\n",
       "        vertical-align: middle;\n",
       "    }\n",
       "\n",
       "    .dataframe tbody tr th {\n",
       "        vertical-align: top;\n",
       "    }\n",
       "\n",
       "    .dataframe thead th {\n",
       "        text-align: right;\n",
       "    }\n",
       "</style>\n",
       "<table border=\"1\" class=\"dataframe\">\n",
       "  <thead>\n",
       "    <tr style=\"text-align: right;\">\n",
       "      <th></th>\n",
       "      <th>docid</th>\n",
       "      <th>headline</th>\n",
       "      <th>content</th>\n",
       "      <th>ner</th>\n",
       "      <th>matched_keywords</th>\n",
       "      <th>include_company</th>\n",
       "      <th>include_person</th>\n",
       "      <th>split_sentence_index</th>\n",
       "      <th>Companys</th>\n",
       "      <th>Persons</th>\n",
       "      <th>...</th>\n",
       "      <th>sign</th>\n",
       "      <th>input_text</th>\n",
       "      <th>tokenized_content_x</th>\n",
       "      <th>ids</th>\n",
       "      <th>masks</th>\n",
       "      <th>tokenized_content_y</th>\n",
       "      <th>label_pred</th>\n",
       "      <th>Company_pred</th>\n",
       "      <th>Person_pred</th>\n",
       "      <th>input_len</th>\n",
       "    </tr>\n",
       "  </thead>\n",
       "  <tbody>\n",
       "    <tr>\n",
       "      <th>0</th>\n",
       "      <td>2023063021774796605&amp;&amp;2</td>\n",
       "      <td>NaN</td>\n",
       "      <td>希望国创中心加快实体化运作,在理事会领导下高效执行、快速起跑,全力推动各项工作有序开展,真正...</td>\n",
       "      <td>[{'label_name': 'Company', 'text_segment': '21...</td>\n",
       "      <td>['21 世纪经济报道', '东南大学', '黄如']</td>\n",
       "      <td>True</td>\n",
       "      <td>True</td>\n",
       "      <td>2</td>\n",
       "      <td>['21 世纪经济报道', '东南大学']</td>\n",
       "      <td>['黄如']</td>\n",
       "      <td>...</td>\n",
       "      <td>False</td>\n",
       "      <td>希望国创中心加快实体化运作,在理事会领导下高效执行、快速起跑,全力推动各项工作有序开展,真正...</td>\n",
       "      <td>[希, 望, 国, 创, 中, 心, 加, 快, 实, 体, 化, 运, 作, ,, 在, ...</td>\n",
       "      <td>[101, 2361, 3307, 1744, 1158, 704, 2552, 1217,...</td>\n",
       "      <td>[1, 1, 1, 1, 1, 1, 1, 1, 1, 1, 1, 1, 1, 1, 1, ...</td>\n",
       "      <td>[希, 望, 国, 创, 中, 心, 加, 快, 实, 体, 化, 运, 作, ,, 在, ...</td>\n",
       "      <td>[O, O, O, O, O, O, O, O, O, O, O, O, O, O, O, ...</td>\n",
       "      <td>[21世纪经济报道, 东南大学]</td>\n",
       "      <td>[黄如]</td>\n",
       "      <td>646</td>\n",
       "    </tr>\n",
       "    <tr>\n",
       "      <th>1</th>\n",
       "      <td>2023063021774797841&amp;&amp;0</td>\n",
       "      <td>NaN</td>\n",
       "      <td>南海控股(00680) 内幕消息 / 其他-业务发展最新情况。南海控股(00680) 暂停买...</td>\n",
       "      <td>[{'label_name': 'Company', 'text_segment': '南海...</td>\n",
       "      <td>['南海控股']</td>\n",
       "      <td>True</td>\n",
       "      <td>True</td>\n",
       "      <td>0</td>\n",
       "      <td>['南海控股']</td>\n",
       "      <td>[]</td>\n",
       "      <td>...</td>\n",
       "      <td>False</td>\n",
       "      <td>南海控股(00680) 内幕消息 / 其他-业务发展最新情况。南海控股(00680) 暂停买...</td>\n",
       "      <td>[南, 海, 控, 股, (, 0, 0, 6, 8, 0, ), 内, 幕, 消, 息, ...</td>\n",
       "      <td>[101, 1298, 3862, 2971, 5500, 113, 121, 121, 1...</td>\n",
       "      <td>[1, 1, 1, 1, 1, 1, 1, 1, 1, 1, 1, 1, 1, 1, 1, ...</td>\n",
       "      <td>[南, 海, 控, 股, (, 0, 0, 6, 8, 0, ), 内, 幕, 消, 息, ...</td>\n",
       "      <td>[B-Company, I-Company, I-Company, I-Company, O...</td>\n",
       "      <td>[南海控股]</td>\n",
       "      <td>[]</td>\n",
       "      <td>64</td>\n",
       "    </tr>\n",
       "    <tr>\n",
       "      <th>2</th>\n",
       "      <td>2023063021774797850&amp;&amp;0</td>\n",
       "      <td>NaN</td>\n",
       "      <td>摩通:汇丰第二季跑赢大市 留意汇丰购15597/沽16568。今日 15:48。摩通:汇丰第...</td>\n",
       "      <td>[{'label_name': 'Company', 'text_segment': '摩通...</td>\n",
       "      <td>['联储局', '摩通', '中石油', '汇丰', '安踏', '欧洲央行', '李宁']</td>\n",
       "      <td>True</td>\n",
       "      <td>True</td>\n",
       "      <td>0</td>\n",
       "      <td>['联储局', '摩通', '中石油', '汇丰', '安踏', '欧洲央行', '李宁']</td>\n",
       "      <td>[]</td>\n",
       "      <td>...</td>\n",
       "      <td>False</td>\n",
       "      <td>摩通:汇丰第二季跑赢大市 留意汇丰购15597/沽16568。今日 15:48。摩通:汇丰第...</td>\n",
       "      <td>[摩, 通, :, 汇, 丰, 第, 二, 季, 跑, 赢, 大, 市, 留, 意, 汇, ...</td>\n",
       "      <td>[101, 3040, 6858, 131, 3726, 705, 5018, 753, 2...</td>\n",
       "      <td>[1, 1, 1, 1, 1, 1, 1, 1, 1, 1, 1, 1, 1, 1, 1, ...</td>\n",
       "      <td>[摩, 通, :, 汇, 丰, 第, 二, 季, 跑, 赢, 大, 市, 留, 意, 汇, ...</td>\n",
       "      <td>[B-Company, I-Company, O, B-Company, I-Company...</td>\n",
       "      <td>[欧洲央行, 摩通, 李宁, 中石油, 安踏, 汇丰]</td>\n",
       "      <td>[]</td>\n",
       "      <td>513</td>\n",
       "    </tr>\n",
       "    <tr>\n",
       "      <th>3</th>\n",
       "      <td>2023063021774798050&amp;&amp;0</td>\n",
       "      <td>NaN</td>\n",
       "      <td>新明中国(02699) 内幕消息 / 停牌。新明中国(02699) 复牌进度的季度更新(30...</td>\n",
       "      <td>[{'label_name': 'Company', 'text_segment': '新明...</td>\n",
       "      <td>['新明中国']</td>\n",
       "      <td>True</td>\n",
       "      <td>True</td>\n",
       "      <td>0</td>\n",
       "      <td>['新明中国']</td>\n",
       "      <td>[]</td>\n",
       "      <td>...</td>\n",
       "      <td>False</td>\n",
       "      <td>新明中国(02699) 内幕消息 / 停牌。新明中国(02699) 复牌进度的季度更新(30...</td>\n",
       "      <td>[新, 明, 中, 国, (, 0, 2, 6, 9, 9, ), 内, 幕, 消, 息, ...</td>\n",
       "      <td>[101, 3173, 3209, 704, 1744, 113, 121, 123, 12...</td>\n",
       "      <td>[1, 1, 1, 1, 1, 1, 1, 1, 1, 1, 1, 1, 1, 1, 1, ...</td>\n",
       "      <td>[新, 明, 中, 国, (, 0, 2, 6, 9, 9, ), 内, 幕, 消, 息, ...</td>\n",
       "      <td>[B-Company, I-Company, I-Company, I-Company, O...</td>\n",
       "      <td>[新明中国]</td>\n",
       "      <td>[]</td>\n",
       "      <td>55</td>\n",
       "    </tr>\n",
       "    <tr>\n",
       "      <th>4</th>\n",
       "      <td>2023063021774805618&amp;&amp;0</td>\n",
       "      <td>NaN</td>\n",
       "      <td>中星集团控股(00055) 更换董事或重要行政职能或职责的变更 / 更换审核委员会成员 / ...</td>\n",
       "      <td>[{'label_name': 'Company', 'text_segment': '中星...</td>\n",
       "      <td>['中星集团控股']</td>\n",
       "      <td>True</td>\n",
       "      <td>True</td>\n",
       "      <td>0</td>\n",
       "      <td>['中星集团控股']</td>\n",
       "      <td>[]</td>\n",
       "      <td>...</td>\n",
       "      <td>False</td>\n",
       "      <td>中星集团控股(00055) 更换董事或重要行政职能或职责的变更 / 更换审核委员会成员 / ...</td>\n",
       "      <td>[中, 星, 集, 团, 控, 股, (, 0, 0, 0, 5, 5, ), 更, 换, ...</td>\n",
       "      <td>[101, 704, 3215, 7415, 1730, 2971, 5500, 113, ...</td>\n",
       "      <td>[1, 1, 1, 1, 1, 1, 1, 1, 1, 1, 1, 1, 1, 1, 1, ...</td>\n",
       "      <td>[中, 星, 集, 团, 控, 股, (, 0, 0, 0, 5, 5, ), 更, 换, ...</td>\n",
       "      <td>[B-Company, I-Company, I-Company, I-Company, I...</td>\n",
       "      <td>[中星集团控股]</td>\n",
       "      <td>[]</td>\n",
       "      <td>191</td>\n",
       "    </tr>\n",
       "  </tbody>\n",
       "</table>\n",
       "<p>5 rows × 24 columns</p>\n",
       "</div>"
      ],
      "text/plain": [
       "                    docid  headline  \\\n",
       "0  2023063021774796605&&2       NaN   \n",
       "1  2023063021774797841&&0       NaN   \n",
       "2  2023063021774797850&&0       NaN   \n",
       "3  2023063021774798050&&0       NaN   \n",
       "4  2023063021774805618&&0       NaN   \n",
       "\n",
       "                                             content  \\\n",
       "0  希望国创中心加快实体化运作,在理事会领导下高效执行、快速起跑,全力推动各项工作有序开展,真正...   \n",
       "1  南海控股(00680) 内幕消息 / 其他-业务发展最新情况。南海控股(00680) 暂停买...   \n",
       "2  摩通:汇丰第二季跑赢大市 留意汇丰购15597/沽16568。今日 15:48。摩通:汇丰第...   \n",
       "3  新明中国(02699) 内幕消息 / 停牌。新明中国(02699) 复牌进度的季度更新(30...   \n",
       "4  中星集团控股(00055) 更换董事或重要行政职能或职责的变更 / 更换审核委员会成员 / ...   \n",
       "\n",
       "                                                 ner  \\\n",
       "0  [{'label_name': 'Company', 'text_segment': '21...   \n",
       "1  [{'label_name': 'Company', 'text_segment': '南海...   \n",
       "2  [{'label_name': 'Company', 'text_segment': '摩通...   \n",
       "3  [{'label_name': 'Company', 'text_segment': '新明...   \n",
       "4  [{'label_name': 'Company', 'text_segment': '中星...   \n",
       "\n",
       "                                 matched_keywords  include_company  \\\n",
       "0                     ['21 世纪经济报道', '东南大学', '黄如']             True   \n",
       "1                                        ['南海控股']             True   \n",
       "2  ['联储局', '摩通', '中石油', '汇丰', '安踏', '欧洲央行', '李宁']             True   \n",
       "3                                        ['新明中国']             True   \n",
       "4                                      ['中星集团控股']             True   \n",
       "\n",
       "   include_person  split_sentence_index  \\\n",
       "0            True                     2   \n",
       "1            True                     0   \n",
       "2            True                     0   \n",
       "3            True                     0   \n",
       "4            True                     0   \n",
       "\n",
       "                                         Companys Persons  ...   sign  \\\n",
       "0                           ['21 世纪经济报道', '东南大学']  ['黄如']  ...  False   \n",
       "1                                        ['南海控股']      []  ...  False   \n",
       "2  ['联储局', '摩通', '中石油', '汇丰', '安踏', '欧洲央行', '李宁']      []  ...  False   \n",
       "3                                        ['新明中国']      []  ...  False   \n",
       "4                                      ['中星集团控股']      []  ...  False   \n",
       "\n",
       "                                          input_text  \\\n",
       "0  希望国创中心加快实体化运作,在理事会领导下高效执行、快速起跑,全力推动各项工作有序开展,真正...   \n",
       "1  南海控股(00680) 内幕消息 / 其他-业务发展最新情况。南海控股(00680) 暂停买...   \n",
       "2  摩通:汇丰第二季跑赢大市 留意汇丰购15597/沽16568。今日 15:48。摩通:汇丰第...   \n",
       "3  新明中国(02699) 内幕消息 / 停牌。新明中国(02699) 复牌进度的季度更新(30...   \n",
       "4  中星集团控股(00055) 更换董事或重要行政职能或职责的变更 / 更换审核委员会成员 / ...   \n",
       "\n",
       "                                 tokenized_content_x  \\\n",
       "0  [希, 望, 国, 创, 中, 心, 加, 快, 实, 体, 化, 运, 作, ,, 在, ...   \n",
       "1  [南, 海, 控, 股, (, 0, 0, 6, 8, 0, ), 内, 幕, 消, 息, ...   \n",
       "2  [摩, 通, :, 汇, 丰, 第, 二, 季, 跑, 赢, 大, 市, 留, 意, 汇, ...   \n",
       "3  [新, 明, 中, 国, (, 0, 2, 6, 9, 9, ), 内, 幕, 消, 息, ...   \n",
       "4  [中, 星, 集, 团, 控, 股, (, 0, 0, 0, 5, 5, ), 更, 换, ...   \n",
       "\n",
       "                                                 ids  \\\n",
       "0  [101, 2361, 3307, 1744, 1158, 704, 2552, 1217,...   \n",
       "1  [101, 1298, 3862, 2971, 5500, 113, 121, 121, 1...   \n",
       "2  [101, 3040, 6858, 131, 3726, 705, 5018, 753, 2...   \n",
       "3  [101, 3173, 3209, 704, 1744, 113, 121, 123, 12...   \n",
       "4  [101, 704, 3215, 7415, 1730, 2971, 5500, 113, ...   \n",
       "\n",
       "                                               masks  \\\n",
       "0  [1, 1, 1, 1, 1, 1, 1, 1, 1, 1, 1, 1, 1, 1, 1, ...   \n",
       "1  [1, 1, 1, 1, 1, 1, 1, 1, 1, 1, 1, 1, 1, 1, 1, ...   \n",
       "2  [1, 1, 1, 1, 1, 1, 1, 1, 1, 1, 1, 1, 1, 1, 1, ...   \n",
       "3  [1, 1, 1, 1, 1, 1, 1, 1, 1, 1, 1, 1, 1, 1, 1, ...   \n",
       "4  [1, 1, 1, 1, 1, 1, 1, 1, 1, 1, 1, 1, 1, 1, 1, ...   \n",
       "\n",
       "                                 tokenized_content_y  \\\n",
       "0  [希, 望, 国, 创, 中, 心, 加, 快, 实, 体, 化, 运, 作, ,, 在, ...   \n",
       "1  [南, 海, 控, 股, (, 0, 0, 6, 8, 0, ), 内, 幕, 消, 息, ...   \n",
       "2  [摩, 通, :, 汇, 丰, 第, 二, 季, 跑, 赢, 大, 市, 留, 意, 汇, ...   \n",
       "3  [新, 明, 中, 国, (, 0, 2, 6, 9, 9, ), 内, 幕, 消, 息, ...   \n",
       "4  [中, 星, 集, 团, 控, 股, (, 0, 0, 0, 5, 5, ), 更, 换, ...   \n",
       "\n",
       "                                          label_pred  \\\n",
       "0  [O, O, O, O, O, O, O, O, O, O, O, O, O, O, O, ...   \n",
       "1  [B-Company, I-Company, I-Company, I-Company, O...   \n",
       "2  [B-Company, I-Company, O, B-Company, I-Company...   \n",
       "3  [B-Company, I-Company, I-Company, I-Company, O...   \n",
       "4  [B-Company, I-Company, I-Company, I-Company, I...   \n",
       "\n",
       "                  Company_pred Person_pred input_len  \n",
       "0             [21世纪经济报道, 东南大学]        [黄如]       646  \n",
       "1                       [南海控股]          []        64  \n",
       "2  [欧洲央行, 摩通, 李宁, 中石油, 安踏, 汇丰]          []       513  \n",
       "3                       [新明中国]          []        55  \n",
       "4                     [中星集团控股]          []       191  \n",
       "\n",
       "[5 rows x 24 columns]"
      ]
     },
     "execution_count": 17,
     "metadata": {},
     "output_type": "execute_result"
    }
   ],
   "source": [
    "df_all.head()"
   ]
  },
  {
   "cell_type": "code",
   "execution_count": 76,
   "metadata": {
    "tags": []
   },
   "outputs": [],
   "source": [
    "df_all.to_excel(df_save_path, index=False, engine='xlsxwriter')"
   ]
  },
  {
   "cell_type": "code",
   "execution_count": 60,
   "metadata": {
    "tags": []
   },
   "outputs": [
    {
     "data": {
      "text/plain": [
       "Index(['docid', 'headline', 'content', 'ner', 'matched_keywords',\n",
       "       'include_company', 'include_person', 'split_sentence_index', 'Companys',\n",
       "       'Persons', 'context_cleaned', 'person_matched', 'company_matched',\n",
       "       'context_keywords', 'sign', 'input_text', 'tokenized_content_x', 'ids',\n",
       "       'masks', 'tokenized_content_y', 'label_pred', 'Company_pred',\n",
       "       'Person_pred', 'input_len'],\n",
       "      dtype='object')"
      ]
     },
     "execution_count": 60,
     "metadata": {},
     "output_type": "execute_result"
    }
   ],
   "source": [
    "df_all.columns"
   ]
  },
  {
   "cell_type": "code",
   "execution_count": 62,
   "metadata": {
    "tags": []
   },
   "outputs": [],
   "source": [
    "from zhconv import convert\n",
    "df_all['content'] = df_all['content'].apply(lambda content: convert(content, 'zh-cn'))\n",
    "df_all.sample(200, random_state=2)[['docid', 'content', \"person_matched\", \"company_matched\", 'Company_pred', 'Person_pred']].to_excel(\"/workspace/NER/testset_sample.xlsx\", index=False)"
   ]
  },
  {
   "cell_type": "markdown",
   "metadata": {},
   "source": [
    "## eval"
   ]
  },
  {
   "cell_type": "code",
   "execution_count": 51,
   "metadata": {
    "tags": []
   },
   "outputs": [],
   "source": [
    "from evalner import partial_match"
   ]
  },
  {
   "cell_type": "code",
   "execution_count": 52,
   "metadata": {
    "tags": []
   },
   "outputs": [],
   "source": [
    "# df_all = df_all[df_all['input_len'] <= 510]\n",
    "\n",
    "df_all.reset_index(drop=True, inplace=True)"
   ]
  },
  {
   "cell_type": "code",
   "execution_count": 53,
   "metadata": {
    "tags": []
   },
   "outputs": [
    {
     "data": {
      "text/plain": [
       "(3710, 24)"
      ]
     },
     "execution_count": 53,
     "metadata": {},
     "output_type": "execute_result"
    }
   ],
   "source": [
    "df_all.shape"
   ]
  },
  {
   "cell_type": "code",
   "execution_count": 54,
   "metadata": {
    "tags": []
   },
   "outputs": [],
   "source": [
    "def findBoundary(val, text):\n",
    "    # 寻找抽取到的实体的边界索引\n",
    "    res = []\n",
    "    for i in range(0, len(text) - len(val) + 1):\n",
    "        if text[i:i + len(val)] == val:\n",
    "            res.append((i, i + len(val)))\n",
    "    return res\n",
    "\n",
    "def checkIfOverlap(pred_val, true_val, text):\n",
    "    # 检查两个实体是否部分匹配，该方法中intersec是判断两个实体的索引是否有交集，有交集即为True, 还有严格的计算标准就是是否完全匹配\n",
    "    rang_a = findBoundary(true_val, text)\n",
    "    rang_b = findBoundary(pred_val, text)\n",
    "    # print(rang_a, rang_b)\n",
    "    if len(rang_a) == 0 or len(rang_b) == 0:\n",
    "        return False\n",
    "    else:\n",
    "        for i, j in rang_a:\n",
    "            for k, m in rang_b:\n",
    "                if (i, j) == (k, m):\n",
    "                    return True\n",
    "                else:\n",
    "                    return False\n",
    "                # 计算两个实体的索引是否有交集，如果有交集即是实体部分匹配\n",
    "                # intersec = set(range(i, j)).intersection(set(range(k, m)))\n",
    "                # if len(intersec) > 0:\n",
    "                #     return True\n",
    "                # else:\n",
    "                #     return False\n",
    "                \n",
    "def partial_match(pred_list, golden_list, text):\n",
    "    precision_hit, precision_all = 0, 0\n",
    "    recall_hit, recall_all = 0, 0\n",
    "    \n",
    "    for pred in pred_list:\n",
    "        precision_all += 1\n",
    "        for golden in golden_list:\n",
    "            if checkIfOverlap(pred, golden, text):\n",
    "                precision_hit += 1\n",
    "                break\n",
    "    \n",
    "    for golden in golden_list:\n",
    "        recall_all += 1\n",
    "        for pred in pred_list:\n",
    "            if checkIfOverlap(pred, golden, text):\n",
    "                recall_hit += 1\n",
    "                break\n",
    "\n",
    "    return precision_hit, precision_all, recall_hit, recall_all\n"
   ]
  },
  {
   "cell_type": "code",
   "execution_count": 55,
   "metadata": {
    "tags": []
   },
   "outputs": [
    {
     "name": "stderr",
     "output_type": "stream",
     "text": [
      "100%|██████████| 2/2 [00:14<00:00,  7.39s/it]\n"
     ]
    }
   ],
   "source": [
    "result = {}\n",
    "for entity_type in tqdm(args.entity_type):\n",
    "    p_hit, p_all, r_hit, r_all = 0, 0, 0, 0\n",
    "    for _, row in df_all.iterrows():\n",
    "        # print(row)\n",
    "        golden_list = row[f'{entity_type}_matched'.lower()] ##\n",
    "        pred_list = row[f'{entity_type}_pred'] ##\n",
    "        # text = str(row['context_cleaned']) ##\n",
    "        text = str(row['input_text']) ##\n",
    "        # print(golden_list, pred_list, text)\n",
    "        p_hit_, p_all_, r_hit_, r_all_ = partial_match(pred_list, golden_list, text)\n",
    "        p_hit += p_hit_\n",
    "        p_all += p_all_\n",
    "        r_hit += r_hit_\n",
    "        r_all += r_all_\n",
    "    \n",
    "    p = p_hit / p_all\n",
    "    r = r_hit / r_all\n",
    "    \n",
    "    result.update(\n",
    "        {\n",
    "            f\"{entity_type}\": {\n",
    "                \"precision\": round(p, 4),\n",
    "                \"recall\": round(r, 4),\n",
    "                \"f1\": round(2 * p * r / (p + r), 4),\n",
    "                \"details\": [p_hit, p_all, r_hit, r_all]\n",
    "            }\n",
    "        }\n",
    "    )\n"
   ]
  },
  {
   "cell_type": "code",
   "execution_count": 56,
   "metadata": {
    "tags": []
   },
   "outputs": [
    {
     "data": {
      "text/plain": [
       "{'Company': {'precision': 0.7039,\n",
       "  'recall': 0.7322,\n",
       "  'f1': 0.7178,\n",
       "  'details': [6749, 9588, 6749, 9217]},\n",
       " 'Person': {'precision': 0.8594,\n",
       "  'recall': 0.838,\n",
       "  'f1': 0.8486,\n",
       "  'details': [4749, 5526, 4749, 5667]}}"
      ]
     },
     "execution_count": 56,
     "metadata": {},
     "output_type": "execute_result"
    }
   ],
   "source": [
    "result"
   ]
  },
  {
   "cell_type": "markdown",
   "metadata": {},
   "source": [
    "## precision"
   ]
  },
  {
   "cell_type": "code",
   "execution_count": 57,
   "metadata": {
    "tags": []
   },
   "outputs": [
    {
     "name": "stdout",
     "output_type": "stream",
     "text": [
      "Requirement already satisfied: fuzzywuzzy==0.18.0 in /opt/conda/lib/python3.8/site-packages (0.18.0)\n",
      "\u001b[33mWARNING: Running pip as the 'root' user can result in broken permissions and conflicting behaviour with the system package manager. It is recommended to use a virtual environment instead: https://pip.pypa.io/warnings/venv\u001b[0m\u001b[33m\n",
      "\u001b[0m\n",
      "\u001b[1m[\u001b[0m\u001b[34;49mnotice\u001b[0m\u001b[1;39;49m]\u001b[0m\u001b[39;49m A new release of pip is available: \u001b[0m\u001b[31;49m23.1\u001b[0m\u001b[39;49m -> \u001b[0m\u001b[32;49m24.0\u001b[0m\n",
      "\u001b[1m[\u001b[0m\u001b[34;49mnotice\u001b[0m\u001b[1;39;49m]\u001b[0m\u001b[39;49m To update, run: \u001b[0m\u001b[32;49mpip install --upgrade pip\u001b[0m\n"
     ]
    }
   ],
   "source": [
    "!pip install fuzzywuzzy==0.18.0"
   ]
  },
  {
   "cell_type": "code",
   "execution_count": 58,
   "metadata": {
    "tags": []
   },
   "outputs": [],
   "source": [
    "from muc import evaluate_all\n",
    "\n",
    "def run_eval4ner(df, entity_type):\n",
    "    # docid_remove = [df_row['docid'] for _, df_row in df.iterrows() if (df_row[f'{entity_type}_pred'] == []) or (df_row[\"input_len\"] > 510)] #  and (df_row[f'{entity_type}_pred'] == [])(df_row[f'{entity_type}_gt'] == [])\n",
    "    # df_eval = df[~df['docid'].isin(docid_remove)]\n",
    "    df_eval = df\n",
    "    print(\"Number of data for evaluation:\", len(df_eval))\n",
    "\n",
    "    pred = [[(f\"{entity_type}\", j.lower()) for j in i] for i in df_eval[f'{entity_type}_pred'].to_list()]\n",
    "    label_gt = [[(f\"{entity_type}\", j.lower()) for j in i] for i in df_eval[f'{entity_type}_matched'.lower()].to_list()]\n",
    "     \n",
    "    print(f\"======= {entity_type} =======\\nExample:\\npred: {pred[0]}\\nlabel: {label_gt[0]}\")\n",
    "    evaluate_all(pred, label_gt, texts=df_eval['input_text'].to_list())\n",
    "\n",
    "    print(\"\\n\\n\")"
   ]
  },
  {
   "cell_type": "code",
   "execution_count": 59,
   "metadata": {
    "tags": []
   },
   "outputs": [
    {
     "name": "stdout",
     "output_type": "stream",
     "text": [
      "Number of data for evaluation: 3710\n",
      "======= Company =======\n",
      "Example:\n",
      "pred: [('Company', '东南大学'), ('Company', '21世纪经济报道')]\n",
      "label: [('Company', '21 世纪经济报道'), ('Company', '东南大学')]\n",
      "\n",
      " NER evaluation scores:\n",
      "  strict mode, Precision=0.7008, Recall=0.7210, F1:0.6887\n",
      "   exact mode, Precision=0.7008, Recall=0.7210, F1:0.6887\n",
      " partial mode, Precision=0.7793, Recall=0.7754, F1:0.7548\n",
      "    type mode, Precision=0.7793, Recall=0.7754, F1:0.7548\n",
      " similar mode, Precision=0.7830, Recall=0.7770, F1:0.7575\n",
      "\n",
      "\n",
      "\n",
      "Number of data for evaluation: 3710\n",
      "======= Person =======\n",
      "Example:\n",
      "pred: [('Person', '黄如')]\n",
      "label: [('Person', '黄如')]\n",
      "\n",
      " NER evaluation scores:\n",
      "  strict mode, Precision=0.8713, Recall=0.8717, F1:0.8633\n",
      "   exact mode, Precision=0.8713, Recall=0.8717, F1:0.8633\n",
      " partial mode, Precision=0.8843, Recall=0.8809, F1:0.8745\n",
      "    type mode, Precision=0.8843, Recall=0.8809, F1:0.8745\n",
      " similar mode, Precision=0.8883, Recall=0.8848, F1:0.8783\n",
      "\n",
      "\n",
      "\n"
     ]
    }
   ],
   "source": [
    "for entity_type in args.entity_type:\n",
    "    run_eval4ner(df_all, entity_type)"
   ]
  },
  {
   "cell_type": "markdown",
   "metadata": {},
   "source": [
    "## recall"
   ]
  },
  {
   "cell_type": "code",
   "execution_count": 111,
   "metadata": {
    "tags": []
   },
   "outputs": [],
   "source": [
    "from muc import evaluate_all\n",
    "\n",
    "def run_eval4ner(df, entity_type):\n",
    "    docid_remove_gt = [df_row['docid'] for _, df_row in df.iterrows() if (df_row[f'{entity_type}_matched'.lower()] == []) or (df_row[\"input_len\"] > 510)] #  and (df_row[f'{entity_type}_pred'] == [])(df_row[f'{entity_type}_gt'] == [])\n",
    "  \n",
    "    df_eval_gt = df[~df['docid'].isin(docid_remove_gt)]\n",
    " \n",
    "    print(\"Number of data for evaluation:\", len(df_eval_gt))\n",
    " \n",
    "    pred_gpt = [[(f\"{entity_type}\", j.lower()) for j in i] for i in df_eval_gt[f'{entity_type}_pred'].to_list()]\n",
    "    label_gpt = [[(f\"{entity_type}\", j.lower()) for j in i] for i in df_eval_gt[f'{entity_type}_matched'.lower()].to_list()]\n",
    "   \n",
    "    print(f\"======= {entity_type} =======\\nExample:\\npred: {pred_gpt[0]}\\nGPT: {label_gpt[0]}\")\n",
    "    evaluate_all(pred_gpt, label_gpt, texts=df_eval_gt['input_text'].to_list())\n",
    "\n",
    "    print(\"\\n\\n\")"
   ]
  },
  {
   "cell_type": "code",
   "execution_count": 112,
   "metadata": {
    "tags": []
   },
   "outputs": [
    {
     "name": "stdout",
     "output_type": "stream",
     "text": [
      "Number of data for evaluation: 1411\n",
      "======= Company =======\n",
      "Example:\n",
      "pred: [('Company', '南海控股')]\n",
      "GPT: [('Company', '南海控股')]\n",
      "\n",
      " NER evaluation scores:\n",
      "  strict mode, Precision=0.7036, Recall=0.7383, F1:0.6958\n",
      "   exact mode, Precision=0.7036, Recall=0.7383, F1:0.6958\n",
      " partial mode, Precision=0.8011, Recall=0.8065, F1:0.7788\n",
      "    type mode, Precision=0.8011, Recall=0.8065, F1:0.7788\n",
      " similar mode, Precision=0.8066, Recall=0.8087, F1:0.7828\n",
      "\n",
      "\n",
      "\n",
      "Number of data for evaluation: 1057\n",
      "======= Person =======\n",
      "Example:\n",
      "pred: [('Person', '徐裕民')]\n",
      "GPT: [('Person', '徐裕民')]\n",
      "\n",
      " NER evaluation scores:\n",
      "  strict mode, Precision=0.8398, Recall=0.8509, F1:0.8320\n",
      "   exact mode, Precision=0.8398, Recall=0.8509, F1:0.8320\n",
      " partial mode, Precision=0.8627, Recall=0.8679, F1:0.8520\n",
      "    type mode, Precision=0.8627, Recall=0.8679, F1:0.8520\n",
      " similar mode, Precision=0.8696, Recall=0.8745, F1:0.8588\n",
      "\n",
      "\n",
      "\n"
     ]
    }
   ],
   "source": [
    "for entity_type in args.entity_type:\n",
    "    run_eval4ner(df_all, entity_type)"
   ]
  },
  {
   "cell_type": "code",
   "execution_count": 18,
   "metadata": {},
   "outputs": [
    {
     "data": {
      "text/plain": [
       "0.9610486239009417"
      ]
     },
     "execution_count": 18,
     "metadata": {},
     "output_type": "execute_result"
    }
   ],
   "source": [
    "def compute_f1(p, r):\n",
    "    return 2*p*r / (p + r)\n",
    "\n",
    "compute_f1(0.9599, 0.9622)"
   ]
  },
  {
   "cell_type": "markdown",
   "metadata": {
    "tags": []
   },
   "source": [
    "# 对badcase数据集进行当前模型的测试"
   ]
  },
  {
   "cell_type": "code",
   "execution_count": 118,
   "metadata": {
    "tags": []
   },
   "outputs": [],
   "source": [
    "badcase_data = pd.read_excel(\"/workspace/client_project/poc/bochk/badcase/bochk_uat_20240410_ner.xlsx\")"
   ]
  },
  {
   "cell_type": "code",
   "execution_count": 120,
   "metadata": {
    "tags": []
   },
   "outputs": [
    {
     "data": {
      "text/plain": [
       "[{'doc_id': 2023120100000939360,\n",
       "  'headline': '英再有城市破產 諾定咸超支2.3億',\n",
       "  'content': '\\n繼英國第二大城市伯明翰市議會9月初宣布破產後，英國中部城市諾定咸（Nottingham）市議會也於周三（29日）宣布破產，當局歸因於福利需求上升及通脹等全國性因素。\\n\\n事實上，市議會在理財上一直為人詬病，\\n\\n...\\n\\n訂閱hket.com即送 GNC男士綜合維他命加強版 (價值$268)\\n\\n詳情\\n\\n登入了解詳情\\n',\n",
       "  'ner_label_type': 'Company',\n",
       "  'ner_keyword': 'Nottingham'},\n",
       " {'doc_id': 2023120100001090313,\n",
       "  'headline': '中央谷長三角 寧滬盈利復增',\n",
       "  'content': '  江蘇寧滬高速（00177）主業務是收費路橋的投資、建設、營運和管理，經營區域在長江三角洲，是江蘇省唯一上市路橋公司。而公司盈利經過2022年倒退後，今年可以恢復增長，中央重申推動長江經濟帶高質量發展，   訂閱hket.com即送 GNC男士綜合維他命加強版 (價值$268) 詳情 \\n\\n 登入 \\n\\n 了解詳情 \\n\\n 撰文 : 余少文 \\n\\n 欄名 : 中字股實力談\\n',\n",
       "  'ner_label_type': 'Company',\n",
       "  'ner_keyword': '江蘇寧滬高速'}]"
      ]
     },
     "execution_count": 120,
     "metadata": {},
     "output_type": "execute_result"
    }
   ],
   "source": [
    "badcase_data.head(2).to_dict(\"records\")"
   ]
  },
  {
   "cell_type": "markdown",
   "metadata": {},
   "source": [
    "# 使用新接口对测试集进行ner打标并统计结果"
   ]
  },
  {
   "cell_type": "code",
   "execution_count": 19,
   "metadata": {
    "tags": []
   },
   "outputs": [
    {
     "data": {
      "text/html": [
       "<div>\n",
       "<style scoped>\n",
       "    .dataframe tbody tr th:only-of-type {\n",
       "        vertical-align: middle;\n",
       "    }\n",
       "\n",
       "    .dataframe tbody tr th {\n",
       "        vertical-align: top;\n",
       "    }\n",
       "\n",
       "    .dataframe thead th {\n",
       "        text-align: right;\n",
       "    }\n",
       "</style>\n",
       "<table border=\"1\" class=\"dataframe\">\n",
       "  <thead>\n",
       "    <tr style=\"text-align: right;\">\n",
       "      <th></th>\n",
       "      <th>docid</th>\n",
       "      <th>headline</th>\n",
       "      <th>content</th>\n",
       "      <th>ner</th>\n",
       "      <th>matched_keywords</th>\n",
       "      <th>include_company</th>\n",
       "      <th>include_person</th>\n",
       "      <th>split_sentence_index</th>\n",
       "      <th>Companys</th>\n",
       "      <th>Persons</th>\n",
       "      <th>context_cleaned</th>\n",
       "      <th>person_matched</th>\n",
       "      <th>company_matched</th>\n",
       "      <th>context_keywords</th>\n",
       "      <th>sign</th>\n",
       "      <th>input_text</th>\n",
       "      <th>tokenized_content</th>\n",
       "      <th>ids</th>\n",
       "      <th>masks</th>\n",
       "    </tr>\n",
       "  </thead>\n",
       "  <tbody>\n",
       "    <tr>\n",
       "      <th>0</th>\n",
       "      <td>2023063021774796605&amp;&amp;2</td>\n",
       "      <td>NaN</td>\n",
       "      <td>希望国创中心加快实体化运作,在理事会领导下高效执行、快速起跑,全力推动各项工作有序开展,真正...</td>\n",
       "      <td>[{'label_name': 'Company', 'text_segment': '21...</td>\n",
       "      <td>['21 世纪经济报道', '东南大学', '黄如']</td>\n",
       "      <td>True</td>\n",
       "      <td>True</td>\n",
       "      <td>2</td>\n",
       "      <td>['21 世纪经济报道', '东南大学']</td>\n",
       "      <td>['黄如']</td>\n",
       "      <td>希望国创中心加快实体化运作,在理事会领导下高效执行、快速起跑,全力推动各项工作有序开展,真正...</td>\n",
       "      <td>[黄如]</td>\n",
       "      <td>[21 世纪经济报道, 东南大学]</td>\n",
       "      <td>希望国创中心加快实体化运作,在理事会领导下高效执行、快速起跑,全力推动各项工作有序开展,真正...</td>\n",
       "      <td>False</td>\n",
       "      <td>希望国创中心加快实体化运作,在理事会领导下高效执行、快速起跑,全力推动各项工作有序开展,真正...</td>\n",
       "      <td>[希, 望, 国, 创, 中, 心, 加, 快, 实, 体, 化, 运, 作, ,, 在, ...</td>\n",
       "      <td>[101, 2361, 3307, 1744, 1158, 704, 2552, 1217,...</td>\n",
       "      <td>[1, 1, 1, 1, 1, 1, 1, 1, 1, 1, 1, 1, 1, 1, 1, ...</td>\n",
       "    </tr>\n",
       "    <tr>\n",
       "      <th>1</th>\n",
       "      <td>2023063021774797841&amp;&amp;0</td>\n",
       "      <td>NaN</td>\n",
       "      <td>南海控股(00680) 内幕消息 / 其他-业务发展最新情况。南海控股(00680) 暂停买...</td>\n",
       "      <td>[{'label_name': 'Company', 'text_segment': '南海...</td>\n",
       "      <td>['南海控股']</td>\n",
       "      <td>True</td>\n",
       "      <td>True</td>\n",
       "      <td>0</td>\n",
       "      <td>['南海控股']</td>\n",
       "      <td>[]</td>\n",
       "      <td>南海控股(00680) 内幕消息 / 其他-业务发展最新情况。南海控股(00680) 暂停买...</td>\n",
       "      <td>[]</td>\n",
       "      <td>[南海控股]</td>\n",
       "      <td>南海控股(00680) 内幕消息 / 其他-业务发展最新情况。||可能的实体：南海控股||南...</td>\n",
       "      <td>False</td>\n",
       "      <td>南海控股(00680) 内幕消息 / 其他-业务发展最新情况。南海控股(00680) 暂停买...</td>\n",
       "      <td>[南, 海, 控, 股, (, 0, 0, 6, 8, 0, ), 内, 幕, 消, 息, ...</td>\n",
       "      <td>[101, 1298, 3862, 2971, 5500, 113, 121, 121, 1...</td>\n",
       "      <td>[1, 1, 1, 1, 1, 1, 1, 1, 1, 1, 1, 1, 1, 1, 1, ...</td>\n",
       "    </tr>\n",
       "    <tr>\n",
       "      <th>2</th>\n",
       "      <td>2023063021774797850&amp;&amp;0</td>\n",
       "      <td>NaN</td>\n",
       "      <td>摩通:汇丰第二季跑赢大市 留意汇丰购15597/沽16568。今日 15:48。摩通:汇丰第...</td>\n",
       "      <td>[{'label_name': 'Company', 'text_segment': '摩通...</td>\n",
       "      <td>['联储局', '摩通', '中石油', '汇丰', '安踏', '欧洲央行', '李宁']</td>\n",
       "      <td>True</td>\n",
       "      <td>True</td>\n",
       "      <td>0</td>\n",
       "      <td>['联储局', '摩通', '中石油', '汇丰', '安踏', '欧洲央行', '李宁']</td>\n",
       "      <td>[]</td>\n",
       "      <td>摩通:汇丰第二季跑赢大市 留意汇丰购15597/沽16568。今日 15:48。摩通:汇丰第...</td>\n",
       "      <td>[]</td>\n",
       "      <td>[联储局, 摩通, 中石油, 汇丰, 安踏, 欧洲央行, 李宁]</td>\n",
       "      <td>摩通:汇丰第二季跑赢大市 留意汇丰购15597/沽16568。||可能的实体：摩通,汇丰||...</td>\n",
       "      <td>False</td>\n",
       "      <td>摩通:汇丰第二季跑赢大市 留意汇丰购15597/沽16568。今日 15:48。摩通:汇丰第...</td>\n",
       "      <td>[摩, 通, :, 汇, 丰, 第, 二, 季, 跑, 赢, 大, 市, 留, 意, 汇, ...</td>\n",
       "      <td>[101, 3040, 6858, 131, 3726, 705, 5018, 753, 2...</td>\n",
       "      <td>[1, 1, 1, 1, 1, 1, 1, 1, 1, 1, 1, 1, 1, 1, 1, ...</td>\n",
       "    </tr>\n",
       "    <tr>\n",
       "      <th>3</th>\n",
       "      <td>2023063021774798050&amp;&amp;0</td>\n",
       "      <td>NaN</td>\n",
       "      <td>新明中国(02699) 内幕消息 / 停牌。新明中国(02699) 复牌进度的季度更新(30...</td>\n",
       "      <td>[{'label_name': 'Company', 'text_segment': '新明...</td>\n",
       "      <td>['新明中国']</td>\n",
       "      <td>True</td>\n",
       "      <td>True</td>\n",
       "      <td>0</td>\n",
       "      <td>['新明中国']</td>\n",
       "      <td>[]</td>\n",
       "      <td>新明中国(02699) 内幕消息 / 停牌。新明中国(02699) 复牌进度的季度更新(30...</td>\n",
       "      <td>[]</td>\n",
       "      <td>[新明中国]</td>\n",
       "      <td>新明中国(02699) 内幕消息 / 停牌。||可能的实体：新明中国||新明中国(02699...</td>\n",
       "      <td>False</td>\n",
       "      <td>新明中国(02699) 内幕消息 / 停牌。新明中国(02699) 复牌进度的季度更新(30...</td>\n",
       "      <td>[新, 明, 中, 国, (, 0, 2, 6, 9, 9, ), 内, 幕, 消, 息, ...</td>\n",
       "      <td>[101, 3173, 3209, 704, 1744, 113, 121, 123, 12...</td>\n",
       "      <td>[1, 1, 1, 1, 1, 1, 1, 1, 1, 1, 1, 1, 1, 1, 1, ...</td>\n",
       "    </tr>\n",
       "    <tr>\n",
       "      <th>4</th>\n",
       "      <td>2023063021774805618&amp;&amp;0</td>\n",
       "      <td>NaN</td>\n",
       "      <td>中星集团控股(00055) 更换董事或重要行政职能或职责的变更 / 更换审核委员会成员 / ...</td>\n",
       "      <td>[{'label_name': 'Company', 'text_segment': '中星...</td>\n",
       "      <td>['中星集团控股']</td>\n",
       "      <td>True</td>\n",
       "      <td>True</td>\n",
       "      <td>0</td>\n",
       "      <td>['中星集团控股']</td>\n",
       "      <td>[]</td>\n",
       "      <td>中星集团控股(00055) 更换董事或重要行政职能或职责的变更 / 更换审核委员会成员 / ...</td>\n",
       "      <td>[]</td>\n",
       "      <td>[中星集团控股]</td>\n",
       "      <td>中星集团控股(00055) 更换董事或重要行政职能或职责的变更 / 更换审核委员会成员 / ...</td>\n",
       "      <td>False</td>\n",
       "      <td>中星集团控股(00055) 更换董事或重要行政职能或职责的变更 / 更换审核委员会成员 / ...</td>\n",
       "      <td>[中, 星, 集, 团, 控, 股, (, 0, 0, 0, 5, 5, ), 更, 换, ...</td>\n",
       "      <td>[101, 704, 3215, 7415, 1730, 2971, 5500, 113, ...</td>\n",
       "      <td>[1, 1, 1, 1, 1, 1, 1, 1, 1, 1, 1, 1, 1, 1, 1, ...</td>\n",
       "    </tr>\n",
       "  </tbody>\n",
       "</table>\n",
       "</div>"
      ],
      "text/plain": [
       "                    docid  headline  \\\n",
       "0  2023063021774796605&&2       NaN   \n",
       "1  2023063021774797841&&0       NaN   \n",
       "2  2023063021774797850&&0       NaN   \n",
       "3  2023063021774798050&&0       NaN   \n",
       "4  2023063021774805618&&0       NaN   \n",
       "\n",
       "                                             content  \\\n",
       "0  希望国创中心加快实体化运作,在理事会领导下高效执行、快速起跑,全力推动各项工作有序开展,真正...   \n",
       "1  南海控股(00680) 内幕消息 / 其他-业务发展最新情况。南海控股(00680) 暂停买...   \n",
       "2  摩通:汇丰第二季跑赢大市 留意汇丰购15597/沽16568。今日 15:48。摩通:汇丰第...   \n",
       "3  新明中国(02699) 内幕消息 / 停牌。新明中国(02699) 复牌进度的季度更新(30...   \n",
       "4  中星集团控股(00055) 更换董事或重要行政职能或职责的变更 / 更换审核委员会成员 / ...   \n",
       "\n",
       "                                                 ner  \\\n",
       "0  [{'label_name': 'Company', 'text_segment': '21...   \n",
       "1  [{'label_name': 'Company', 'text_segment': '南海...   \n",
       "2  [{'label_name': 'Company', 'text_segment': '摩通...   \n",
       "3  [{'label_name': 'Company', 'text_segment': '新明...   \n",
       "4  [{'label_name': 'Company', 'text_segment': '中星...   \n",
       "\n",
       "                                 matched_keywords  include_company  \\\n",
       "0                     ['21 世纪经济报道', '东南大学', '黄如']             True   \n",
       "1                                        ['南海控股']             True   \n",
       "2  ['联储局', '摩通', '中石油', '汇丰', '安踏', '欧洲央行', '李宁']             True   \n",
       "3                                        ['新明中国']             True   \n",
       "4                                      ['中星集团控股']             True   \n",
       "\n",
       "   include_person  split_sentence_index  \\\n",
       "0            True                     2   \n",
       "1            True                     0   \n",
       "2            True                     0   \n",
       "3            True                     0   \n",
       "4            True                     0   \n",
       "\n",
       "                                         Companys Persons  \\\n",
       "0                           ['21 世纪经济报道', '东南大学']  ['黄如']   \n",
       "1                                        ['南海控股']      []   \n",
       "2  ['联储局', '摩通', '中石油', '汇丰', '安踏', '欧洲央行', '李宁']      []   \n",
       "3                                        ['新明中国']      []   \n",
       "4                                      ['中星集团控股']      []   \n",
       "\n",
       "                                     context_cleaned person_matched  \\\n",
       "0  希望国创中心加快实体化运作,在理事会领导下高效执行、快速起跑,全力推动各项工作有序开展,真正...           [黄如]   \n",
       "1  南海控股(00680) 内幕消息 / 其他-业务发展最新情况。南海控股(00680) 暂停买...             []   \n",
       "2  摩通:汇丰第二季跑赢大市 留意汇丰购15597/沽16568。今日 15:48。摩通:汇丰第...             []   \n",
       "3  新明中国(02699) 内幕消息 / 停牌。新明中国(02699) 复牌进度的季度更新(30...             []   \n",
       "4  中星集团控股(00055) 更换董事或重要行政职能或职责的变更 / 更换审核委员会成员 / ...             []   \n",
       "\n",
       "                    company_matched  \\\n",
       "0                 [21 世纪经济报道, 东南大学]   \n",
       "1                            [南海控股]   \n",
       "2  [联储局, 摩通, 中石油, 汇丰, 安踏, 欧洲央行, 李宁]   \n",
       "3                            [新明中国]   \n",
       "4                          [中星集团控股]   \n",
       "\n",
       "                                    context_keywords   sign  \\\n",
       "0  希望国创中心加快实体化运作,在理事会领导下高效执行、快速起跑,全力推动各项工作有序开展,真正...  False   \n",
       "1  南海控股(00680) 内幕消息 / 其他-业务发展最新情况。||可能的实体：南海控股||南...  False   \n",
       "2  摩通:汇丰第二季跑赢大市 留意汇丰购15597/沽16568。||可能的实体：摩通,汇丰||...  False   \n",
       "3  新明中国(02699) 内幕消息 / 停牌。||可能的实体：新明中国||新明中国(02699...  False   \n",
       "4  中星集团控股(00055) 更换董事或重要行政职能或职责的变更 / 更换审核委员会成员 / ...  False   \n",
       "\n",
       "                                          input_text  \\\n",
       "0  希望国创中心加快实体化运作,在理事会领导下高效执行、快速起跑,全力推动各项工作有序开展,真正...   \n",
       "1  南海控股(00680) 内幕消息 / 其他-业务发展最新情况。南海控股(00680) 暂停买...   \n",
       "2  摩通:汇丰第二季跑赢大市 留意汇丰购15597/沽16568。今日 15:48。摩通:汇丰第...   \n",
       "3  新明中国(02699) 内幕消息 / 停牌。新明中国(02699) 复牌进度的季度更新(30...   \n",
       "4  中星集团控股(00055) 更换董事或重要行政职能或职责的变更 / 更换审核委员会成员 / ...   \n",
       "\n",
       "                                   tokenized_content  \\\n",
       "0  [希, 望, 国, 创, 中, 心, 加, 快, 实, 体, 化, 运, 作, ,, 在, ...   \n",
       "1  [南, 海, 控, 股, (, 0, 0, 6, 8, 0, ), 内, 幕, 消, 息, ...   \n",
       "2  [摩, 通, :, 汇, 丰, 第, 二, 季, 跑, 赢, 大, 市, 留, 意, 汇, ...   \n",
       "3  [新, 明, 中, 国, (, 0, 2, 6, 9, 9, ), 内, 幕, 消, 息, ...   \n",
       "4  [中, 星, 集, 团, 控, 股, (, 0, 0, 0, 5, 5, ), 更, 换, ...   \n",
       "\n",
       "                                                 ids  \\\n",
       "0  [101, 2361, 3307, 1744, 1158, 704, 2552, 1217,...   \n",
       "1  [101, 1298, 3862, 2971, 5500, 113, 121, 121, 1...   \n",
       "2  [101, 3040, 6858, 131, 3726, 705, 5018, 753, 2...   \n",
       "3  [101, 3173, 3209, 704, 1744, 113, 121, 123, 12...   \n",
       "4  [101, 704, 3215, 7415, 1730, 2971, 5500, 113, ...   \n",
       "\n",
       "                                               masks  \n",
       "0  [1, 1, 1, 1, 1, 1, 1, 1, 1, 1, 1, 1, 1, 1, 1, ...  \n",
       "1  [1, 1, 1, 1, 1, 1, 1, 1, 1, 1, 1, 1, 1, 1, 1, ...  \n",
       "2  [1, 1, 1, 1, 1, 1, 1, 1, 1, 1, 1, 1, 1, 1, 1, ...  \n",
       "3  [1, 1, 1, 1, 1, 1, 1, 1, 1, 1, 1, 1, 1, 1, 1, ...  \n",
       "4  [1, 1, 1, 1, 1, 1, 1, 1, 1, 1, 1, 1, 1, 1, 1, ...  "
      ]
     },
     "execution_count": 19,
     "metadata": {},
     "output_type": "execute_result"
    }
   ],
   "source": [
    "df_test.head()"
   ]
  },
  {
   "cell_type": "code",
   "execution_count": 25,
   "metadata": {
    "tags": []
   },
   "outputs": [
    {
     "name": "stderr",
     "output_type": "stream",
     "text": [
      "/tmp/ipykernel_38289/899229823.py:3: FutureWarning: Using short name for 'orient' is deprecated. Only the options: ('dict', list, 'series', 'split', 'records', 'index') will be used in a future version. Use one of the above to silence this warning.\n",
      "  df_test_list = df_test.to_dict('record')\n",
      "100%|██████████| 3710/3710 [04:09<00:00, 14.87it/s]\n"
     ]
    }
   ],
   "source": [
    "from tqdm import tqdm\n",
    "import requests\n",
    "df_test_list = df_test.to_dict('record')\n",
    "# url = \"http://ess76.wisers.com:13352/ner/content\"\n",
    "\n",
    "url = \"http://ess73.wisers.com:13347/ner/content\"\n",
    "ner_tag_result = []\n",
    "for row in tqdm(df_test_list):\n",
    "    input_param = {\n",
    "        \"docid\": row['docid'],\n",
    "        \"content\": row[\"content\"],\n",
    "        \"add_keywords\": False\n",
    "    }\n",
    "    response = requests.post(url, json=input_param)\n",
    "    try:\n",
    "        if response.status_code == 200:\n",
    "            result = response.json()\n",
    "            ner_result = result['retData']\n",
    "            dict_matched_company = []\n",
    "            dict_matched_person = []\n",
    "            algorithm_matched_company = []\n",
    "            algorithm_matched_person = []\n",
    "\n",
    "            for info in ner_result['text']:\n",
    "                if info['label_name'] == 'Company':\n",
    "                    if info['resource'] == 'Algorithm prediction':\n",
    "                        algorithm_matched_company.append(info['text_segment'])\n",
    "                    elif info['resource'] == \"Dictionary matching\":\n",
    "                        dict_matched_company.append(info['text_segment'])\n",
    "                elif info['label_name'] == 'Person':\n",
    "                    if info['resource'] == 'Algorithm prediction':\n",
    "                        algorithm_matched_person.append(info['text_segment'])\n",
    "                    elif info['resource'] == \"Dictionary matching\":\n",
    "                        dict_matched_person.append(info['text_segment'])\n",
    "                        \n",
    "            ner_tag_result.append({\n",
    "                \"docid\": row['docid'],\n",
    "                \"dict_matched_company\": dict_matched_company,\n",
    "                \"dict_matched_person\": dict_matched_person,\n",
    "                \"algorithm_matched_company\": algorithm_matched_company,\n",
    "                \"algorithm_matched_person\": algorithm_matched_person,\n",
    "            })\n",
    "    except Exception as e:\n",
    "        print(e, response)\n",
    "\n",
    "                        \n",
    "    \n",
    "        "
   ]
  },
  {
   "cell_type": "code",
   "execution_count": 26,
   "metadata": {
    "tags": []
   },
   "outputs": [],
   "source": [
    "ner_tag_add_origin_data = df_test.merge(pd.DataFrame(ner_tag_result), on='docid', how='left')"
   ]
  },
  {
   "cell_type": "code",
   "execution_count": 27,
   "metadata": {
    "tags": []
   },
   "outputs": [
    {
     "data": {
      "text/plain": [
       "Index(['docid', 'headline', 'content', 'ner', 'matched_keywords',\n",
       "       'include_company', 'include_person', 'split_sentence_index', 'Companys',\n",
       "       'Persons', 'context_cleaned', 'person_matched', 'company_matched',\n",
       "       'context_keywords', 'sign', 'input_text', 'tokenized_content', 'ids',\n",
       "       'masks', 'dict_matched_company', 'dict_matched_person',\n",
       "       'algorithm_matched_company', 'algorithm_matched_person'],\n",
       "      dtype='object')"
      ]
     },
     "execution_count": 27,
     "metadata": {},
     "output_type": "execute_result"
    }
   ],
   "source": [
    "ner_tag_add_origin_data.columns"
   ]
  },
  {
   "cell_type": "code",
   "execution_count": null,
   "metadata": {},
   "outputs": [],
   "source": [
    "ner_tag_add_origin_data[\"company_pred\"] = ner_tag_add_origin_data['algorithm_matched_company']\n",
    "ner_tag_add_origin_data[\"person_pred\"] = ner_tag_add_origin_data['algorithm_matched_person']\n",
    "\n",
    "for entity_type in args.entity_type:\n",
    "    run_eval4ner(ner_tag_add_origin_data, entity_type)"
   ]
  }
 ],
 "metadata": {
  "kernelspec": {
   "display_name": "Python 3 (ipykernel)",
   "language": "python",
   "name": "python3"
  },
  "language_info": {
   "codemirror_mode": {
    "name": "ipython",
    "version": 3
   },
   "file_extension": ".py",
   "mimetype": "text/x-python",
   "name": "python",
   "nbconvert_exporter": "python",
   "pygments_lexer": "ipython3",
   "version": "3.8.12"
  }
 },
 "nbformat": 4,
 "nbformat_minor": 4
}
